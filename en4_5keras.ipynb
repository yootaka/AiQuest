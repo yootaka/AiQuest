{
  "nbformat": 4,
  "nbformat_minor": 0,
  "metadata": {
    "colab": {
      "name": "en4#5keras.ipynb",
      "provenance": [],
      "authorship_tag": "ABX9TyMCnWCwWnrDTaRGSdxmxC+1",
      "include_colab_link": true
    },
    "kernelspec": {
      "name": "python3",
      "display_name": "Python 3"
    }
  },
  "cells": [
    {
      "cell_type": "markdown",
      "metadata": {
        "id": "view-in-github",
        "colab_type": "text"
      },
      "source": [
        "<a href=\"https://colab.research.google.com/github/yootaka/AiQuest/blob/main/en4_5keras.ipynb\" target=\"_parent\"><img src=\"https://colab.research.google.com/assets/colab-badge.svg\" alt=\"Open In Colab\"/></a>"
      ]
    },
    {
      "cell_type": "code",
      "metadata": {
        "id": "MssjraBmKhWf"
      },
      "source": [
        "from keras.datasets import mnist\n",
        "from keras.utils import to_categorical\n",
        "\n",
        "from keras.layers import Dense\n",
        "from keras.models import Sequential\n",
        "from keras.models import load_model\n",
        "\n",
        "import matplotlib.pyplot as plt\n",
        "from PIL import Image\n",
        "import os\n",
        "import numpy as np\n",
        "from sklearn.model_selection import train_test_split"
      ],
      "execution_count": 1,
      "outputs": []
    },
    {
      "cell_type": "code",
      "metadata": {
        "id": "frIfmWrRKxXd",
        "outputId": "664cbaf3-aa4b-4ead-f6e6-deccc9802f9a",
        "colab": {
          "base_uri": "https://localhost:8080/"
        }
      },
      "source": [
        "# Google ドライブをマウント\n",
        "from google.colab import drive\n",
        "drive.mount('/content/drive')"
      ],
      "execution_count": 2,
      "outputs": [
        {
          "output_type": "stream",
          "text": [
            "Mounted at /content/drive\n"
          ],
          "name": "stdout"
        }
      ]
    },
    {
      "cell_type": "code",
      "metadata": {
        "id": "hcZJE6yXLYX7"
      },
      "source": [
        "X = []\n",
        "Y = []\n",
        "\n",
        "folder_path = \"/content/drive/My Drive/Colab Notebooks/AiQuest/en4/train/\"\n",
        "file_list = os.listdir(folder_path)"
      ],
      "execution_count": 5,
      "outputs": []
    },
    {
      "cell_type": "code",
      "metadata": {
        "id": "LDPUQ49XMoUv",
        "outputId": "7e017223-3caa-4773-9537-3cd4a360d60f",
        "colab": {
          "base_uri": "https://localhost:8080/"
        }
      },
      "source": [
        "print(file_list) #ファイル確認"
      ],
      "execution_count": 6,
      "outputs": [
        {
          "output_type": "stream",
          "text": [
            "['bridge_000.jpeg', 'bridge_001.jpeg', 'bridge_003.jpeg', 'bridge_002.jpeg', 'bridge_005.jpeg', 'bridge_004.jpeg', 'bridge_006.jpeg', 'bridge_007.jpeg', 'bridge_009.jpeg', 'bridge_008.jpeg', 'bridge_011.jpeg', 'bridge_010.jpeg', 'bridge_013.jpeg', 'bridge_012.jpeg', 'bridge_014.jpeg', 'bridge_015.jpeg', 'bridge_016.jpeg', 'bridge_017.jpeg', 'bridge_018.jpeg', 'bridge_019.jpeg', 'bridge_020.jpeg', 'bridge_021.jpeg', 'bridge_022.jpeg', 'horn_000.jpeg', 'horn_001.jpeg', 'horn_002.jpeg', 'horn_003.jpeg', 'horn_006.jpeg', 'horn_005.jpeg', 'horn_004.jpeg', 'horn_007.jpeg', 'horn_008.jpeg', 'horn_009.jpeg', 'horn_010.jpeg', 'horn_011.jpeg', 'horn_013.jpeg', 'horn_012.jpeg', 'horn_014.jpeg', 'horn_015.jpeg', 'horn_017.jpeg', 'horn_016.jpeg', 'horn_018.jpeg', 'horn_019.jpeg', 'horn_020.jpeg', 'horn_022.jpeg', 'horn_021.jpeg', 'horn_023.jpeg', 'horn_025.jpeg', 'horn_024.jpeg', 'horn_026.jpeg', 'horn_027.jpeg', 'horn_028.jpeg', 'horn_029.jpeg', 'horn_030.jpeg', 'horn_031.jpeg', 'horn_033.jpeg', 'horn_032.jpeg', 'horn_036.jpeg', 'horn_034.jpeg', 'horn_035.jpeg', 'potato_000.jpeg', 'potato_001.jpeg', 'potato_002.jpeg', 'potato_003.jpeg', 'potato_005.jpeg', 'potato_004.jpeg', 'potato_006.jpeg', 'potato_007.jpeg', 'potato_008.jpeg', 'potato_009.jpeg', 'potato_010.jpeg', 'potato_011.jpeg', 'potato_012.jpeg', 'potato_013.jpeg', 'potato_015.jpeg', 'potato_014.jpeg', 'potato_017.jpeg', 'potato_016.jpeg', 'potato_018.jpeg', 'potato_019.jpeg', 'potato_020.jpeg', 'potato_021.jpeg', 'potato_022.jpeg', 'potato_023.jpeg', 'potato_024.jpeg', 'potato_025.jpeg', 'potato_026.jpeg', 'potato_027.jpeg', 'potato_028.jpeg', 'potato_030.jpeg', 'potato_029.jpeg', 'potato_031.jpeg', 'potato_032.jpeg', 'potato_035.jpeg', 'potato_034.jpeg', 'potato_033.jpeg', 'potato_036.jpeg', 'potato_037.jpeg', 'potato_038.jpeg', 'potato_039.jpeg', 'potato_040.jpeg', 'potato_041.jpeg', 'potato_042.jpeg', 'potato_044.jpeg', 'potato_046.jpeg', 'potato_045.jpeg', 'potato_047.jpeg', 'potato_048.jpeg', 'potato_049.jpeg', 'potato_050.jpeg', 'potato_051.jpeg', 'potato_052.jpeg', 'potato_054.jpeg', 'potato_053.jpeg', 'potato_055.jpeg', 'potato_056.jpeg', 'potato_057.jpeg', 'potato_058.jpeg', 'potato_060.jpeg', 'potato_059.jpeg', 'potato_061.jpeg', 'potato_062.jpeg', 'potato_063.jpeg', 'potato_064.jpeg', 'regular_000.jpeg', 'regular_002.jpeg', 'regular_001.jpeg', 'regular_004.jpeg', 'regular_003.jpeg', 'regular_005.jpeg', 'regular_006.jpeg', 'regular_008.jpeg', 'regular_007.jpeg', 'regular_009.jpeg', 'regular_010.jpeg', 'regular_011.jpeg', 'regular_012.jpeg', 'regular_013.jpeg', 'regular_014.jpeg', 'regular_015.jpeg', 'regular_016.jpeg', 'regular_017.jpeg', 'regular_018.jpeg', 'regular_019.jpeg', 'regular_021.jpeg', 'regular_020.jpeg', 'regular_023.jpeg', 'regular_022.jpeg', 'regular_025.jpeg', 'regular_024.jpeg', 'regular_027.jpeg', 'regular_026.jpeg', 'regular_029.jpeg', 'regular_028.jpeg', 'regular_030.jpeg', 'regular_031.jpeg', 'regular_034.jpeg', 'regular_032.jpeg', 'regular_033.jpeg', 'regular_036.jpeg', 'regular_035.jpeg', 'regular_037.jpeg', 'regular_038.jpeg', 'regular_039.jpeg', 'regular_040.jpeg', 'regular_041.jpeg', 'regular_042.jpeg', 'regular_044.jpeg', 'regular_043.jpeg', 'regular_045.jpeg', 'regular_046.jpeg', 'regular_047.jpeg', 'regular_048.jpeg', 'regular_049.jpeg', 'regular_050.jpeg', 'regular_051.jpeg', 'regular_052.jpeg', 'regular_053.jpeg', 'regular_055.jpeg', 'regular_054.jpeg', 'regular_056.jpeg', 'regular_057.jpeg', 'regular_058.jpeg', 'regular_059.jpeg', 'regular_060.jpeg', 'regular_061.jpeg', 'regular_062.jpeg', 'regular_063.jpeg', 'regular_064.jpeg', 'bridge_023.jpeg', 'bridge_024.jpeg', 'bridge_025.jpeg', 'bridge_026.jpeg', 'bridge_027.jpeg', 'bridge_028.jpeg', 'bridge_029.jpeg', 'horn_038.jpeg', 'horn_037.jpeg', 'horn_040.jpeg', 'horn_039.jpeg', 'horn_041.jpeg', 'horn_042.jpeg', 'horn_043.jpeg', 'horn_044.jpeg', 'horn_045.jpeg', 'horn_046.jpeg', 'horn_048.jpeg', 'horn_047.jpeg', 'horn_049.jpeg', 'horn_050.jpeg', 'horn_052.jpeg', 'horn_051.jpeg', 'horn_053.jpeg', 'horn_055.jpeg', 'horn_054.jpeg', 'potato_065.jpeg', 'horn_056.jpeg', 'potato_066.jpeg', 'potato_067.jpeg', 'potato_068.jpeg', 'potato_070.jpeg', 'potato_071.jpeg', 'potato_069.jpeg', 'potato_072.jpeg', 'potato_073.jpeg', 'potato_074.jpeg', 'potato_075.jpeg', 'potato_076.jpeg', 'potato_078.jpeg', 'potato_077.jpeg', 'potato_080.jpeg', 'potato_079.jpeg', 'potato_082.jpeg', 'potato_081.jpeg', 'potato_083.jpeg', 'potato_084.jpeg', 'potato_087.jpeg', 'potato_085.jpeg', 'potato_086.jpeg', 'potato_088.jpeg', 'potato_090.jpeg', 'potato_089.jpeg', 'potato_091.jpeg', 'potato_092.jpeg', 'potato_093.jpeg', 'potato_094.jpeg', 'potato_095.jpeg', 'potato_096.jpeg', 'potato_097.jpeg', 'potato_098.jpeg', 'potato_099.jpeg', 'potato_100.jpeg', 'potato_101.jpeg', 'regular_065.jpeg', 'potato_102.jpeg', 'regular_066.jpeg', 'regular_067.jpeg', 'regular_069.jpeg', 'regular_068.jpeg', 'regular_071.jpeg', 'regular_070.jpeg', 'regular_073.jpeg', 'regular_072.jpeg', 'regular_074.jpeg', 'regular_075.jpeg', 'regular_077.jpeg', 'regular_076.jpeg', 'regular_078.jpeg', 'regular_079.jpeg', 'regular_081.jpeg', 'regular_080.jpeg', 'regular_083.jpeg', 'regular_082.jpeg', 'regular_084.jpeg', 'regular_085.jpeg', 'regular_086.jpeg', 'regular_087.jpeg', 'regular_088.jpeg', 'regular_089.jpeg', 'regular_090.jpeg', 'regular_091.jpeg', 'regular_092.jpeg', 'regular_093.jpeg', 'regular_094.jpeg', 'regular_096.jpeg', 'regular_095.jpeg', 'regular_098.jpeg', 'regular_097.jpeg', 'regular_099.jpeg', 'potato', 'bridge', 'horn', 'regular']\n"
          ],
          "name": "stdout"
        }
      ]
    },
    {
      "cell_type": "code",
      "metadata": {
        "id": "ESka8CTEMte9",
        "outputId": "a2014e9a-12ed-43f5-9afe-a19a432660ac",
        "colab": {
          "base_uri": "https://localhost:8080/",
          "height": 389
        }
      },
      "source": [
        "image_size = 256\n",
        "\n",
        "for file in file_list:\n",
        "    try:\n",
        "        image = Image.open(folder_path + file)\n",
        "    except:\n",
        "        print('error', file)\n",
        "        continue\n",
        "    \n",
        "    image = image.convert(\"RGB\")\n",
        "    image = image.resize((image_size, image_size))\n",
        "    data = np.asarray(image)\n",
        "    X.append(data)\n",
        "    if 'bridge' or 'horn' or 'potato' in file:\n",
        "        Y.append(1) #不良品\n",
        "    else:\n",
        "         Y.append(0) #良品\n",
        "\n",
        "X = np.array(X) #画像データ\n",
        "Y = np.array(Y) #ラベルデータ"
      ],
      "execution_count": 7,
      "outputs": [
        {
          "output_type": "error",
          "ename": "KeyboardInterrupt",
          "evalue": "ignored",
          "traceback": [
            "\u001b[0;31m---------------------------------------------------------------------------\u001b[0m",
            "\u001b[0;31mKeyboardInterrupt\u001b[0m                         Traceback (most recent call last)",
            "\u001b[0;32m<ipython-input-7-ed3d070a2414>\u001b[0m in \u001b[0;36m<module>\u001b[0;34m()\u001b[0m\n\u001b[1;32m      8\u001b[0m         \u001b[0;32mcontinue\u001b[0m\u001b[0;34m\u001b[0m\u001b[0;34m\u001b[0m\u001b[0m\n\u001b[1;32m      9\u001b[0m \u001b[0;34m\u001b[0m\u001b[0m\n\u001b[0;32m---> 10\u001b[0;31m     \u001b[0mimage\u001b[0m \u001b[0;34m=\u001b[0m \u001b[0mimage\u001b[0m\u001b[0;34m.\u001b[0m\u001b[0mconvert\u001b[0m\u001b[0;34m(\u001b[0m\u001b[0;34m\"RGB\"\u001b[0m\u001b[0;34m)\u001b[0m\u001b[0;34m\u001b[0m\u001b[0;34m\u001b[0m\u001b[0m\n\u001b[0m\u001b[1;32m     11\u001b[0m     \u001b[0mimage\u001b[0m \u001b[0;34m=\u001b[0m \u001b[0mimage\u001b[0m\u001b[0;34m.\u001b[0m\u001b[0mresize\u001b[0m\u001b[0;34m(\u001b[0m\u001b[0;34m(\u001b[0m\u001b[0mimage_size\u001b[0m\u001b[0;34m,\u001b[0m \u001b[0mimage_size\u001b[0m\u001b[0;34m)\u001b[0m\u001b[0;34m)\u001b[0m\u001b[0;34m\u001b[0m\u001b[0;34m\u001b[0m\u001b[0m\n\u001b[1;32m     12\u001b[0m     \u001b[0mdata\u001b[0m \u001b[0;34m=\u001b[0m \u001b[0mnp\u001b[0m\u001b[0;34m.\u001b[0m\u001b[0masarray\u001b[0m\u001b[0;34m(\u001b[0m\u001b[0mimage\u001b[0m\u001b[0;34m)\u001b[0m\u001b[0;34m\u001b[0m\u001b[0;34m\u001b[0m\u001b[0m\n",
            "\u001b[0;32m/usr/local/lib/python3.6/dist-packages/PIL/Image.py\u001b[0m in \u001b[0;36mconvert\u001b[0;34m(self, mode, matrix, dither, palette, colors)\u001b[0m\n\u001b[1;32m    871\u001b[0m         \"\"\"\n\u001b[1;32m    872\u001b[0m \u001b[0;34m\u001b[0m\u001b[0m\n\u001b[0;32m--> 873\u001b[0;31m         \u001b[0mself\u001b[0m\u001b[0;34m.\u001b[0m\u001b[0mload\u001b[0m\u001b[0;34m(\u001b[0m\u001b[0;34m)\u001b[0m\u001b[0;34m\u001b[0m\u001b[0;34m\u001b[0m\u001b[0m\n\u001b[0m\u001b[1;32m    874\u001b[0m \u001b[0;34m\u001b[0m\u001b[0m\n\u001b[1;32m    875\u001b[0m         \u001b[0;32mif\u001b[0m \u001b[0;32mnot\u001b[0m \u001b[0mmode\u001b[0m \u001b[0;32mand\u001b[0m \u001b[0mself\u001b[0m\u001b[0;34m.\u001b[0m\u001b[0mmode\u001b[0m \u001b[0;34m==\u001b[0m \u001b[0;34m\"P\"\u001b[0m\u001b[0;34m:\u001b[0m\u001b[0;34m\u001b[0m\u001b[0;34m\u001b[0m\u001b[0m\n",
            "\u001b[0;32m/usr/local/lib/python3.6/dist-packages/PIL/ImageFile.py\u001b[0m in \u001b[0;36mload\u001b[0;34m(self)\u001b[0m\n\u001b[1;32m    249\u001b[0m \u001b[0;34m\u001b[0m\u001b[0m\n\u001b[1;32m    250\u001b[0m                             \u001b[0mb\u001b[0m \u001b[0;34m=\u001b[0m \u001b[0mb\u001b[0m \u001b[0;34m+\u001b[0m \u001b[0ms\u001b[0m\u001b[0;34m\u001b[0m\u001b[0;34m\u001b[0m\u001b[0m\n\u001b[0;32m--> 251\u001b[0;31m                             \u001b[0mn\u001b[0m\u001b[0;34m,\u001b[0m \u001b[0merr_code\u001b[0m \u001b[0;34m=\u001b[0m \u001b[0mdecoder\u001b[0m\u001b[0;34m.\u001b[0m\u001b[0mdecode\u001b[0m\u001b[0;34m(\u001b[0m\u001b[0mb\u001b[0m\u001b[0;34m)\u001b[0m\u001b[0;34m\u001b[0m\u001b[0;34m\u001b[0m\u001b[0m\n\u001b[0m\u001b[1;32m    252\u001b[0m                             \u001b[0;32mif\u001b[0m \u001b[0mn\u001b[0m \u001b[0;34m<\u001b[0m \u001b[0;36m0\u001b[0m\u001b[0;34m:\u001b[0m\u001b[0;34m\u001b[0m\u001b[0;34m\u001b[0m\u001b[0m\n\u001b[1;32m    253\u001b[0m                                 \u001b[0;32mbreak\u001b[0m\u001b[0;34m\u001b[0m\u001b[0;34m\u001b[0m\u001b[0m\n",
            "\u001b[0;31mKeyboardInterrupt\u001b[0m: "
          ]
        }
      ]
    },
    {
      "cell_type": "code",
      "metadata": {
        "id": "nNBZe2IQOdZr"
      },
      "source": [
        ""
      ],
      "execution_count": null,
      "outputs": []
    }
  ]
}