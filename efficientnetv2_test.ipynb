{
  "nbformat": 4,
  "nbformat_minor": 0,
  "metadata": {
    "colab": {
      "name": "efficientnetv2_test.ipynb",
      "provenance": [],
      "authorship_tag": "ABX9TyOornnNrlZd9Q9yLxbuUw5B",
      "include_colab_link": true
    },
    "kernelspec": {
      "display_name": "Python 3",
      "name": "python3"
    },
    "language_info": {
      "name": "python"
    },
    "accelerator": "GPU"
  },
  "cells": [
    {
      "cell_type": "markdown",
      "metadata": {
        "id": "view-in-github",
        "colab_type": "text"
      },
      "source": [
        "<a href=\"https://colab.research.google.com/github/yootaka/AiQuest/blob/main/efficientnetv2_test.ipynb\" target=\"_parent\"><img src=\"https://colab.research.google.com/assets/colab-badge.svg\" alt=\"Open In Colab\"/></a>"
      ]
    },
    {
      "cell_type": "markdown",
      "metadata": {
        "id": "xZ7Dzi1Dsxx7"
      },
      "source": [
        "参考"
      ]
    },
    {
      "cell_type": "markdown",
      "metadata": {
        "id": "0klAarO3s1kt"
      },
      "source": [
        "https://github.com/dajiro-repo/blog/blob/master/notebook/blog_timm.ipynb\n",
        "\n",
        "https://dajiro.com/entry/2020/07/24/161040"
      ]
    },
    {
      "cell_type": "code",
      "metadata": {
        "id": "YP05VsBIsShZ"
      },
      "source": [
        "import os\n",
        "import matplotlib.pyplot as plt\n",
        "import numpy as np\n",
        "\n",
        "import torch\n",
        "import torch.nn as nn\n",
        "import torch.nn.functional as F\n",
        "import torch.utils as utils\n",
        "import torchvision.utils as vutils\n",
        "import torchvision.datasets as dset\n",
        "import torchvision.transforms as transforms\n",
        "import torch.optim as optim\n",
        "import os"
      ],
      "execution_count": 3,
      "outputs": []
    },
    {
      "cell_type": "markdown",
      "metadata": {
        "id": "CupYN-Mr3SRu"
      },
      "source": [
        "ライブラリの読み込み"
      ]
    },
    {
      "cell_type": "code",
      "metadata": {
        "colab": {
          "base_uri": "https://localhost:8080/"
        },
        "id": "dn7-NEb_y2ko",
        "outputId": "1ba4f741-d3e6-4234-af39-5af691029cf2"
      },
      "source": [
        "!pip install timm\n",
        "import timm"
      ],
      "execution_count": 4,
      "outputs": [
        {
          "output_type": "stream",
          "name": "stdout",
          "text": [
            "Collecting timm\n",
            "  Downloading timm-0.4.12-py3-none-any.whl (376 kB)\n",
            "\u001b[?25l\r\u001b[K     |▉                               | 10 kB 20.9 MB/s eta 0:00:01\r\u001b[K     |█▊                              | 20 kB 24.2 MB/s eta 0:00:01\r\u001b[K     |██▋                             | 30 kB 11.7 MB/s eta 0:00:01\r\u001b[K     |███▌                            | 40 kB 9.2 MB/s eta 0:00:01\r\u001b[K     |████▍                           | 51 kB 5.4 MB/s eta 0:00:01\r\u001b[K     |█████▏                          | 61 kB 5.9 MB/s eta 0:00:01\r\u001b[K     |██████                          | 71 kB 5.7 MB/s eta 0:00:01\r\u001b[K     |███████                         | 81 kB 6.3 MB/s eta 0:00:01\r\u001b[K     |███████▉                        | 92 kB 4.9 MB/s eta 0:00:01\r\u001b[K     |████████▊                       | 102 kB 5.3 MB/s eta 0:00:01\r\u001b[K     |█████████▋                      | 112 kB 5.3 MB/s eta 0:00:01\r\u001b[K     |██████████▍                     | 122 kB 5.3 MB/s eta 0:00:01\r\u001b[K     |███████████▎                    | 133 kB 5.3 MB/s eta 0:00:01\r\u001b[K     |████████████▏                   | 143 kB 5.3 MB/s eta 0:00:01\r\u001b[K     |█████████████                   | 153 kB 5.3 MB/s eta 0:00:01\r\u001b[K     |██████████████                  | 163 kB 5.3 MB/s eta 0:00:01\r\u001b[K     |██████████████▊                 | 174 kB 5.3 MB/s eta 0:00:01\r\u001b[K     |███████████████▋                | 184 kB 5.3 MB/s eta 0:00:01\r\u001b[K     |████████████████▌               | 194 kB 5.3 MB/s eta 0:00:01\r\u001b[K     |█████████████████▍              | 204 kB 5.3 MB/s eta 0:00:01\r\u001b[K     |██████████████████▎             | 215 kB 5.3 MB/s eta 0:00:01\r\u001b[K     |███████████████████▏            | 225 kB 5.3 MB/s eta 0:00:01\r\u001b[K     |████████████████████            | 235 kB 5.3 MB/s eta 0:00:01\r\u001b[K     |████████████████████▉           | 245 kB 5.3 MB/s eta 0:00:01\r\u001b[K     |█████████████████████▊          | 256 kB 5.3 MB/s eta 0:00:01\r\u001b[K     |██████████████████████▋         | 266 kB 5.3 MB/s eta 0:00:01\r\u001b[K     |███████████████████████▌        | 276 kB 5.3 MB/s eta 0:00:01\r\u001b[K     |████████████████████████▍       | 286 kB 5.3 MB/s eta 0:00:01\r\u001b[K     |█████████████████████████▏      | 296 kB 5.3 MB/s eta 0:00:01\r\u001b[K     |██████████████████████████      | 307 kB 5.3 MB/s eta 0:00:01\r\u001b[K     |███████████████████████████     | 317 kB 5.3 MB/s eta 0:00:01\r\u001b[K     |███████████████████████████▉    | 327 kB 5.3 MB/s eta 0:00:01\r\u001b[K     |████████████████████████████▊   | 337 kB 5.3 MB/s eta 0:00:01\r\u001b[K     |█████████████████████████████▌  | 348 kB 5.3 MB/s eta 0:00:01\r\u001b[K     |██████████████████████████████▍ | 358 kB 5.3 MB/s eta 0:00:01\r\u001b[K     |███████████████████████████████▎| 368 kB 5.3 MB/s eta 0:00:01\r\u001b[K     |████████████████████████████████| 376 kB 5.3 MB/s \n",
            "\u001b[?25hRequirement already satisfied: torch>=1.4 in /usr/local/lib/python3.7/dist-packages (from timm) (1.9.0+cu111)\n",
            "Requirement already satisfied: torchvision in /usr/local/lib/python3.7/dist-packages (from timm) (0.10.0+cu111)\n",
            "Requirement already satisfied: typing-extensions in /usr/local/lib/python3.7/dist-packages (from torch>=1.4->timm) (3.7.4.3)\n",
            "Requirement already satisfied: numpy in /usr/local/lib/python3.7/dist-packages (from torchvision->timm) (1.19.5)\n",
            "Requirement already satisfied: pillow>=5.3.0 in /usr/local/lib/python3.7/dist-packages (from torchvision->timm) (7.1.2)\n",
            "Installing collected packages: timm\n",
            "Successfully installed timm-0.4.12\n"
          ]
        }
      ]
    },
    {
      "cell_type": "code",
      "metadata": {
        "colab": {
          "base_uri": "https://localhost:8080/"
        },
        "id": "7rqEWQmti8HU",
        "outputId": "50047e4e-90a2-4ecf-a55f-833bf95c7806"
      },
      "source": [
        "# Google ドライブをマウント\n",
        "from google.colab import drive\n",
        "drive.mount('/content/drive')"
      ],
      "execution_count": 5,
      "outputs": [
        {
          "output_type": "stream",
          "name": "stdout",
          "text": [
            "Mounted at /content/drive\n"
          ]
        }
      ]
    },
    {
      "cell_type": "code",
      "metadata": {
        "id": "rNHlBASHjLdU"
      },
      "source": [
        "X = []\n",
        "Y = []\n",
        "\n",
        "folder_path = \"/content/drive/My Drive/Colab Notebooks/AiQuest/ihara/A/\"\n",
        "file_list = os.listdir(folder_path)"
      ],
      "execution_count": 6,
      "outputs": []
    },
    {
      "cell_type": "code",
      "metadata": {
        "colab": {
          "base_uri": "https://localhost:8080/"
        },
        "id": "VsjJdC_6khPz",
        "outputId": "0920bdca-f4b6-4697-8487-34137a722d48"
      },
      "source": [
        "print(file_list) #ファイル確認"
      ],
      "execution_count": 7,
      "outputs": [
        {
          "output_type": "stream",
          "name": "stdout",
          "text": [
            "['No.1-A1.bmp', 'No.1-A2.bmp', 'No.10-A2.bmp', 'No.10-A1.bmp', 'No.11-A2.bmp', 'No.12-A1.bmp', 'No.11-A1.bmp', 'No.13-A1.bmp', 'No.12-A2.bmp', 'No.13-A2.bmp', 'No.14-A1.bmp', 'No.15-A1.bmp', 'No.14-A2.bmp', 'No.16-A1.bmp', 'No.15-A2.bmp', 'No.17-A1.bmp', 'No.16-A2.bmp', 'No.17-A2.bmp', 'No.18-A2.bmp', 'No.18-A1.bmp', 'No.19-A1.bmp', 'No.19-A2.bmp', 'No.2-A1.bmp', 'No.2-A2.bmp', 'No.20-A1.bmp', 'No.21-A2.bmp', 'No.21-A1.bmp', 'No.20-A2.bmp', 'No.23-A1.bmp', 'No.22-A1.bmp', 'No.22-A2.bmp', 'No.24-A1.bmp', 'No.24-A2.bmp', 'No.23-A2.bmp', 'No.25-A2.bmp', 'No.25-A1.bmp', 'No.26-A1.bmp', 'No.26-A2.bmp', 'No.27-A1.bmp', 'No.27-A2.bmp', 'No.28-A1.bmp', 'No.28-A2.bmp', 'No.29-A1.bmp', 'No.3-A1.bmp', 'No.29-A2.bmp', 'No.3-A2.bmp', 'No.30-A1.bmp', 'No.30-A2.bmp', 'No.31-A1.bmp', 'No.31-A2.bmp', 'No.32-A2.bmp', 'No.32-A1.bmp', 'No.33-A1.bmp', 'No.34-A1.bmp', 'No.33-A2.bmp', 'No.34-A2.bmp', 'No.35-A1.bmp', 'No.35-A2.bmp', 'No.36-A2.bmp', 'No.36-A1.bmp', 'No.37-A2.bmp', 'No.37-A1.bmp', 'No.38-A1.bmp', 'No.38-A2.bmp', 'No.39-A1.bmp', 'No.39-A2.bmp', 'No.4-A1.bmp', 'No.4-A2.bmp', 'No.40-A1.bmp', 'No.40-A2.bmp', 'No.41-A1.bmp', 'No.41-A2.bmp', 'No.42-A1.bmp', 'No.42-A2.bmp', 'No.43-A1.bmp', 'No.43-A2.bmp', 'No.44-A1.bmp', 'No.45-A1.bmp', 'No.44-A2.bmp', 'No.45-A2.bmp', 'No.46-A2.bmp', 'No.46-A1.bmp', 'No.47-A1.bmp', 'No.47-A2.bmp', 'No.5-A1.bmp', 'No.5-A2.bmp', 'No.6-A1.bmp', 'No.7-A1.bmp', 'No.6-A2.bmp', 'No.7-A2.bmp', 'No.8-A1.bmp', 'No.8-A2.bmp', 'No.9-A1.bmp', 'No.9-A2.bmp']\n"
          ]
        }
      ]
    },
    {
      "cell_type": "code",
      "metadata": {
        "id": "FjNRets9y9Mq"
      },
      "source": [
        "###############\n",
        "# 入力パラメータ\n",
        "###############\n",
        "#モデル名\n",
        "model_name = 'tf_efficientnetv2_s_in21ft1k'\n",
        "#画像のパス\n",
        "image_path = folder_path\n",
        "#バッチサイズ\n",
        "batch_size = 32\n",
        "#エポック数\n",
        "epochs = 5\n",
        "#GPUID\n",
        "ngpu = 1\n",
        "#ラベル数\n",
        "n_class = 1000\n",
        "#画像サイズ\n",
        "image_size = 384\n",
        "#ワーカー数\n",
        "workers = 1\n",
        "#訓練用データ比率\n",
        "train_ratio = 0.7\n",
        "#検証用データ比率\n",
        "val_ratio = 0.2\n",
        "#学習率\n",
        "lr = 0.001\n",
        "#Adamのbeta1\n",
        "beta1 = 0.9\n",
        "#チャネル数\n",
        "nc = 3\n",
        "#中間層チャネル数のユニット\n",
        "ndf = 16\n",
        "device = torch.device(\"cuda:0\" if (torch.cuda.is_available() and ngpu > 0) else \"cpu\")"
      ],
      "execution_count": 8,
      "outputs": []
    },
    {
      "cell_type": "code",
      "metadata": {
        "id": "qmUTFK8tzrlH"
      },
      "source": [
        "#if not os.path.exists('./imagenetv2-matched-frequency-format-val/'):\n",
        "#    !curl -s https://s3-us-west-2.amazonaws.com/imagenetv2public/imagenetv2-matched-frequency.tar.gz | tar x\n",
        "# dataset = Dataset('./imagenetv2-matched-frequency-format-val/')\n",
        "# for i in range(len(dataset)): # warmup\n",
        "#     dummy = dataset[i]"
      ],
      "execution_count": null,
      "outputs": []
    },
    {
      "cell_type": "code",
      "metadata": {
        "id": "gd13C6X60ZDS"
      },
      "source": [
        "def get_data_loaders(batch_size, conf, train_ratio, val_ratio):\n",
        "    dataset = dset.ImageFolder(root=image_path,\n",
        "                               transform=transforms.Compose([\n",
        "                                   transforms.Resize(image_size),\n",
        "                                   transforms.CenterCrop(image_size),\n",
        "                                   transforms.ToTensor(),\n",
        "                                   transforms.Normalize(conf[\"mean\"], conf[\"std\"]),\n",
        "                               ]))\n",
        "\n",
        "    num_data = len(dataset)\n",
        "    num_list = [int(train_ratio * num_data),\n",
        "                int(val_ratio * num_data),\n",
        "                num_data -\n",
        "                int(train_ratio * num_data) -\n",
        "                int(val_ratio * num_data)]\n",
        "    collate_fn = None\n",
        "    train_data, val_data, test_data = utils.data.random_split(dataset,\n",
        "                                                              [num_list[0],\n",
        "                                                               num_list[1],\n",
        "                                                               num_list[2]])\n",
        "    train_loader = torch.utils.data.DataLoader(train_data, batch_size=batch_size,\n",
        "                                             shuffle=True, num_workers=workers,\n",
        "                                             collate_fn = collate_fn)\n",
        "    val_loader = torch.utils.data.DataLoader(val_data, batch_size=batch_size,\n",
        "                                             shuffle=True, num_workers=workers,\n",
        "                                             collate_fn = collate_fn)\n",
        "    test_loader = torch.utils.data.DataLoader(test_data, batch_size=batch_size,\n",
        "                                             shuffle=True, num_workers=workers,\n",
        "                                             collate_fn = collate_fn)\n",
        "    \n",
        "    return train_loader, val_loader, test_loader"
      ],
      "execution_count": 9,
      "outputs": []
    },
    {
      "cell_type": "code",
      "metadata": {
        "id": "qX8pSlWU0sOM"
      },
      "source": [
        "\n",
        "data_config = timm.data.resolve_data_config({}, model=model_name, verbose=True)\n",
        "\n",
        "class EfficientNet_b0(nn.Module):\n",
        "    def __init__(self, n_out):\n",
        "        super(EfficientNet_b0, self).__init__()\n",
        "        #モデルの定義\n",
        "        self.effnet = timm.create_model(model_name, pretrained=True)\n",
        "        #最終層の再定義\n",
        "        self.effnet.classifier = nn.Linear(1280, n_out)\n",
        "\n",
        "    def forward(self, x):\n",
        "        return self.effnet(x)"
      ],
      "execution_count": 10,
      "outputs": []
    },
    {
      "cell_type": "code",
      "metadata": {
        "colab": {
          "base_uri": "https://localhost:8080/"
        },
        "id": "eugyIY2I0vKv",
        "outputId": "69d5bfd2-454e-4fa3-9455-9eb5c297e4e4"
      },
      "source": [
        "#モデル\n",
        "model = EfficientNet_b0(n_class)\n",
        "params_to_update = []\n",
        "update_param_names = [\"effnet.classifier.weight\", \"effnet.classifier.bias\"]\n",
        "for name, param in model.named_parameters():\n",
        "    if name in update_param_names:\n",
        "      param.requires_grad = True\n",
        "      params_to_update.append(param)\n",
        "    else:\n",
        "      param.requires_grad = False"
      ],
      "execution_count": 11,
      "outputs": [
        {
          "output_type": "stream",
          "name": "stderr",
          "text": [
            "Downloading: \"https://github.com/rwightman/pytorch-image-models/releases/download/v0.1-effv2-weights/tf_efficientnetv2_s_21ft1k-d7dafa41.pth\" to /root/.cache/torch/hub/checkpoints/tf_efficientnetv2_s_21ft1k-d7dafa41.pth\n"
          ]
        }
      ]
    },
    {
      "cell_type": "markdown",
      "metadata": {
        "id": "F8Q8_9d2suxl"
      },
      "source": [
        ""
      ]
    },
    {
      "cell_type": "code",
      "metadata": {
        "id": "GYFYFhHg0038"
      },
      "source": [
        "# 損失関数（closs entropy）\n",
        "criterion = nn.CrossEntropyLoss()\n",
        "#Optimizer(Adamを使用)\n",
        "optimizer = optim.Adam(model.parameters(), lr=lr, betas=(beta1, 0.999))\n",
        "scheduler = optim.lr_scheduler.StepLR(optimizer, step_size=5, gamma=0.1)"
      ],
      "execution_count": 12,
      "outputs": []
    },
    {
      "cell_type": "code",
      "metadata": {
        "colab": {
          "base_uri": "https://localhost:8080/",
          "height": 389
        },
        "id": "KghDutdx08SR",
        "outputId": "413f33f8-4921-4297-bf99-52abab4b6037"
      },
      "source": [
        "train_loader, val_loader, test_loader = get_data_loaders(batch_size,\n",
        "                                                         data_config,\n",
        "                                                         train_ratio,\n",
        "                                                         val_ratio)\n",
        "dataloaders_dict = {\"train\":train_loader, \"val\":val_loader}\n",
        "\n",
        "real_batch = next(iter(train_loader))\n",
        "plt.figure(figsize=(8,8))\n",
        "plt.axis(\"off\")\n",
        "plt.title(\"Training Images\")\n",
        "plt.imshow(np.transpose(vutils.make_grid(real_batch[0][:4], padding=2, normalize=True).cpu(),(1,2,0)))"
      ],
      "execution_count": 13,
      "outputs": [
        {
          "output_type": "error",
          "ename": "FileNotFoundError",
          "evalue": "ignored",
          "traceback": [
            "\u001b[0;31m---------------------------------------------------------------------------\u001b[0m",
            "\u001b[0;31mFileNotFoundError\u001b[0m                         Traceback (most recent call last)",
            "\u001b[0;32m<ipython-input-13-b1ab1be192db>\u001b[0m in \u001b[0;36m<module>\u001b[0;34m()\u001b[0m\n\u001b[1;32m      2\u001b[0m                                                          \u001b[0mdata_config\u001b[0m\u001b[0;34m,\u001b[0m\u001b[0;34m\u001b[0m\u001b[0;34m\u001b[0m\u001b[0m\n\u001b[1;32m      3\u001b[0m                                                          \u001b[0mtrain_ratio\u001b[0m\u001b[0;34m,\u001b[0m\u001b[0;34m\u001b[0m\u001b[0;34m\u001b[0m\u001b[0m\n\u001b[0;32m----> 4\u001b[0;31m                                                          val_ratio)\n\u001b[0m\u001b[1;32m      5\u001b[0m \u001b[0mdataloaders_dict\u001b[0m \u001b[0;34m=\u001b[0m \u001b[0;34m{\u001b[0m\u001b[0;34m\"train\"\u001b[0m\u001b[0;34m:\u001b[0m\u001b[0mtrain_loader\u001b[0m\u001b[0;34m,\u001b[0m \u001b[0;34m\"val\"\u001b[0m\u001b[0;34m:\u001b[0m\u001b[0mval_loader\u001b[0m\u001b[0;34m}\u001b[0m\u001b[0;34m\u001b[0m\u001b[0;34m\u001b[0m\u001b[0m\n\u001b[1;32m      6\u001b[0m \u001b[0;34m\u001b[0m\u001b[0m\n",
            "\u001b[0;32m<ipython-input-9-1d07249495b3>\u001b[0m in \u001b[0;36mget_data_loaders\u001b[0;34m(batch_size, conf, train_ratio, val_ratio)\u001b[0m\n\u001b[1;32m      5\u001b[0m                                    \u001b[0mtransforms\u001b[0m\u001b[0;34m.\u001b[0m\u001b[0mCenterCrop\u001b[0m\u001b[0;34m(\u001b[0m\u001b[0mimage_size\u001b[0m\u001b[0;34m)\u001b[0m\u001b[0;34m,\u001b[0m\u001b[0;34m\u001b[0m\u001b[0;34m\u001b[0m\u001b[0m\n\u001b[1;32m      6\u001b[0m                                    \u001b[0mtransforms\u001b[0m\u001b[0;34m.\u001b[0m\u001b[0mToTensor\u001b[0m\u001b[0;34m(\u001b[0m\u001b[0;34m)\u001b[0m\u001b[0;34m,\u001b[0m\u001b[0;34m\u001b[0m\u001b[0;34m\u001b[0m\u001b[0m\n\u001b[0;32m----> 7\u001b[0;31m                                    \u001b[0mtransforms\u001b[0m\u001b[0;34m.\u001b[0m\u001b[0mNormalize\u001b[0m\u001b[0;34m(\u001b[0m\u001b[0mconf\u001b[0m\u001b[0;34m[\u001b[0m\u001b[0;34m\"mean\"\u001b[0m\u001b[0;34m]\u001b[0m\u001b[0;34m,\u001b[0m \u001b[0mconf\u001b[0m\u001b[0;34m[\u001b[0m\u001b[0;34m\"std\"\u001b[0m\u001b[0;34m]\u001b[0m\u001b[0;34m)\u001b[0m\u001b[0;34m,\u001b[0m\u001b[0;34m\u001b[0m\u001b[0;34m\u001b[0m\u001b[0m\n\u001b[0m\u001b[1;32m      8\u001b[0m                                ]))\n\u001b[1;32m      9\u001b[0m \u001b[0;34m\u001b[0m\u001b[0m\n",
            "\u001b[0;32m/usr/local/lib/python3.7/dist-packages/torchvision/datasets/folder.py\u001b[0m in \u001b[0;36m__init__\u001b[0;34m(self, root, transform, target_transform, loader, is_valid_file)\u001b[0m\n\u001b[1;32m    311\u001b[0m                                           \u001b[0mtransform\u001b[0m\u001b[0;34m=\u001b[0m\u001b[0mtransform\u001b[0m\u001b[0;34m,\u001b[0m\u001b[0;34m\u001b[0m\u001b[0;34m\u001b[0m\u001b[0m\n\u001b[1;32m    312\u001b[0m                                           \u001b[0mtarget_transform\u001b[0m\u001b[0;34m=\u001b[0m\u001b[0mtarget_transform\u001b[0m\u001b[0;34m,\u001b[0m\u001b[0;34m\u001b[0m\u001b[0;34m\u001b[0m\u001b[0m\n\u001b[0;32m--> 313\u001b[0;31m                                           is_valid_file=is_valid_file)\n\u001b[0m\u001b[1;32m    314\u001b[0m         \u001b[0mself\u001b[0m\u001b[0;34m.\u001b[0m\u001b[0mimgs\u001b[0m \u001b[0;34m=\u001b[0m \u001b[0mself\u001b[0m\u001b[0;34m.\u001b[0m\u001b[0msamples\u001b[0m\u001b[0;34m\u001b[0m\u001b[0;34m\u001b[0m\u001b[0m\n",
            "\u001b[0;32m/usr/local/lib/python3.7/dist-packages/torchvision/datasets/folder.py\u001b[0m in \u001b[0;36m__init__\u001b[0;34m(self, root, loader, extensions, transform, target_transform, is_valid_file)\u001b[0m\n\u001b[1;32m    143\u001b[0m         super(DatasetFolder, self).__init__(root, transform=transform,\n\u001b[1;32m    144\u001b[0m                                             target_transform=target_transform)\n\u001b[0;32m--> 145\u001b[0;31m         \u001b[0mclasses\u001b[0m\u001b[0;34m,\u001b[0m \u001b[0mclass_to_idx\u001b[0m \u001b[0;34m=\u001b[0m \u001b[0mself\u001b[0m\u001b[0;34m.\u001b[0m\u001b[0mfind_classes\u001b[0m\u001b[0;34m(\u001b[0m\u001b[0mself\u001b[0m\u001b[0;34m.\u001b[0m\u001b[0mroot\u001b[0m\u001b[0;34m)\u001b[0m\u001b[0;34m\u001b[0m\u001b[0;34m\u001b[0m\u001b[0m\n\u001b[0m\u001b[1;32m    146\u001b[0m         \u001b[0msamples\u001b[0m \u001b[0;34m=\u001b[0m \u001b[0mself\u001b[0m\u001b[0;34m.\u001b[0m\u001b[0mmake_dataset\u001b[0m\u001b[0;34m(\u001b[0m\u001b[0mself\u001b[0m\u001b[0;34m.\u001b[0m\u001b[0mroot\u001b[0m\u001b[0;34m,\u001b[0m \u001b[0mclass_to_idx\u001b[0m\u001b[0;34m,\u001b[0m \u001b[0mextensions\u001b[0m\u001b[0;34m,\u001b[0m \u001b[0mis_valid_file\u001b[0m\u001b[0;34m)\u001b[0m\u001b[0;34m\u001b[0m\u001b[0;34m\u001b[0m\u001b[0m\n\u001b[1;32m    147\u001b[0m \u001b[0;34m\u001b[0m\u001b[0m\n",
            "\u001b[0;32m/usr/local/lib/python3.7/dist-packages/torchvision/datasets/folder.py\u001b[0m in \u001b[0;36mfind_classes\u001b[0;34m(self, directory)\u001b[0m\n\u001b[1;32m    219\u001b[0m             \u001b[0;34m(\u001b[0m\u001b[0mTuple\u001b[0m\u001b[0;34m[\u001b[0m\u001b[0mList\u001b[0m\u001b[0;34m[\u001b[0m\u001b[0mstr\u001b[0m\u001b[0;34m]\u001b[0m\u001b[0;34m,\u001b[0m \u001b[0mDict\u001b[0m\u001b[0;34m[\u001b[0m\u001b[0mstr\u001b[0m\u001b[0;34m,\u001b[0m \u001b[0mint\u001b[0m\u001b[0;34m]\u001b[0m\u001b[0;34m]\u001b[0m\u001b[0;34m)\u001b[0m\u001b[0;34m:\u001b[0m \u001b[0mList\u001b[0m \u001b[0mof\u001b[0m \u001b[0mall\u001b[0m \u001b[0mclasses\u001b[0m \u001b[0;32mand\u001b[0m \u001b[0mdictionary\u001b[0m \u001b[0mmapping\u001b[0m \u001b[0meach\u001b[0m \u001b[0;32mclass\u001b[0m \u001b[0mto\u001b[0m \u001b[0man\u001b[0m \u001b[0mindex\u001b[0m\u001b[0;34m.\u001b[0m\u001b[0;34m\u001b[0m\u001b[0;34m\u001b[0m\u001b[0m\n\u001b[1;32m    220\u001b[0m         \"\"\"\n\u001b[0;32m--> 221\u001b[0;31m         \u001b[0;32mreturn\u001b[0m \u001b[0mfind_classes\u001b[0m\u001b[0;34m(\u001b[0m\u001b[0mdirectory\u001b[0m\u001b[0;34m)\u001b[0m\u001b[0;34m\u001b[0m\u001b[0;34m\u001b[0m\u001b[0m\n\u001b[0m\u001b[1;32m    222\u001b[0m \u001b[0;34m\u001b[0m\u001b[0m\n\u001b[1;32m    223\u001b[0m     \u001b[0;32mdef\u001b[0m \u001b[0m__getitem__\u001b[0m\u001b[0;34m(\u001b[0m\u001b[0mself\u001b[0m\u001b[0;34m,\u001b[0m \u001b[0mindex\u001b[0m\u001b[0;34m:\u001b[0m \u001b[0mint\u001b[0m\u001b[0;34m)\u001b[0m \u001b[0;34m->\u001b[0m \u001b[0mTuple\u001b[0m\u001b[0;34m[\u001b[0m\u001b[0mAny\u001b[0m\u001b[0;34m,\u001b[0m \u001b[0mAny\u001b[0m\u001b[0;34m]\u001b[0m\u001b[0;34m:\u001b[0m\u001b[0;34m\u001b[0m\u001b[0;34m\u001b[0m\u001b[0m\n",
            "\u001b[0;32m/usr/local/lib/python3.7/dist-packages/torchvision/datasets/folder.py\u001b[0m in \u001b[0;36mfind_classes\u001b[0;34m(directory)\u001b[0m\n\u001b[1;32m     40\u001b[0m     \u001b[0mclasses\u001b[0m \u001b[0;34m=\u001b[0m \u001b[0msorted\u001b[0m\u001b[0;34m(\u001b[0m\u001b[0mentry\u001b[0m\u001b[0;34m.\u001b[0m\u001b[0mname\u001b[0m \u001b[0;32mfor\u001b[0m \u001b[0mentry\u001b[0m \u001b[0;32min\u001b[0m \u001b[0mos\u001b[0m\u001b[0;34m.\u001b[0m\u001b[0mscandir\u001b[0m\u001b[0;34m(\u001b[0m\u001b[0mdirectory\u001b[0m\u001b[0;34m)\u001b[0m \u001b[0;32mif\u001b[0m \u001b[0mentry\u001b[0m\u001b[0;34m.\u001b[0m\u001b[0mis_dir\u001b[0m\u001b[0;34m(\u001b[0m\u001b[0;34m)\u001b[0m\u001b[0;34m)\u001b[0m\u001b[0;34m\u001b[0m\u001b[0;34m\u001b[0m\u001b[0m\n\u001b[1;32m     41\u001b[0m     \u001b[0;32mif\u001b[0m \u001b[0;32mnot\u001b[0m \u001b[0mclasses\u001b[0m\u001b[0;34m:\u001b[0m\u001b[0;34m\u001b[0m\u001b[0;34m\u001b[0m\u001b[0m\n\u001b[0;32m---> 42\u001b[0;31m         \u001b[0;32mraise\u001b[0m \u001b[0mFileNotFoundError\u001b[0m\u001b[0;34m(\u001b[0m\u001b[0;34mf\"Couldn't find any class folder in {directory}.\"\u001b[0m\u001b[0;34m)\u001b[0m\u001b[0;34m\u001b[0m\u001b[0;34m\u001b[0m\u001b[0m\n\u001b[0m\u001b[1;32m     43\u001b[0m \u001b[0;34m\u001b[0m\u001b[0m\n\u001b[1;32m     44\u001b[0m     \u001b[0mclass_to_idx\u001b[0m \u001b[0;34m=\u001b[0m \u001b[0;34m{\u001b[0m\u001b[0mcls_name\u001b[0m\u001b[0;34m:\u001b[0m \u001b[0mi\u001b[0m \u001b[0;32mfor\u001b[0m \u001b[0mi\u001b[0m\u001b[0;34m,\u001b[0m \u001b[0mcls_name\u001b[0m \u001b[0;32min\u001b[0m \u001b[0menumerate\u001b[0m\u001b[0;34m(\u001b[0m\u001b[0mclasses\u001b[0m\u001b[0;34m)\u001b[0m\u001b[0;34m}\u001b[0m\u001b[0;34m\u001b[0m\u001b[0;34m\u001b[0m\u001b[0m\n",
            "\u001b[0;31mFileNotFoundError\u001b[0m: Couldn't find any class folder in /content/drive/My Drive/Colab Notebooks/AiQuest/ihara/A/."
          ]
        }
      ]
    },
    {
      "cell_type": "code",
      "metadata": {
        "colab": {
          "background_save": true,
          "base_uri": "https://localhost:8080/"
        },
        "id": "6mYoKlPP0_dD",
        "outputId": "b674c1e4-631c-4cf8-86bf-409c92ece720"
      },
      "source": [
        "accuracy, accuracy_val = [], []\n",
        "model.to(device)\n",
        "for epoch in range(epochs):\n",
        "\n",
        "    for phase in [\"train\", \"val\"]:\n",
        "        if phase == \"train\":\n",
        "          model.train()\n",
        "        else:\n",
        "          model.eval()\n",
        "\n",
        "        loss_epoch = 0.0\n",
        "        acc_epoch = 0.0\n",
        "\n",
        "        if (epoch == 0) and (phase == \"train\"):\n",
        "            continue\n",
        "\n",
        "        for inputs, labels in dataloaders_dict[phase]:\n",
        "            optimizer.zero_grad()\n",
        "            \n",
        "            with torch.set_grad_enabled(phase == \"train\"):\n",
        "                labels = labels.to(device)\n",
        "                inputs = inputs.to(device)\n",
        "                outputs = model(inputs)\n",
        "                \n",
        "                loss = criterion(outputs, labels)\n",
        "                _, preds = torch.max(outputs, 1)\n",
        "                \n",
        "                if phase == \"train\":\n",
        "                    loss.backward()\n",
        "                    optimizer.step()\n",
        "                \n",
        "                loss_epoch += loss.item() * inputs.size(0)\n",
        "                acc_epoch += torch.sum(preds == labels.data)\n",
        "        \n",
        "        loss_epoch = loss_epoch / len(dataloaders_dict[phase].dataset)\n",
        "        acc_epoch = acc_epoch.double() / len(dataloaders_dict[phase].dataset)\n",
        "        print(f\"phase: {phase}\",\n",
        "              f\"LR: {scheduler.get_last_lr()[0]} \"\n",
        "              f\"epoch: {epoch}\",\n",
        "              f\"loss: {loss_epoch:.4f}\",\n",
        "              f\"accuracy: {acc_epoch:.4f}\")\n",
        "             # f\"accuracy: {acc_epoch}:.4f}\")\n",
        "        if phase == \"train\":\n",
        "            scheduler.step()\n",
        "\n",
        "print('Finished Training')"
      ],
      "execution_count": null,
      "outputs": [
        {
          "name": "stdout",
          "output_type": "stream",
          "text": [
            "phase: val LR: 0.001 epoch: 0 loss: 7.0726 accuracy: 0.0005\n",
            "phase: train LR: 0.001 epoch: 1 loss: 4.6999 accuracy: 0.2970\n",
            "phase: val LR: 0.001 epoch: 1 loss: 2.7684 accuracy: 0.5455\n",
            "phase: train LR: 0.001 epoch: 2 loss: 0.4368 accuracy: 0.9346\n"
          ]
        }
      ]
    },
    {
      "cell_type": "code",
      "metadata": {
        "id": "Xa9utfNR1JYk"
      },
      "source": [
        ""
      ],
      "execution_count": null,
      "outputs": []
    }
  ]
}