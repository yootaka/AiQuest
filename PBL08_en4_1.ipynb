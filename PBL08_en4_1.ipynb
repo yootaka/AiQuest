{
  "nbformat": 4,
  "nbformat_minor": 0,
  "metadata": {
    "colab": {
      "name": "PBL08_en4#1.ipynb",
      "provenance": [],
      "collapsed_sections": [],
      "authorship_tag": "ABX9TyPeOm55+A3ijAiCQ9Y1YNlD",
      "include_colab_link": true
    },
    "kernelspec": {
      "name": "python3",
      "display_name": "Python 3"
    },
    "accelerator": "GPU"
  },
  "cells": [
    {
      "cell_type": "markdown",
      "metadata": {
        "id": "view-in-github",
        "colab_type": "text"
      },
      "source": [
        "<a href=\"https://colab.research.google.com/github/yootaka/AiQuest/blob/main/PBL08_en4_1.ipynb\" target=\"_parent\"><img src=\"https://colab.research.google.com/assets/colab-badge.svg\" alt=\"Open In Colab\"/></a>"
      ]
    },
    {
      "cell_type": "code",
      "metadata": {
        "id": "Xyq4xbQ9rAeV"
      },
      "source": [
        "#家電量販店　商品需要予測\n",
        "#ライブラリーのインポート\n",
        "import numpy as np\n",
        "import pandas as pd\n",
        "import matplotlib.pyplot as plt\n",
        "%matplotlib inline\n",
        "import seaborn as sns\n",
        "from sklearn.linear_model import LinearRegression"
      ],
      "execution_count": 1,
      "outputs": []
    },
    {
      "cell_type": "code",
      "metadata": {
        "id": "O9V7w18CrdlC",
        "colab": {
          "base_uri": "https://localhost:8080/"
        },
        "outputId": "bc7d573f-b6e7-4776-a0b2-af06643fe4ef"
      },
      "source": [
        "# Google ドライブをマウント\n",
        "from google.colab import drive\n",
        "drive.mount('/content/drive')"
      ],
      "execution_count": 2,
      "outputs": [
        {
          "output_type": "stream",
          "text": [
            "Mounted at /content/drive\n"
          ],
          "name": "stdout"
        }
      ]
    },
    {
      "cell_type": "code",
      "metadata": {
        "id": "L9IHPLgHfJH3"
      },
      "source": [
        "folder_path = \"/content/drive/My Drive/Colab Notebooks/AiQuest/PBL08_en4\"\n"
      ],
      "execution_count": 3,
      "outputs": []
    },
    {
      "cell_type": "code",
      "metadata": {
        "id": "y0T9CnKNr-rN"
      },
      "source": [
        "#csvファイルの読み込み　ヘッダー名称がうまく取り込めないため、names指定\n",
        "csv_train1 = pd.read_csv('/content/drive/My Drive/Colab Notebooks/AiQuest/PBL08_en4/sales_history.csv', sep=\",\",engine=\"python\", skiprows=1,names=['ProductID', 'Date','SalesCount'])\n",
        "csv_train2 = pd.read_csv('/content/drive/My Drive/Colab Notebooks/AiQuest/PBL08_en4/sales_mikomi.csv', sep=\",\",engine=\"python\", skiprows=1,names=['ProductID', 'Date','SalesCount'])\n",
        "csv_train3 = pd.read_csv('/content/drive/My Drive/Colab Notebooks/AiQuest/PBL08_en4/waribiki_history.csv', sep=\",\",engine=\"python\", skiprows=1,names=['ProductID', 'Date','Discount'])\n",
        "csv_train4 = pd.read_csv('/content/drive/My Drive/Colab Notebooks/AiQuest/PBL08_en4/waribiki_mikomi.csv', sep=\",\",engine=\"python\", skiprows=1,names=['ProductID', 'Date','Discount'])"
      ],
      "execution_count": 4,
      "outputs": []
    },
    {
      "cell_type": "code",
      "metadata": {
        "id": "S7cZLH6ELTZg"
      },
      "source": [
        "#csv_train1.reset_index()"
      ],
      "execution_count": 14,
      "outputs": []
    },
    {
      "cell_type": "code",
      "metadata": {
        "colab": {
          "base_uri": "https://localhost:8080/"
        },
        "id": "DaSsVG-ObJEA",
        "outputId": "cf313abb-9c9f-4789-f84f-8852ab185562"
      },
      "source": [
        "csv_train1.keys()"
      ],
      "execution_count": 5,
      "outputs": [
        {
          "output_type": "execute_result",
          "data": {
            "text/plain": [
              "Index(['ProductID', 'Date', 'SalesCount'], dtype='object')"
            ]
          },
          "metadata": {
            "tags": []
          },
          "execution_count": 5
        }
      ]
    },
    {
      "cell_type": "code",
      "metadata": {
        "colab": {
          "base_uri": "https://localhost:8080/",
          "height": 402
        },
        "id": "GFVHUtXALmdv",
        "outputId": "71c60112-6a95-4374-9860-6d3dd5181ef9"
      },
      "source": [
        "csv_train1"
      ],
      "execution_count": 6,
      "outputs": [
        {
          "output_type": "execute_result",
          "data": {
            "text/html": [
              "<div>\n",
              "<style scoped>\n",
              "    .dataframe tbody tr th:only-of-type {\n",
              "        vertical-align: middle;\n",
              "    }\n",
              "\n",
              "    .dataframe tbody tr th {\n",
              "        vertical-align: top;\n",
              "    }\n",
              "\n",
              "    .dataframe thead th {\n",
              "        text-align: right;\n",
              "    }\n",
              "</style>\n",
              "<table border=\"1\" class=\"dataframe\">\n",
              "  <thead>\n",
              "    <tr style=\"text-align: right;\">\n",
              "      <th></th>\n",
              "      <th>ProductID</th>\n",
              "      <th>Date</th>\n",
              "      <th>SalesCount</th>\n",
              "    </tr>\n",
              "  </thead>\n",
              "  <tbody>\n",
              "    <tr>\n",
              "      <th>0</th>\n",
              "      <td>1</td>\n",
              "      <td>2010-01</td>\n",
              "      <td>142</td>\n",
              "    </tr>\n",
              "    <tr>\n",
              "      <th>1</th>\n",
              "      <td>1</td>\n",
              "      <td>2010-02</td>\n",
              "      <td>150</td>\n",
              "    </tr>\n",
              "    <tr>\n",
              "      <th>2</th>\n",
              "      <td>1</td>\n",
              "      <td>2010-03</td>\n",
              "      <td>217</td>\n",
              "    </tr>\n",
              "    <tr>\n",
              "      <th>3</th>\n",
              "      <td>1</td>\n",
              "      <td>2010-04</td>\n",
              "      <td>190</td>\n",
              "    </tr>\n",
              "    <tr>\n",
              "      <th>4</th>\n",
              "      <td>1</td>\n",
              "      <td>2010-05</td>\n",
              "      <td>193</td>\n",
              "    </tr>\n",
              "    <tr>\n",
              "      <th>...</th>\n",
              "      <td>...</td>\n",
              "      <td>...</td>\n",
              "      <td>...</td>\n",
              "    </tr>\n",
              "    <tr>\n",
              "      <th>9886</th>\n",
              "      <td>84</td>\n",
              "      <td>2019-06</td>\n",
              "      <td>953</td>\n",
              "    </tr>\n",
              "    <tr>\n",
              "      <th>9887</th>\n",
              "      <td>84</td>\n",
              "      <td>2019-07</td>\n",
              "      <td>1034</td>\n",
              "    </tr>\n",
              "    <tr>\n",
              "      <th>9888</th>\n",
              "      <td>84</td>\n",
              "      <td>2019-08</td>\n",
              "      <td>2099</td>\n",
              "    </tr>\n",
              "    <tr>\n",
              "      <th>9889</th>\n",
              "      <td>84</td>\n",
              "      <td>2019-09</td>\n",
              "      <td>952</td>\n",
              "    </tr>\n",
              "    <tr>\n",
              "      <th>9890</th>\n",
              "      <td>84</td>\n",
              "      <td>2019-10</td>\n",
              "      <td>1113</td>\n",
              "    </tr>\n",
              "  </tbody>\n",
              "</table>\n",
              "<p>9891 rows × 3 columns</p>\n",
              "</div>"
            ],
            "text/plain": [
              "      ProductID     Date  SalesCount\n",
              "0             1  2010-01         142\n",
              "1             1  2010-02         150\n",
              "2             1  2010-03         217\n",
              "3             1  2010-04         190\n",
              "4             1  2010-05         193\n",
              "...         ...      ...         ...\n",
              "9886         84  2019-06         953\n",
              "9887         84  2019-07        1034\n",
              "9888         84  2019-08        2099\n",
              "9889         84  2019-09         952\n",
              "9890         84  2019-10        1113\n",
              "\n",
              "[9891 rows x 3 columns]"
            ]
          },
          "metadata": {
            "tags": []
          },
          "execution_count": 6
        }
      ]
    },
    {
      "cell_type": "code",
      "metadata": {
        "id": "CjPbTNPqsGLC",
        "colab": {
          "base_uri": "https://localhost:8080/"
        },
        "outputId": "e88205f3-682f-42da-9367-86363aa7cae0"
      },
      "source": [
        "print(csv_train1.shape)\n",
        "print(csv_train2.shape)\n",
        "print(csv_train3.shape)\n",
        "print(csv_train4.shape)"
      ],
      "execution_count": 7,
      "outputs": [
        {
          "output_type": "stream",
          "text": [
            "(9891, 3)\n",
            "(168, 3)\n",
            "(9891, 3)\n",
            "(1176, 3)\n"
          ],
          "name": "stdout"
        }
      ]
    },
    {
      "cell_type": "code",
      "metadata": {
        "colab": {
          "base_uri": "https://localhost:8080/"
        },
        "id": "gh9_xBXgiAoJ",
        "outputId": "fc43464f-95e3-4016-b1c0-df8073d85916"
      },
      "source": [
        "#テーブルの結合\r\n",
        "csv_train5 = pd.concat([csv_train1,csv_train2],sort=False) #sales\r\n",
        "csv_train6 = pd.concat([csv_train3,csv_train4],sort=False) #waribiki\r\n",
        "\r\n",
        "print(csv_train5.shape)\r\n",
        "print(csv_train6.shape)"
      ],
      "execution_count": 8,
      "outputs": [
        {
          "output_type": "stream",
          "text": [
            "(10059, 3)\n",
            "(11067, 3)\n"
          ],
          "name": "stdout"
        }
      ]
    },
    {
      "cell_type": "code",
      "metadata": {
        "id": "E3qpzCxvlK_1"
      },
      "source": [
        "#テーブルの結合(merge)\r\n",
        "csv_train = pd.merge(csv_train5,csv_train6,on=[\"ProductID\",\"Date\"],how='outer')"
      ],
      "execution_count": 9,
      "outputs": []
    },
    {
      "cell_type": "code",
      "metadata": {
        "colab": {
          "base_uri": "https://localhost:8080/",
          "height": 402
        },
        "id": "Bje4OhrBrudr",
        "outputId": "e0afe6a8-67c0-4aa4-c9c6-e8850cfae78a"
      },
      "source": [
        "csv_train"
      ],
      "execution_count": 10,
      "outputs": [
        {
          "output_type": "execute_result",
          "data": {
            "text/html": [
              "<div>\n",
              "<style scoped>\n",
              "    .dataframe tbody tr th:only-of-type {\n",
              "        vertical-align: middle;\n",
              "    }\n",
              "\n",
              "    .dataframe tbody tr th {\n",
              "        vertical-align: top;\n",
              "    }\n",
              "\n",
              "    .dataframe thead th {\n",
              "        text-align: right;\n",
              "    }\n",
              "</style>\n",
              "<table border=\"1\" class=\"dataframe\">\n",
              "  <thead>\n",
              "    <tr style=\"text-align: right;\">\n",
              "      <th></th>\n",
              "      <th>ProductID</th>\n",
              "      <th>Date</th>\n",
              "      <th>SalesCount</th>\n",
              "      <th>Discount</th>\n",
              "    </tr>\n",
              "  </thead>\n",
              "  <tbody>\n",
              "    <tr>\n",
              "      <th>0</th>\n",
              "      <td>1</td>\n",
              "      <td>2010-01</td>\n",
              "      <td>142.0</td>\n",
              "      <td>0</td>\n",
              "    </tr>\n",
              "    <tr>\n",
              "      <th>1</th>\n",
              "      <td>1</td>\n",
              "      <td>2010-02</td>\n",
              "      <td>150.0</td>\n",
              "      <td>0</td>\n",
              "    </tr>\n",
              "    <tr>\n",
              "      <th>2</th>\n",
              "      <td>1</td>\n",
              "      <td>2010-03</td>\n",
              "      <td>217.0</td>\n",
              "      <td>0</td>\n",
              "    </tr>\n",
              "    <tr>\n",
              "      <th>3</th>\n",
              "      <td>1</td>\n",
              "      <td>2010-04</td>\n",
              "      <td>190.0</td>\n",
              "      <td>0</td>\n",
              "    </tr>\n",
              "    <tr>\n",
              "      <th>4</th>\n",
              "      <td>1</td>\n",
              "      <td>2010-05</td>\n",
              "      <td>193.0</td>\n",
              "      <td>0</td>\n",
              "    </tr>\n",
              "    <tr>\n",
              "      <th>...</th>\n",
              "      <td>...</td>\n",
              "      <td>...</td>\n",
              "      <td>...</td>\n",
              "      <td>...</td>\n",
              "    </tr>\n",
              "    <tr>\n",
              "      <th>11062</th>\n",
              "      <td>84</td>\n",
              "      <td>2020-08</td>\n",
              "      <td>NaN</td>\n",
              "      <td>0</td>\n",
              "    </tr>\n",
              "    <tr>\n",
              "      <th>11063</th>\n",
              "      <td>84</td>\n",
              "      <td>2020-09</td>\n",
              "      <td>NaN</td>\n",
              "      <td>20</td>\n",
              "    </tr>\n",
              "    <tr>\n",
              "      <th>11064</th>\n",
              "      <td>84</td>\n",
              "      <td>2020-10</td>\n",
              "      <td>NaN</td>\n",
              "      <td>0</td>\n",
              "    </tr>\n",
              "    <tr>\n",
              "      <th>11065</th>\n",
              "      <td>84</td>\n",
              "      <td>2020-11</td>\n",
              "      <td>NaN</td>\n",
              "      <td>20</td>\n",
              "    </tr>\n",
              "    <tr>\n",
              "      <th>11066</th>\n",
              "      <td>84</td>\n",
              "      <td>2020-12</td>\n",
              "      <td>NaN</td>\n",
              "      <td>50</td>\n",
              "    </tr>\n",
              "  </tbody>\n",
              "</table>\n",
              "<p>11067 rows × 4 columns</p>\n",
              "</div>"
            ],
            "text/plain": [
              "       ProductID     Date  SalesCount  Discount\n",
              "0              1  2010-01       142.0         0\n",
              "1              1  2010-02       150.0         0\n",
              "2              1  2010-03       217.0         0\n",
              "3              1  2010-04       190.0         0\n",
              "4              1  2010-05       193.0         0\n",
              "...          ...      ...         ...       ...\n",
              "11062         84  2020-08         NaN         0\n",
              "11063         84  2020-09         NaN        20\n",
              "11064         84  2020-10         NaN         0\n",
              "11065         84  2020-11         NaN        20\n",
              "11066         84  2020-12         NaN        50\n",
              "\n",
              "[11067 rows x 4 columns]"
            ]
          },
          "metadata": {
            "tags": []
          },
          "execution_count": 10
        }
      ]
    },
    {
      "cell_type": "code",
      "metadata": {
        "id": "SEGIhBRqjZMI"
      },
      "source": [
        "#日付を年と月に分割\r\n",
        "csv_train['Year']=csv_train['Date'].str[:4]\r\n",
        "csv_train['Month']=csv_train['Date'].str[-2:]"
      ],
      "execution_count": 11,
      "outputs": []
    },
    {
      "cell_type": "code",
      "metadata": {
        "colab": {
          "base_uri": "https://localhost:8080/",
          "height": 402
        },
        "id": "80-tv5TQmbrT",
        "outputId": "ced6b67b-9e36-4d25-9d89-892cee01dfae"
      },
      "source": [
        "csv_train"
      ],
      "execution_count": 12,
      "outputs": [
        {
          "output_type": "execute_result",
          "data": {
            "text/html": [
              "<div>\n",
              "<style scoped>\n",
              "    .dataframe tbody tr th:only-of-type {\n",
              "        vertical-align: middle;\n",
              "    }\n",
              "\n",
              "    .dataframe tbody tr th {\n",
              "        vertical-align: top;\n",
              "    }\n",
              "\n",
              "    .dataframe thead th {\n",
              "        text-align: right;\n",
              "    }\n",
              "</style>\n",
              "<table border=\"1\" class=\"dataframe\">\n",
              "  <thead>\n",
              "    <tr style=\"text-align: right;\">\n",
              "      <th></th>\n",
              "      <th>ProductID</th>\n",
              "      <th>Date</th>\n",
              "      <th>SalesCount</th>\n",
              "      <th>Discount</th>\n",
              "      <th>Year</th>\n",
              "      <th>Month</th>\n",
              "    </tr>\n",
              "  </thead>\n",
              "  <tbody>\n",
              "    <tr>\n",
              "      <th>0</th>\n",
              "      <td>1</td>\n",
              "      <td>2010-01</td>\n",
              "      <td>142.0</td>\n",
              "      <td>0</td>\n",
              "      <td>2010</td>\n",
              "      <td>01</td>\n",
              "    </tr>\n",
              "    <tr>\n",
              "      <th>1</th>\n",
              "      <td>1</td>\n",
              "      <td>2010-02</td>\n",
              "      <td>150.0</td>\n",
              "      <td>0</td>\n",
              "      <td>2010</td>\n",
              "      <td>02</td>\n",
              "    </tr>\n",
              "    <tr>\n",
              "      <th>2</th>\n",
              "      <td>1</td>\n",
              "      <td>2010-03</td>\n",
              "      <td>217.0</td>\n",
              "      <td>0</td>\n",
              "      <td>2010</td>\n",
              "      <td>03</td>\n",
              "    </tr>\n",
              "    <tr>\n",
              "      <th>3</th>\n",
              "      <td>1</td>\n",
              "      <td>2010-04</td>\n",
              "      <td>190.0</td>\n",
              "      <td>0</td>\n",
              "      <td>2010</td>\n",
              "      <td>04</td>\n",
              "    </tr>\n",
              "    <tr>\n",
              "      <th>4</th>\n",
              "      <td>1</td>\n",
              "      <td>2010-05</td>\n",
              "      <td>193.0</td>\n",
              "      <td>0</td>\n",
              "      <td>2010</td>\n",
              "      <td>05</td>\n",
              "    </tr>\n",
              "    <tr>\n",
              "      <th>...</th>\n",
              "      <td>...</td>\n",
              "      <td>...</td>\n",
              "      <td>...</td>\n",
              "      <td>...</td>\n",
              "      <td>...</td>\n",
              "      <td>...</td>\n",
              "    </tr>\n",
              "    <tr>\n",
              "      <th>11062</th>\n",
              "      <td>84</td>\n",
              "      <td>2020-08</td>\n",
              "      <td>NaN</td>\n",
              "      <td>0</td>\n",
              "      <td>2020</td>\n",
              "      <td>08</td>\n",
              "    </tr>\n",
              "    <tr>\n",
              "      <th>11063</th>\n",
              "      <td>84</td>\n",
              "      <td>2020-09</td>\n",
              "      <td>NaN</td>\n",
              "      <td>20</td>\n",
              "      <td>2020</td>\n",
              "      <td>09</td>\n",
              "    </tr>\n",
              "    <tr>\n",
              "      <th>11064</th>\n",
              "      <td>84</td>\n",
              "      <td>2020-10</td>\n",
              "      <td>NaN</td>\n",
              "      <td>0</td>\n",
              "      <td>2020</td>\n",
              "      <td>10</td>\n",
              "    </tr>\n",
              "    <tr>\n",
              "      <th>11065</th>\n",
              "      <td>84</td>\n",
              "      <td>2020-11</td>\n",
              "      <td>NaN</td>\n",
              "      <td>20</td>\n",
              "      <td>2020</td>\n",
              "      <td>11</td>\n",
              "    </tr>\n",
              "    <tr>\n",
              "      <th>11066</th>\n",
              "      <td>84</td>\n",
              "      <td>2020-12</td>\n",
              "      <td>NaN</td>\n",
              "      <td>50</td>\n",
              "      <td>2020</td>\n",
              "      <td>12</td>\n",
              "    </tr>\n",
              "  </tbody>\n",
              "</table>\n",
              "<p>11067 rows × 6 columns</p>\n",
              "</div>"
            ],
            "text/plain": [
              "       ProductID     Date  SalesCount  Discount  Year Month\n",
              "0              1  2010-01       142.0         0  2010    01\n",
              "1              1  2010-02       150.0         0  2010    02\n",
              "2              1  2010-03       217.0         0  2010    03\n",
              "3              1  2010-04       190.0         0  2010    04\n",
              "4              1  2010-05       193.0         0  2010    05\n",
              "...          ...      ...         ...       ...   ...   ...\n",
              "11062         84  2020-08         NaN         0  2020    08\n",
              "11063         84  2020-09         NaN        20  2020    09\n",
              "11064         84  2020-10         NaN         0  2020    10\n",
              "11065         84  2020-11         NaN        20  2020    11\n",
              "11066         84  2020-12         NaN        50  2020    12\n",
              "\n",
              "[11067 rows x 6 columns]"
            ]
          },
          "metadata": {
            "tags": []
          },
          "execution_count": 12
        }
      ]
    },
    {
      "cell_type": "code",
      "metadata": {
        "id": "9mUanfX9w_KK",
        "colab": {
          "base_uri": "https://localhost:8080/"
        },
        "outputId": "a30723ea-40fa-4427-d485-d9977fcff4a9"
      },
      "source": [
        "#欠損値の確認///欠損値無し・・・目的変数であるSalesCountはNaNあり\n",
        "csv_train.isnull().any(axis=0)"
      ],
      "execution_count": 13,
      "outputs": [
        {
          "output_type": "execute_result",
          "data": {
            "text/plain": [
              "ProductID     False\n",
              "Date          False\n",
              "SalesCount     True\n",
              "Discount      False\n",
              "Year          False\n",
              "Month         False\n",
              "dtype: bool"
            ]
          },
          "metadata": {
            "tags": []
          },
          "execution_count": 13
        }
      ]
    },
    {
      "cell_type": "code",
      "metadata": {
        "id": "jqRc_hiAxKpp",
        "colab": {
          "base_uri": "https://localhost:8080/",
          "height": 284
        },
        "outputId": "d716d485-8ff4-4987-87a6-39b14288b807"
      },
      "source": [
        "#統計量計算\n",
        "csv_train.describe()"
      ],
      "execution_count": 14,
      "outputs": [
        {
          "output_type": "execute_result",
          "data": {
            "text/html": [
              "<div>\n",
              "<style scoped>\n",
              "    .dataframe tbody tr th:only-of-type {\n",
              "        vertical-align: middle;\n",
              "    }\n",
              "\n",
              "    .dataframe tbody tr th {\n",
              "        vertical-align: top;\n",
              "    }\n",
              "\n",
              "    .dataframe thead th {\n",
              "        text-align: right;\n",
              "    }\n",
              "</style>\n",
              "<table border=\"1\" class=\"dataframe\">\n",
              "  <thead>\n",
              "    <tr style=\"text-align: right;\">\n",
              "      <th></th>\n",
              "      <th>ProductID</th>\n",
              "      <th>SalesCount</th>\n",
              "      <th>Discount</th>\n",
              "    </tr>\n",
              "  </thead>\n",
              "  <tbody>\n",
              "    <tr>\n",
              "      <th>count</th>\n",
              "      <td>11067.000000</td>\n",
              "      <td>10059.000000</td>\n",
              "      <td>11067.000000</td>\n",
              "    </tr>\n",
              "    <tr>\n",
              "      <th>mean</th>\n",
              "      <td>42.456040</td>\n",
              "      <td>1462.186897</td>\n",
              "      <td>5.626638</td>\n",
              "    </tr>\n",
              "    <tr>\n",
              "      <th>std</th>\n",
              "      <td>24.236372</td>\n",
              "      <td>3496.128705</td>\n",
              "      <td>9.978874</td>\n",
              "    </tr>\n",
              "    <tr>\n",
              "      <th>min</th>\n",
              "      <td>1.000000</td>\n",
              "      <td>13.000000</td>\n",
              "      <td>0.000000</td>\n",
              "    </tr>\n",
              "    <tr>\n",
              "      <th>25%</th>\n",
              "      <td>21.000000</td>\n",
              "      <td>346.000000</td>\n",
              "      <td>0.000000</td>\n",
              "    </tr>\n",
              "    <tr>\n",
              "      <th>50%</th>\n",
              "      <td>42.000000</td>\n",
              "      <td>622.000000</td>\n",
              "      <td>0.000000</td>\n",
              "    </tr>\n",
              "    <tr>\n",
              "      <th>75%</th>\n",
              "      <td>63.000000</td>\n",
              "      <td>1240.000000</td>\n",
              "      <td>10.000000</td>\n",
              "    </tr>\n",
              "    <tr>\n",
              "      <th>max</th>\n",
              "      <td>84.000000</td>\n",
              "      <td>82124.000000</td>\n",
              "      <td>60.000000</td>\n",
              "    </tr>\n",
              "  </tbody>\n",
              "</table>\n",
              "</div>"
            ],
            "text/plain": [
              "          ProductID    SalesCount      Discount\n",
              "count  11067.000000  10059.000000  11067.000000\n",
              "mean      42.456040   1462.186897      5.626638\n",
              "std       24.236372   3496.128705      9.978874\n",
              "min        1.000000     13.000000      0.000000\n",
              "25%       21.000000    346.000000      0.000000\n",
              "50%       42.000000    622.000000      0.000000\n",
              "75%       63.000000   1240.000000     10.000000\n",
              "max       84.000000  82124.000000     60.000000"
            ]
          },
          "metadata": {
            "tags": []
          },
          "execution_count": 14
        }
      ]
    },
    {
      "cell_type": "code",
      "metadata": {
        "id": "n89BSU4zyDx3",
        "colab": {
          "base_uri": "https://localhost:8080/",
          "height": 297
        },
        "outputId": "1cdd6b91-7b15-47fe-9366-1bb49bf446a5"
      },
      "source": [
        "#販売個数の分布\n",
        "plt.hist(csv_train['SalesCount'])\n",
        "plt.xlabel('Number of units sold')\n",
        "plt.ylabel('count')\n",
        "plt.show"
      ],
      "execution_count": 15,
      "outputs": [
        {
          "output_type": "execute_result",
          "data": {
            "text/plain": [
              "<function matplotlib.pyplot.show>"
            ]
          },
          "metadata": {
            "tags": []
          },
          "execution_count": 15
        },
        {
          "output_type": "display_data",
          "data": {
            "image/png": "[encoded data removed]",
            "text/plain": [
              "<Figure size 432x288 with 1 Axes>"
            ]
          },
          "metadata": {
            "tags": [],
            "needs_background": "light"
          }
        }
      ]
    },
    {
      "cell_type": "code",
      "metadata": {
        "id": "V6tMIMpMyd0b",
        "colab": {
          "base_uri": "https://localhost:8080/",
          "height": 744
        },
        "outputId": "abbf5ed7-07b5-4f07-cbe7-81f5c273e300"
      },
      "source": [
        "#各項目とSalesCountの相関を確認\n",
        "sns.pairplot(csv_train,vars=[\"Year\",\"Month\",\"Discount\",\"SalesCount\"])"
      ],
      "execution_count": 16,
      "outputs": [
        {
          "output_type": "execute_result",
          "data": {
            "text/plain": [
              "<seaborn.axisgrid.PairGrid at 0x7f4e15304550>"
            ]
          },
          "metadata": {
            "tags": []
          },
          "execution_count": 16
        },
        {
          "output_type": "display_data",
          "data": {
            "image/png": "[encoded data removed]",
            "text/plain": [
              "<Figure size 720x720 with 20 Axes>"
            ]
          },
          "metadata": {
            "tags": [],
            "needs_background": "light"
          }
        }
      ]
    },
    {
      "cell_type": "code",
      "metadata": {
        "colab": {
          "base_uri": "https://localhost:8080/",
          "height": 402
        },
        "id": "QWZJUeRwrR1X",
        "outputId": "cc92fe53-0cd4-4e5b-d2ed-9d1b1217dbdd"
      },
      "source": [
        "csv_train"
      ],
      "execution_count": 17,
      "outputs": [
        {
          "output_type": "execute_result",
          "data": {
            "text/html": [
              "<div>\n",
              "<style scoped>\n",
              "    .dataframe tbody tr th:only-of-type {\n",
              "        vertical-align: middle;\n",
              "    }\n",
              "\n",
              "    .dataframe tbody tr th {\n",
              "        vertical-align: top;\n",
              "    }\n",
              "\n",
              "    .dataframe thead th {\n",
              "        text-align: right;\n",
              "    }\n",
              "</style>\n",
              "<table border=\"1\" class=\"dataframe\">\n",
              "  <thead>\n",
              "    <tr style=\"text-align: right;\">\n",
              "      <th></th>\n",
              "      <th>ProductID</th>\n",
              "      <th>Date</th>\n",
              "      <th>SalesCount</th>\n",
              "      <th>Discount</th>\n",
              "      <th>Year</th>\n",
              "      <th>Month</th>\n",
              "    </tr>\n",
              "  </thead>\n",
              "  <tbody>\n",
              "    <tr>\n",
              "      <th>0</th>\n",
              "      <td>1</td>\n",
              "      <td>2010-01</td>\n",
              "      <td>142.0</td>\n",
              "      <td>0</td>\n",
              "      <td>2010</td>\n",
              "      <td>01</td>\n",
              "    </tr>\n",
              "    <tr>\n",
              "      <th>1</th>\n",
              "      <td>1</td>\n",
              "      <td>2010-02</td>\n",
              "      <td>150.0</td>\n",
              "      <td>0</td>\n",
              "      <td>2010</td>\n",
              "      <td>02</td>\n",
              "    </tr>\n",
              "    <tr>\n",
              "      <th>2</th>\n",
              "      <td>1</td>\n",
              "      <td>2010-03</td>\n",
              "      <td>217.0</td>\n",
              "      <td>0</td>\n",
              "      <td>2010</td>\n",
              "      <td>03</td>\n",
              "    </tr>\n",
              "    <tr>\n",
              "      <th>3</th>\n",
              "      <td>1</td>\n",
              "      <td>2010-04</td>\n",
              "      <td>190.0</td>\n",
              "      <td>0</td>\n",
              "      <td>2010</td>\n",
              "      <td>04</td>\n",
              "    </tr>\n",
              "    <tr>\n",
              "      <th>4</th>\n",
              "      <td>1</td>\n",
              "      <td>2010-05</td>\n",
              "      <td>193.0</td>\n",
              "      <td>0</td>\n",
              "      <td>2010</td>\n",
              "      <td>05</td>\n",
              "    </tr>\n",
              "    <tr>\n",
              "      <th>...</th>\n",
              "      <td>...</td>\n",
              "      <td>...</td>\n",
              "      <td>...</td>\n",
              "      <td>...</td>\n",
              "      <td>...</td>\n",
              "      <td>...</td>\n",
              "    </tr>\n",
              "    <tr>\n",
              "      <th>11062</th>\n",
              "      <td>84</td>\n",
              "      <td>2020-08</td>\n",
              "      <td>NaN</td>\n",
              "      <td>0</td>\n",
              "      <td>2020</td>\n",
              "      <td>08</td>\n",
              "    </tr>\n",
              "    <tr>\n",
              "      <th>11063</th>\n",
              "      <td>84</td>\n",
              "      <td>2020-09</td>\n",
              "      <td>NaN</td>\n",
              "      <td>20</td>\n",
              "      <td>2020</td>\n",
              "      <td>09</td>\n",
              "    </tr>\n",
              "    <tr>\n",
              "      <th>11064</th>\n",
              "      <td>84</td>\n",
              "      <td>2020-10</td>\n",
              "      <td>NaN</td>\n",
              "      <td>0</td>\n",
              "      <td>2020</td>\n",
              "      <td>10</td>\n",
              "    </tr>\n",
              "    <tr>\n",
              "      <th>11065</th>\n",
              "      <td>84</td>\n",
              "      <td>2020-11</td>\n",
              "      <td>NaN</td>\n",
              "      <td>20</td>\n",
              "      <td>2020</td>\n",
              "      <td>11</td>\n",
              "    </tr>\n",
              "    <tr>\n",
              "      <th>11066</th>\n",
              "      <td>84</td>\n",
              "      <td>2020-12</td>\n",
              "      <td>NaN</td>\n",
              "      <td>50</td>\n",
              "      <td>2020</td>\n",
              "      <td>12</td>\n",
              "    </tr>\n",
              "  </tbody>\n",
              "</table>\n",
              "<p>11067 rows × 6 columns</p>\n",
              "</div>"
            ],
            "text/plain": [
              "       ProductID     Date  SalesCount  Discount  Year Month\n",
              "0              1  2010-01       142.0         0  2010    01\n",
              "1              1  2010-02       150.0         0  2010    02\n",
              "2              1  2010-03       217.0         0  2010    03\n",
              "3              1  2010-04       190.0         0  2010    04\n",
              "4              1  2010-05       193.0         0  2010    05\n",
              "...          ...      ...         ...       ...   ...   ...\n",
              "11062         84  2020-08         NaN         0  2020    08\n",
              "11063         84  2020-09         NaN        20  2020    09\n",
              "11064         84  2020-10         NaN         0  2020    10\n",
              "11065         84  2020-11         NaN        20  2020    11\n",
              "11066         84  2020-12         NaN        50  2020    12\n",
              "\n",
              "[11067 rows x 6 columns]"
            ]
          },
          "metadata": {
            "tags": []
          },
          "execution_count": 17
        }
      ]
    },
    {
      "cell_type": "code",
      "metadata": {
        "id": "7bkqyi8WylMK"
      },
      "source": [
        "#属性変換　varchar to int\n",
        "csv_train['ProductID'] = csv_train['ProductID'].astype(int)\n",
        "csv_train['Date'] = csv_train['Date'].astype(object)\n",
        "#csv_train['SalesCount'] = csv_train['SalesCount'].astype(int)\n",
        "csv_train['Discount'] = csv_train['Discount'].astype(int)\n",
        "csv_train['Year'] = csv_train['Year'].astype(int)\n",
        "csv_train['Month'] = csv_train['Month'].astype(int)"
      ],
      "execution_count": 18,
      "outputs": []
    },
    {
      "cell_type": "code",
      "metadata": {
        "colab": {
          "base_uri": "https://localhost:8080/",
          "height": 402
        },
        "id": "zrDozOglqzYr",
        "outputId": "856aefa7-5d87-48fc-8660-8667895b10ab"
      },
      "source": [
        "csv_train"
      ],
      "execution_count": 31,
      "outputs": [
        {
          "output_type": "execute_result",
          "data": {
            "text/html": [
              "<div>\n",
              "<style scoped>\n",
              "    .dataframe tbody tr th:only-of-type {\n",
              "        vertical-align: middle;\n",
              "    }\n",
              "\n",
              "    .dataframe tbody tr th {\n",
              "        vertical-align: top;\n",
              "    }\n",
              "\n",
              "    .dataframe thead th {\n",
              "        text-align: right;\n",
              "    }\n",
              "</style>\n",
              "<table border=\"1\" class=\"dataframe\">\n",
              "  <thead>\n",
              "    <tr style=\"text-align: right;\">\n",
              "      <th></th>\n",
              "      <th>ProductID</th>\n",
              "      <th>Date</th>\n",
              "      <th>SalesCount</th>\n",
              "      <th>Discount</th>\n",
              "      <th>Year</th>\n",
              "      <th>Month</th>\n",
              "    </tr>\n",
              "  </thead>\n",
              "  <tbody>\n",
              "    <tr>\n",
              "      <th>0</th>\n",
              "      <td>1</td>\n",
              "      <td>2010-01</td>\n",
              "      <td>142.0</td>\n",
              "      <td>0</td>\n",
              "      <td>2010</td>\n",
              "      <td>1</td>\n",
              "    </tr>\n",
              "    <tr>\n",
              "      <th>1</th>\n",
              "      <td>1</td>\n",
              "      <td>2010-02</td>\n",
              "      <td>150.0</td>\n",
              "      <td>0</td>\n",
              "      <td>2010</td>\n",
              "      <td>2</td>\n",
              "    </tr>\n",
              "    <tr>\n",
              "      <th>2</th>\n",
              "      <td>1</td>\n",
              "      <td>2010-03</td>\n",
              "      <td>217.0</td>\n",
              "      <td>0</td>\n",
              "      <td>2010</td>\n",
              "      <td>3</td>\n",
              "    </tr>\n",
              "    <tr>\n",
              "      <th>3</th>\n",
              "      <td>1</td>\n",
              "      <td>2010-04</td>\n",
              "      <td>190.0</td>\n",
              "      <td>0</td>\n",
              "      <td>2010</td>\n",
              "      <td>4</td>\n",
              "    </tr>\n",
              "    <tr>\n",
              "      <th>4</th>\n",
              "      <td>1</td>\n",
              "      <td>2010-05</td>\n",
              "      <td>193.0</td>\n",
              "      <td>0</td>\n",
              "      <td>2010</td>\n",
              "      <td>5</td>\n",
              "    </tr>\n",
              "    <tr>\n",
              "      <th>...</th>\n",
              "      <td>...</td>\n",
              "      <td>...</td>\n",
              "      <td>...</td>\n",
              "      <td>...</td>\n",
              "      <td>...</td>\n",
              "      <td>...</td>\n",
              "    </tr>\n",
              "    <tr>\n",
              "      <th>11062</th>\n",
              "      <td>84</td>\n",
              "      <td>2020-08</td>\n",
              "      <td>NaN</td>\n",
              "      <td>0</td>\n",
              "      <td>2020</td>\n",
              "      <td>8</td>\n",
              "    </tr>\n",
              "    <tr>\n",
              "      <th>11063</th>\n",
              "      <td>84</td>\n",
              "      <td>2020-09</td>\n",
              "      <td>NaN</td>\n",
              "      <td>20</td>\n",
              "      <td>2020</td>\n",
              "      <td>9</td>\n",
              "    </tr>\n",
              "    <tr>\n",
              "      <th>11064</th>\n",
              "      <td>84</td>\n",
              "      <td>2020-10</td>\n",
              "      <td>NaN</td>\n",
              "      <td>0</td>\n",
              "      <td>2020</td>\n",
              "      <td>10</td>\n",
              "    </tr>\n",
              "    <tr>\n",
              "      <th>11065</th>\n",
              "      <td>84</td>\n",
              "      <td>2020-11</td>\n",
              "      <td>NaN</td>\n",
              "      <td>20</td>\n",
              "      <td>2020</td>\n",
              "      <td>11</td>\n",
              "    </tr>\n",
              "    <tr>\n",
              "      <th>11066</th>\n",
              "      <td>84</td>\n",
              "      <td>2020-12</td>\n",
              "      <td>NaN</td>\n",
              "      <td>50</td>\n",
              "      <td>2020</td>\n",
              "      <td>12</td>\n",
              "    </tr>\n",
              "  </tbody>\n",
              "</table>\n",
              "<p>11067 rows × 6 columns</p>\n",
              "</div>"
            ],
            "text/plain": [
              "       ProductID     Date  SalesCount  Discount  Year  Month\n",
              "0              1  2010-01       142.0         0  2010      1\n",
              "1              1  2010-02       150.0         0  2010      2\n",
              "2              1  2010-03       217.0         0  2010      3\n",
              "3              1  2010-04       190.0         0  2010      4\n",
              "4              1  2010-05       193.0         0  2010      5\n",
              "...          ...      ...         ...       ...   ...    ...\n",
              "11062         84  2020-08         NaN         0  2020      8\n",
              "11063         84  2020-09         NaN        20  2020      9\n",
              "11064         84  2020-10         NaN         0  2020     10\n",
              "11065         84  2020-11         NaN        20  2020     11\n",
              "11066         84  2020-12         NaN        50  2020     12\n",
              "\n",
              "[11067 rows x 6 columns]"
            ]
          },
          "metadata": {
            "tags": []
          },
          "execution_count": 31
        }
      ]
    },
    {
      "cell_type": "code",
      "metadata": {
        "id": "zruY7015h1Yp"
      },
      "source": [
        "#データの分割\r\n",
        "#Train  2010-2019\r\n",
        "#Test   2020\r\n",
        "Train = csv_train[csv_train.Year<2020] #学習\r\n",
        "Test =  csv_train[csv_train.Year==2020] #テスト"
      ],
      "execution_count": 32,
      "outputs": []
    },
    {
      "cell_type": "code",
      "metadata": {
        "colab": {
          "base_uri": "https://localhost:8080/",
          "height": 402
        },
        "id": "u35p0bDyqGpv",
        "outputId": "cfeb8136-bc58-4946-c47a-f23a97a3e3d9"
      },
      "source": [
        "Train"
      ],
      "execution_count": 33,
      "outputs": [
        {
          "output_type": "execute_result",
          "data": {
            "text/html": [
              "<div>\n",
              "<style scoped>\n",
              "    .dataframe tbody tr th:only-of-type {\n",
              "        vertical-align: middle;\n",
              "    }\n",
              "\n",
              "    .dataframe tbody tr th {\n",
              "        vertical-align: top;\n",
              "    }\n",
              "\n",
              "    .dataframe thead th {\n",
              "        text-align: right;\n",
              "    }\n",
              "</style>\n",
              "<table border=\"1\" class=\"dataframe\">\n",
              "  <thead>\n",
              "    <tr style=\"text-align: right;\">\n",
              "      <th></th>\n",
              "      <th>ProductID</th>\n",
              "      <th>Date</th>\n",
              "      <th>SalesCount</th>\n",
              "      <th>Discount</th>\n",
              "      <th>Year</th>\n",
              "      <th>Month</th>\n",
              "    </tr>\n",
              "  </thead>\n",
              "  <tbody>\n",
              "    <tr>\n",
              "      <th>0</th>\n",
              "      <td>1</td>\n",
              "      <td>2010-01</td>\n",
              "      <td>142.0</td>\n",
              "      <td>0</td>\n",
              "      <td>2010</td>\n",
              "      <td>1</td>\n",
              "    </tr>\n",
              "    <tr>\n",
              "      <th>1</th>\n",
              "      <td>1</td>\n",
              "      <td>2010-02</td>\n",
              "      <td>150.0</td>\n",
              "      <td>0</td>\n",
              "      <td>2010</td>\n",
              "      <td>2</td>\n",
              "    </tr>\n",
              "    <tr>\n",
              "      <th>2</th>\n",
              "      <td>1</td>\n",
              "      <td>2010-03</td>\n",
              "      <td>217.0</td>\n",
              "      <td>0</td>\n",
              "      <td>2010</td>\n",
              "      <td>3</td>\n",
              "    </tr>\n",
              "    <tr>\n",
              "      <th>3</th>\n",
              "      <td>1</td>\n",
              "      <td>2010-04</td>\n",
              "      <td>190.0</td>\n",
              "      <td>0</td>\n",
              "      <td>2010</td>\n",
              "      <td>4</td>\n",
              "    </tr>\n",
              "    <tr>\n",
              "      <th>4</th>\n",
              "      <td>1</td>\n",
              "      <td>2010-05</td>\n",
              "      <td>193.0</td>\n",
              "      <td>0</td>\n",
              "      <td>2010</td>\n",
              "      <td>5</td>\n",
              "    </tr>\n",
              "    <tr>\n",
              "      <th>...</th>\n",
              "      <td>...</td>\n",
              "      <td>...</td>\n",
              "      <td>...</td>\n",
              "      <td>...</td>\n",
              "      <td>...</td>\n",
              "      <td>...</td>\n",
              "    </tr>\n",
              "    <tr>\n",
              "      <th>10054</th>\n",
              "      <td>82</td>\n",
              "      <td>2019-12</td>\n",
              "      <td>1573.0</td>\n",
              "      <td>10</td>\n",
              "      <td>2019</td>\n",
              "      <td>12</td>\n",
              "    </tr>\n",
              "    <tr>\n",
              "      <th>10055</th>\n",
              "      <td>83</td>\n",
              "      <td>2019-11</td>\n",
              "      <td>134.0</td>\n",
              "      <td>0</td>\n",
              "      <td>2019</td>\n",
              "      <td>11</td>\n",
              "    </tr>\n",
              "    <tr>\n",
              "      <th>10056</th>\n",
              "      <td>83</td>\n",
              "      <td>2019-12</td>\n",
              "      <td>338.0</td>\n",
              "      <td>20</td>\n",
              "      <td>2019</td>\n",
              "      <td>12</td>\n",
              "    </tr>\n",
              "    <tr>\n",
              "      <th>10057</th>\n",
              "      <td>84</td>\n",
              "      <td>2019-11</td>\n",
              "      <td>958.0</td>\n",
              "      <td>0</td>\n",
              "      <td>2019</td>\n",
              "      <td>11</td>\n",
              "    </tr>\n",
              "    <tr>\n",
              "      <th>10058</th>\n",
              "      <td>84</td>\n",
              "      <td>2019-12</td>\n",
              "      <td>1637.0</td>\n",
              "      <td>10</td>\n",
              "      <td>2019</td>\n",
              "      <td>12</td>\n",
              "    </tr>\n",
              "  </tbody>\n",
              "</table>\n",
              "<p>10059 rows × 6 columns</p>\n",
              "</div>"
            ],
            "text/plain": [
              "       ProductID     Date  SalesCount  Discount  Year  Month\n",
              "0              1  2010-01       142.0         0  2010      1\n",
              "1              1  2010-02       150.0         0  2010      2\n",
              "2              1  2010-03       217.0         0  2010      3\n",
              "3              1  2010-04       190.0         0  2010      4\n",
              "4              1  2010-05       193.0         0  2010      5\n",
              "...          ...      ...         ...       ...   ...    ...\n",
              "10054         82  2019-12      1573.0        10  2019     12\n",
              "10055         83  2019-11       134.0         0  2019     11\n",
              "10056         83  2019-12       338.0        20  2019     12\n",
              "10057         84  2019-11       958.0         0  2019     11\n",
              "10058         84  2019-12      1637.0        10  2019     12\n",
              "\n",
              "[10059 rows x 6 columns]"
            ]
          },
          "metadata": {
            "tags": []
          },
          "execution_count": 33
        }
      ]
    },
    {
      "cell_type": "code",
      "metadata": {
        "id": "7Pf-ub50zNYq"
      },
      "source": [
        "# XGBoostのライブラリのインポート\n",
        "import xgboost as xgb\n",
        "from sklearn.model_selection import GridSearchCV\n",
        "from sklearn.metrics import mean_squared_error"
      ],
      "execution_count": 34,
      "outputs": []
    },
    {
      "cell_type": "code",
      "metadata": {
        "id": "JsrpQ0I_0AX_"
      },
      "source": [
        "# xgboostモデルの作成\n",
        "reg = xgb.XGBRegressor()"
      ],
      "execution_count": 35,
      "outputs": []
    },
    {
      "cell_type": "code",
      "metadata": {
        "id": "6We8mKrxi0fc"
      },
      "source": [
        "# 説明変数、目的変数を格納 axis=1 x方向\n",
        "X_train = Train.drop(['SalesCount','Date'], axis=1)\n",
        "y_train = Train['SalesCount']\n",
        "#X_val = Val.drop(['SalesCount','Date'], axis=1)\n",
        "#y_val = Val['SalesCount']\n",
        "X_test = Test.drop(['SalesCount','Date'], axis=1)"
      ],
      "execution_count": 36,
      "outputs": []
    },
    {
      "cell_type": "code",
      "metadata": {
        "id": "FsrzdprGi3rN",
        "colab": {
          "base_uri": "https://localhost:8080/"
        },
        "outputId": "0dea0749-ecd3-48eb-dd3c-c18088cec529"
      },
      "source": [
        "# ハイパーパラメータ探索\n",
        "#{'alpha': 0.0, 'colsample_bytree': 0.6, 'eta': 0.1, 'gamma': 0.1, 'lambda': 1.0, 'max_depth': 7, 'min_child_weight': 4, 'subsample': 0.9} 0.8358415312594161\n",
        "#[Parallel(n_jobs=1)]: Done 33600 out of 33600 | elapsed: 24.1min finished\n",
        "#②{'alpha': 0.0, 'colsample_bytree': 0.4, 'eta': 0.1, 'gamma': 0.1, 'lambda': 1.0, 'max_depth': 7, 'min_child_weight': 4, 'subsample': 0.9} 0.8453318693069807\n",
        "#[Parallel(n_jobs=1)]: Done 7680 out of 7680 | elapsed:  5.6min finished\n",
        "reg_cv = GridSearchCV(reg, {'max_depth': [7], 'min_child_weight': [4],'eta':[0.1],'colsample_bytree':[0.1,0.2,0.3,0.4,0.5,0.6,0.7],'alpha':[0.0],'subsample':[0.9,1.0],'gamma':[0.1],'lambda':[1.0]}, verbose=1)\n",
        "reg_cv.fit(X_train, y_train)\n",
        "print(reg_cv.best_params_, reg_cv.best_score_)"
      ],
      "execution_count": 37,
      "outputs": [
        {
          "output_type": "stream",
          "text": [
            "Fitting 5 folds for each of 14 candidates, totalling 70 fits\n",
            "[17:23:57] WARNING: /workspace/src/objective/regression_obj.cu:152: reg:linear is now deprecated in favor of reg:squarederror.\n"
          ],
          "name": "stdout"
        },
        {
          "output_type": "stream",
          "text": [
            "[Parallel(n_jobs=1)]: Using backend SequentialBackend with 1 concurrent workers.\n"
          ],
          "name": "stderr"
        },
        {
          "output_type": "stream",
          "text": [
            "[17:23:57] WARNING: /workspace/src/objective/regression_obj.cu:152: reg:linear is now deprecated in favor of reg:squarederror.\n",
            "[17:23:57] WARNING: /workspace/src/objective/regression_obj.cu:152: reg:linear is now deprecated in favor of reg:squarederror.\n",
            "[17:23:57] WARNING: /workspace/src/objective/regression_obj.cu:152: reg:linear is now deprecated in favor of reg:squarederror.\n",
            "[17:23:58] WARNING: /workspace/src/objective/regression_obj.cu:152: reg:linear is now deprecated in favor of reg:squarederror.\n",
            "[17:23:58] WARNING: /workspace/src/objective/regression_obj.cu:152: reg:linear is now deprecated in favor of reg:squarederror.\n",
            "[17:23:58] WARNING: /workspace/src/objective/regression_obj.cu:152: reg:linear is now deprecated in favor of reg:squarederror.\n",
            "[17:23:58] WARNING: /workspace/src/objective/regression_obj.cu:152: reg:linear is now deprecated in favor of reg:squarederror.\n",
            "[17:23:58] WARNING: /workspace/src/objective/regression_obj.cu:152: reg:linear is now deprecated in favor of reg:squarederror.\n",
            "[17:23:59] WARNING: /workspace/src/objective/regression_obj.cu:152: reg:linear is now deprecated in favor of reg:squarederror.\n",
            "[17:23:59] WARNING: /workspace/src/objective/regression_obj.cu:152: reg:linear is now deprecated in favor of reg:squarederror.\n",
            "[17:23:59] WARNING: /workspace/src/objective/regression_obj.cu:152: reg:linear is now deprecated in favor of reg:squarederror.\n",
            "[17:23:59] WARNING: /workspace/src/objective/regression_obj.cu:152: reg:linear is now deprecated in favor of reg:squarederror.\n",
            "[17:23:59] WARNING: /workspace/src/objective/regression_obj.cu:152: reg:linear is now deprecated in favor of reg:squarederror.\n",
            "[17:24:00] WARNING: /workspace/src/objective/regression_obj.cu:152: reg:linear is now deprecated in favor of reg:squarederror.\n",
            "[17:24:00] WARNING: /workspace/src/objective/regression_obj.cu:152: reg:linear is now deprecated in favor of reg:squarederror.\n",
            "[17:24:00] WARNING: /workspace/src/objective/regression_obj.cu:152: reg:linear is now deprecated in favor of reg:squarederror.\n",
            "[17:24:00] WARNING: /workspace/src/objective/regression_obj.cu:152: reg:linear is now deprecated in favor of reg:squarederror.\n",
            "[17:24:00] WARNING: /workspace/src/objective/regression_obj.cu:152: reg:linear is now deprecated in favor of reg:squarederror.\n",
            "[17:24:01] WARNING: /workspace/src/objective/regression_obj.cu:152: reg:linear is now deprecated in favor of reg:squarederror.\n",
            "[17:24:01] WARNING: /workspace/src/objective/regression_obj.cu:152: reg:linear is now deprecated in favor of reg:squarederror.\n",
            "[17:24:01] WARNING: /workspace/src/objective/regression_obj.cu:152: reg:linear is now deprecated in favor of reg:squarederror.\n",
            "[17:24:01] WARNING: /workspace/src/objective/regression_obj.cu:152: reg:linear is now deprecated in favor of reg:squarederror.\n",
            "[17:24:01] WARNING: /workspace/src/objective/regression_obj.cu:152: reg:linear is now deprecated in favor of reg:squarederror.\n",
            "[17:24:02] WARNING: /workspace/src/objective/regression_obj.cu:152: reg:linear is now deprecated in favor of reg:squarederror.\n",
            "[17:24:02] WARNING: /workspace/src/objective/regression_obj.cu:152: reg:linear is now deprecated in favor of reg:squarederror.\n",
            "[17:24:02] WARNING: /workspace/src/objective/regression_obj.cu:152: reg:linear is now deprecated in favor of reg:squarederror.\n",
            "[17:24:02] WARNING: /workspace/src/objective/regression_obj.cu:152: reg:linear is now deprecated in favor of reg:squarederror.\n",
            "[17:24:02] WARNING: /workspace/src/objective/regression_obj.cu:152: reg:linear is now deprecated in favor of reg:squarederror.\n",
            "[17:24:03] WARNING: /workspace/src/objective/regression_obj.cu:152: reg:linear is now deprecated in favor of reg:squarederror.\n",
            "[17:24:03] WARNING: /workspace/src/objective/regression_obj.cu:152: reg:linear is now deprecated in favor of reg:squarederror.\n",
            "[17:24:03] WARNING: /workspace/src/objective/regression_obj.cu:152: reg:linear is now deprecated in favor of reg:squarederror.\n",
            "[17:24:03] WARNING: /workspace/src/objective/regression_obj.cu:152: reg:linear is now deprecated in favor of reg:squarederror.\n",
            "[17:24:03] WARNING: /workspace/src/objective/regression_obj.cu:152: reg:linear is now deprecated in favor of reg:squarederror.\n",
            "[17:24:04] WARNING: /workspace/src/objective/regression_obj.cu:152: reg:linear is now deprecated in favor of reg:squarederror.\n",
            "[17:24:04] WARNING: /workspace/src/objective/regression_obj.cu:152: reg:linear is now deprecated in favor of reg:squarederror.\n",
            "[17:24:04] WARNING: /workspace/src/objective/regression_obj.cu:152: reg:linear is now deprecated in favor of reg:squarederror.\n",
            "[17:24:04] WARNING: /workspace/src/objective/regression_obj.cu:152: reg:linear is now deprecated in favor of reg:squarederror.\n",
            "[17:24:05] WARNING: /workspace/src/objective/regression_obj.cu:152: reg:linear is now deprecated in favor of reg:squarederror.\n",
            "[17:24:05] WARNING: /workspace/src/objective/regression_obj.cu:152: reg:linear is now deprecated in favor of reg:squarederror.\n",
            "[17:24:05] WARNING: /workspace/src/objective/regression_obj.cu:152: reg:linear is now deprecated in favor of reg:squarederror.\n",
            "[17:24:05] WARNING: /workspace/src/objective/regression_obj.cu:152: reg:linear is now deprecated in favor of reg:squarederror.\n",
            "[17:24:06] WARNING: /workspace/src/objective/regression_obj.cu:152: reg:linear is now deprecated in favor of reg:squarederror.\n",
            "[17:24:06] WARNING: /workspace/src/objective/regression_obj.cu:152: reg:linear is now deprecated in favor of reg:squarederror.\n",
            "[17:24:06] WARNING: /workspace/src/objective/regression_obj.cu:152: reg:linear is now deprecated in favor of reg:squarederror.\n",
            "[17:24:07] WARNING: /workspace/src/objective/regression_obj.cu:152: reg:linear is now deprecated in favor of reg:squarederror.\n",
            "[17:24:07] WARNING: /workspace/src/objective/regression_obj.cu:152: reg:linear is now deprecated in favor of reg:squarederror.\n",
            "[17:24:07] WARNING: /workspace/src/objective/regression_obj.cu:152: reg:linear is now deprecated in favor of reg:squarederror.\n",
            "[17:24:08] WARNING: /workspace/src/objective/regression_obj.cu:152: reg:linear is now deprecated in favor of reg:squarederror.\n",
            "[17:24:08] WARNING: /workspace/src/objective/regression_obj.cu:152: reg:linear is now deprecated in favor of reg:squarederror.\n",
            "[17:24:08] WARNING: /workspace/src/objective/regression_obj.cu:152: reg:linear is now deprecated in favor of reg:squarederror.\n",
            "[17:24:08] WARNING: /workspace/src/objective/regression_obj.cu:152: reg:linear is now deprecated in favor of reg:squarederror.\n",
            "[17:24:09] WARNING: /workspace/src/objective/regression_obj.cu:152: reg:linear is now deprecated in favor of reg:squarederror.\n",
            "[17:24:09] WARNING: /workspace/src/objective/regression_obj.cu:152: reg:linear is now deprecated in favor of reg:squarederror.\n",
            "[17:24:09] WARNING: /workspace/src/objective/regression_obj.cu:152: reg:linear is now deprecated in favor of reg:squarederror.\n",
            "[17:24:10] WARNING: /workspace/src/objective/regression_obj.cu:152: reg:linear is now deprecated in favor of reg:squarederror.\n",
            "[17:24:10] WARNING: /workspace/src/objective/regression_obj.cu:152: reg:linear is now deprecated in favor of reg:squarederror.\n",
            "[17:24:10] WARNING: /workspace/src/objective/regression_obj.cu:152: reg:linear is now deprecated in favor of reg:squarederror.\n",
            "[17:24:11] WARNING: /workspace/src/objective/regression_obj.cu:152: reg:linear is now deprecated in favor of reg:squarederror.\n",
            "[17:24:11] WARNING: /workspace/src/objective/regression_obj.cu:152: reg:linear is now deprecated in favor of reg:squarederror.\n",
            "[17:24:11] WARNING: /workspace/src/objective/regression_obj.cu:152: reg:linear is now deprecated in favor of reg:squarederror.\n",
            "[17:24:12] WARNING: /workspace/src/objective/regression_obj.cu:152: reg:linear is now deprecated in favor of reg:squarederror.\n",
            "[17:24:12] WARNING: /workspace/src/objective/regression_obj.cu:152: reg:linear is now deprecated in favor of reg:squarederror.\n",
            "[17:24:12] WARNING: /workspace/src/objective/regression_obj.cu:152: reg:linear is now deprecated in favor of reg:squarederror.\n",
            "[17:24:13] WARNING: /workspace/src/objective/regression_obj.cu:152: reg:linear is now deprecated in favor of reg:squarederror.\n",
            "[17:24:13] WARNING: /workspace/src/objective/regression_obj.cu:152: reg:linear is now deprecated in favor of reg:squarederror.\n",
            "[17:24:13] WARNING: /workspace/src/objective/regression_obj.cu:152: reg:linear is now deprecated in favor of reg:squarederror.\n",
            "[17:24:14] WARNING: /workspace/src/objective/regression_obj.cu:152: reg:linear is now deprecated in favor of reg:squarederror.\n",
            "[17:24:14] WARNING: /workspace/src/objective/regression_obj.cu:152: reg:linear is now deprecated in favor of reg:squarederror.\n",
            "[17:24:14] WARNING: /workspace/src/objective/regression_obj.cu:152: reg:linear is now deprecated in favor of reg:squarederror.\n"
          ],
          "name": "stdout"
        },
        {
          "output_type": "stream",
          "text": [
            "[Parallel(n_jobs=1)]: Done  70 out of  70 | elapsed:   17.6s finished\n"
          ],
          "name": "stderr"
        },
        {
          "output_type": "stream",
          "text": [
            "[17:24:14] WARNING: /workspace/src/objective/regression_obj.cu:152: reg:linear is now deprecated in favor of reg:squarederror.\n",
            "{'alpha': 0.0, 'colsample_bytree': 0.5, 'eta': 0.1, 'gamma': 0.1, 'lambda': 1.0, 'max_depth': 7, 'min_child_weight': 4, 'subsample': 1.0} -0.0911200085651307\n"
          ],
          "name": "stdout"
        }
      ]
    },
    {
      "cell_type": "code",
      "metadata": {
        "id": "J9glthWui9uE",
        "colab": {
          "base_uri": "https://localhost:8080/"
        },
        "outputId": "31178309-9939-4383-a323-cbc949d7dfff"
      },
      "source": [
        "# ハイパーパラメータ探索結果\n",
        "#①{'alpha': 0.0, 'colsample_bytree': 0.6, 'eta': 0.1, 'gamma': 0.1, 'lambda': 1.0, 'max_depth': 7, 'min_child_weight': 4, 'subsample': 0.9} 0.8358415312594161\n",
        "#[Parallel(n_jobs=1)]: Done 33600 out of 33600 | elapsed: 24.1min finished\n",
        "#②{'alpha': 0.0, 'colsample_bytree': 0.4, 'eta': 0.1, 'gamma': 0.1, 'lambda': 1.0, 'max_depth': 7, 'min_child_weight': 4, 'subsample': 0.9} 0.8453318693069807\n",
        "#[Parallel(n_jobs=1)]: Done 7680 out of 7680 | elapsed:  5.6min finished\n",
        "#③{'alpha': 0.0, 'colsample_bytree': 0.6, 'eta': 0.1, 'gamma': 0.1, 'lambda': 1.0, 'max_depth': 7, 'min_child_weight': 4, 'subsample': 1.0} 0.8495117676020616\n",
        "#[Parallel(n_jobs=1)]: Done  70 out of  70 | elapsed:    2.4s finished\n",
        "# 改めて最適パラメータで学習\n",
        "reg = xgb.XGBRegressor(**reg_cv.best_params_)\n",
        "reg.fit(X_train, y_train)"
      ],
      "execution_count": 38,
      "outputs": [
        {
          "output_type": "stream",
          "text": [
            "[17:24:22] WARNING: /workspace/src/objective/regression_obj.cu:152: reg:linear is now deprecated in favor of reg:squarederror.\n"
          ],
          "name": "stdout"
        },
        {
          "output_type": "execute_result",
          "data": {
            "text/plain": [
              "XGBRegressor(alpha=0.0, base_score=0.5, booster='gbtree', colsample_bylevel=1,\n",
              "             colsample_bynode=1, colsample_bytree=0.5, eta=0.1, gamma=0.1,\n",
              "             importance_type='gain', lambda=1.0, learning_rate=0.1,\n",
              "             max_delta_step=0, max_depth=7, min_child_weight=4, missing=None,\n",
              "             n_estimators=100, n_jobs=1, nthread=None, objective='reg:linear',\n",
              "             random_state=0, reg_alpha=0, reg_lambda=1, scale_pos_weight=1,\n",
              "             seed=None, silent=None, subsample=1.0, verbosity=1)"
            ]
          },
          "metadata": {
            "tags": []
          },
          "execution_count": 38
        }
      ]
    },
    {
      "cell_type": "code",
      "metadata": {
        "id": "czWIIJR9poNm"
      },
      "source": [
        "# 学習データを使って予測\n",
        "pred_train = reg.predict(X_train)"
      ],
      "execution_count": 39,
      "outputs": []
    },
    {
      "cell_type": "code",
      "metadata": {
        "id": "P_ekuu66psdm",
        "colab": {
          "base_uri": "https://localhost:8080/",
          "height": 195
        },
        "outputId": "5b5853cf-4294-4c1d-96ab-53a16ba250cd"
      },
      "source": [
        "X_train.head()"
      ],
      "execution_count": 40,
      "outputs": [
        {
          "output_type": "execute_result",
          "data": {
            "text/html": [
              "<div>\n",
              "<style scoped>\n",
              "    .dataframe tbody tr th:only-of-type {\n",
              "        vertical-align: middle;\n",
              "    }\n",
              "\n",
              "    .dataframe tbody tr th {\n",
              "        vertical-align: top;\n",
              "    }\n",
              "\n",
              "    .dataframe thead th {\n",
              "        text-align: right;\n",
              "    }\n",
              "</style>\n",
              "<table border=\"1\" class=\"dataframe\">\n",
              "  <thead>\n",
              "    <tr style=\"text-align: right;\">\n",
              "      <th></th>\n",
              "      <th>ProductID</th>\n",
              "      <th>Discount</th>\n",
              "      <th>Year</th>\n",
              "      <th>Month</th>\n",
              "    </tr>\n",
              "  </thead>\n",
              "  <tbody>\n",
              "    <tr>\n",
              "      <th>0</th>\n",
              "      <td>1</td>\n",
              "      <td>0</td>\n",
              "      <td>2010</td>\n",
              "      <td>1</td>\n",
              "    </tr>\n",
              "    <tr>\n",
              "      <th>1</th>\n",
              "      <td>1</td>\n",
              "      <td>0</td>\n",
              "      <td>2010</td>\n",
              "      <td>2</td>\n",
              "    </tr>\n",
              "    <tr>\n",
              "      <th>2</th>\n",
              "      <td>1</td>\n",
              "      <td>0</td>\n",
              "      <td>2010</td>\n",
              "      <td>3</td>\n",
              "    </tr>\n",
              "    <tr>\n",
              "      <th>3</th>\n",
              "      <td>1</td>\n",
              "      <td>0</td>\n",
              "      <td>2010</td>\n",
              "      <td>4</td>\n",
              "    </tr>\n",
              "    <tr>\n",
              "      <th>4</th>\n",
              "      <td>1</td>\n",
              "      <td>0</td>\n",
              "      <td>2010</td>\n",
              "      <td>5</td>\n",
              "    </tr>\n",
              "  </tbody>\n",
              "</table>\n",
              "</div>"
            ],
            "text/plain": [
              "   ProductID  Discount  Year  Month\n",
              "0          1         0  2010      1\n",
              "1          1         0  2010      2\n",
              "2          1         0  2010      3\n",
              "3          1         0  2010      4\n",
              "4          1         0  2010      5"
            ]
          },
          "metadata": {
            "tags": []
          },
          "execution_count": 40
        }
      ]
    },
    {
      "cell_type": "code",
      "metadata": {
        "id": "adVfQJzepurV",
        "colab": {
          "base_uri": "https://localhost:8080/",
          "height": 338
        },
        "outputId": "6bc0efb8-ba43-4e16-b4f1-10960a55a607"
      },
      "source": [
        "# 予測値が妥当か確認\n",
        "train_value = y_train.values\n",
        "_df = pd.DataFrame({'actual':train_value,'pred':pred_train})\n",
        "_df.plot(figsize=(12,5))"
      ],
      "execution_count": 41,
      "outputs": [
        {
          "output_type": "execute_result",
          "data": {
            "text/plain": [
              "<matplotlib.axes._subplots.AxesSubplot at 0x7f4e108b87f0>"
            ]
          },
          "metadata": {
            "tags": []
          },
          "execution_count": 41
        },
        {
          "output_type": "display_data",
          "data": {
            "image/png": "[encoded data removed]",
            "text/plain": [
              "<Figure size 864x360 with 1 Axes>"
            ]
          },
          "metadata": {
            "tags": [],
            "needs_background": "light"
          }
        }
      ]
    },
    {
      "cell_type": "code",
      "metadata": {
        "id": "b5akoYBLpxcZ",
        "colab": {
          "base_uri": "https://localhost:8080/",
          "height": 281
        },
        "outputId": "c1313a53-70ef-4796-a7b6-a973833074af"
      },
      "source": [
        "# feature importance のプロット\n",
        "importances = pd.Series(reg.feature_importances_, index = X_train.columns)\n",
        "importances = importances.sort_values()\n",
        "importances.plot(kind = \"barh\")\n",
        "plt.title(\"imporance in the xgboost Model\")\n",
        "plt.show()"
      ],
      "execution_count": 42,
      "outputs": [
        {
          "output_type": "display_data",
          "data": {
            "image/png": "[encoded data removed]",
            "text/plain": [
              "<Figure size 432x288 with 1 Axes>"
            ]
          },
          "metadata": {
            "tags": [],
            "needs_background": "light"
          }
        }
      ]
    },
    {
      "cell_type": "code",
      "metadata": {
        "id": "XilRcMzkp2Sc"
      },
      "source": [
        "# テストデータX_testに対し予測値の算出\n",
        "pred_test = reg.predict(X_test)"
      ],
      "execution_count": 43,
      "outputs": []
    },
    {
      "cell_type": "code",
      "metadata": {
        "colab": {
          "base_uri": "https://localhost:8080/"
        },
        "id": "Ra7skfsm5cV2",
        "outputId": "babb1a90-67d6-42bc-c828-0afbc8c4f39b"
      },
      "source": [
        "pred_test"
      ],
      "execution_count": 44,
      "outputs": [
        {
          "output_type": "execute_result",
          "data": {
            "text/plain": [
              "array([  73.71295,   -4.79446,  245.25923, ...,  750.82275, 1835.9034 ,\n",
              "       2161.998  ], dtype=float32)"
            ]
          },
          "metadata": {
            "tags": []
          },
          "execution_count": 44
        }
      ]
    },
    {
      "cell_type": "code",
      "metadata": {
        "colab": {
          "base_uri": "https://localhost:8080/"
        },
        "id": "Bzfl_tbP50op",
        "outputId": "172c6a97-85ea-4209-e02c-8d905fa7165e"
      },
      "source": [
        "pred_test.shape"
      ],
      "execution_count": 45,
      "outputs": [
        {
          "output_type": "execute_result",
          "data": {
            "text/plain": [
              "(1008,)"
            ]
          },
          "metadata": {
            "tags": []
          },
          "execution_count": 45
        }
      ]
    },
    {
      "cell_type": "code",
      "metadata": {
        "colab": {
          "base_uri": "https://localhost:8080/"
        },
        "id": "ujWVQUfQ6ZU0",
        "outputId": "e8312444-6ebe-4f57-de6a-fd64cdc0d7db"
      },
      "source": [
        "pred_test.min"
      ],
      "execution_count": 49,
      "outputs": [
        {
          "output_type": "execute_result",
          "data": {
            "text/plain": [
              "<function ndarray.min>"
            ]
          },
          "metadata": {
            "tags": []
          },
          "execution_count": 49
        }
      ]
    },
    {
      "cell_type": "code",
      "metadata": {
        "id": "79uQeaRGp71b"
      },
      "source": [
        "csv_test = pd.read_csv('/content/drive/My Drive/Colab Notebooks/CarFuel/test.csv', sep=\",\",engine=\"python\")\n",
        "# 結果を張り付け、ファイル出力\n",
        "sample = pd.read_csv('/content/drive/My Drive/Colab Notebooks/CarFuel/sample_submit.csv',header=None)\n",
        "sample[1] = pred_test\n",
        "sample.to_csv(\"/content/drive/My Drive/Colab Notebooks/CarFuel/submit04.csv\",index=None,header=None)"
      ],
      "execution_count": null,
      "outputs": []
    },
    {
      "cell_type": "code",
      "metadata": {
        "id": "ItDkEITWrhU4"
      },
      "source": [
        ""
      ],
      "execution_count": null,
      "outputs": []
    }
  ]
}