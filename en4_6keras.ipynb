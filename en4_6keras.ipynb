{
  "nbformat": 4,
  "nbformat_minor": 0,
  "metadata": {
    "colab": {
      "name": "en4#6keras.ipynb",
      "provenance": [],
      "collapsed_sections": [],
      "authorship_tag": "ABX9TyMkPnqNvAoxxdGtrcPp+Ga8",
      "include_colab_link": true
    },
    "kernelspec": {
      "name": "python3",
      "display_name": "Python 3"
    },
    "accelerator": "GPU"
  },
  "cells": [
    {
      "cell_type": "markdown",
      "metadata": {
        "id": "view-in-github",
        "colab_type": "text"
      },
      "source": [
        "<a href=\"https://colab.research.google.com/github/yootaka/AiQuest/blob/main/en4_6keras.ipynb\" target=\"_parent\"><img src=\"https://colab.research.google.com/assets/colab-badge.svg\" alt=\"Open In Colab\"/></a>"
      ]
    },
    {
      "cell_type": "code",
      "metadata": {
        "id": "MssjraBmKhWf"
      },
      "source": [
        "from keras.datasets import mnist\n",
        "from keras.utils import to_categorical\n",
        "\n",
        "from keras.layers import Dense\n",
        "from keras.models import Sequential\n",
        "from keras.models import load_model\n",
        "\n",
        "import matplotlib.pyplot as plt\n",
        "from PIL import Image\n",
        "import os\n",
        "import numpy as np\n",
        "from sklearn.model_selection import train_test_split"
      ],
      "execution_count": 1,
      "outputs": []
    },
    {
      "cell_type": "code",
      "metadata": {
        "id": "frIfmWrRKxXd",
        "outputId": "78cfad18-00f6-41cb-d56b-af2eae7823a7",
        "colab": {
          "base_uri": "https://localhost:8080/"
        }
      },
      "source": [
        "# Google ドライブをマウント\n",
        "from google.colab import drive\n",
        "drive.mount('/content/drive')"
      ],
      "execution_count": 2,
      "outputs": [
        {
          "output_type": "stream",
          "text": [
            "Mounted at /content/drive\n"
          ],
          "name": "stdout"
        }
      ]
    },
    {
      "cell_type": "code",
      "metadata": {
        "id": "hcZJE6yXLYX7"
      },
      "source": [
        "X = []\n",
        "Y = []\n",
        "\n",
        "folder_path = \"/content/drive/My Drive/Colab Notebooks/AiQuest/en4/train/\"\n",
        "file_list = os.listdir(folder_path)"
      ],
      "execution_count": 3,
      "outputs": []
    },
    {
      "cell_type": "code",
      "metadata": {
        "id": "7cUS4suSvwO8"
      },
      "source": [
        "X_test = []\n",
        "Y_test = []\n",
        "\n",
        "folder_path_test = \"/content/drive/My Drive/Colab Notebooks/AiQuest/en4/test/test/\"\n",
        "file_list_test = os.listdir(folder_path_test)"
      ],
      "execution_count": 4,
      "outputs": []
    },
    {
      "cell_type": "code",
      "metadata": {
        "id": "LDPUQ49XMoUv",
        "outputId": "09b98787-3ac6-4ffd-c7b2-a201c89dcf2c",
        "colab": {
          "base_uri": "https://localhost:8080/"
        }
      },
      "source": [
        "print(file_list) #ファイル確認"
      ],
      "execution_count": 5,
      "outputs": [
        {
          "output_type": "stream",
          "text": [
            "['bridge_000.jpeg', 'bridge_001.jpeg', 'bridge_003.jpeg', 'bridge_002.jpeg', 'bridge_005.jpeg', 'bridge_004.jpeg', 'bridge_006.jpeg', 'bridge_007.jpeg', 'bridge_009.jpeg', 'bridge_008.jpeg', 'bridge_011.jpeg', 'bridge_010.jpeg', 'bridge_013.jpeg', 'bridge_012.jpeg', 'bridge_014.jpeg', 'bridge_015.jpeg', 'bridge_016.jpeg', 'bridge_017.jpeg', 'bridge_018.jpeg', 'bridge_019.jpeg', 'bridge_020.jpeg', 'bridge_021.jpeg', 'bridge_022.jpeg', 'horn_000.jpeg', 'horn_001.jpeg', 'horn_002.jpeg', 'horn_003.jpeg', 'horn_006.jpeg', 'horn_005.jpeg', 'horn_004.jpeg', 'horn_007.jpeg', 'horn_008.jpeg', 'horn_009.jpeg', 'horn_010.jpeg', 'horn_011.jpeg', 'horn_013.jpeg', 'horn_012.jpeg', 'horn_014.jpeg', 'horn_015.jpeg', 'horn_017.jpeg', 'horn_016.jpeg', 'horn_018.jpeg', 'horn_019.jpeg', 'horn_020.jpeg', 'horn_022.jpeg', 'horn_021.jpeg', 'horn_023.jpeg', 'horn_025.jpeg', 'horn_024.jpeg', 'horn_026.jpeg', 'horn_027.jpeg', 'horn_028.jpeg', 'horn_029.jpeg', 'horn_030.jpeg', 'horn_031.jpeg', 'horn_033.jpeg', 'horn_032.jpeg', 'horn_036.jpeg', 'horn_034.jpeg', 'horn_035.jpeg', 'potato_000.jpeg', 'potato_001.jpeg', 'potato_002.jpeg', 'potato_003.jpeg', 'potato_005.jpeg', 'potato_004.jpeg', 'potato_006.jpeg', 'potato_007.jpeg', 'potato_008.jpeg', 'potato_009.jpeg', 'potato_010.jpeg', 'potato_011.jpeg', 'potato_012.jpeg', 'potato_013.jpeg', 'potato_015.jpeg', 'potato_014.jpeg', 'potato_017.jpeg', 'potato_016.jpeg', 'potato_018.jpeg', 'potato_019.jpeg', 'potato_020.jpeg', 'potato_021.jpeg', 'potato_022.jpeg', 'potato_023.jpeg', 'potato_024.jpeg', 'potato_025.jpeg', 'potato_026.jpeg', 'potato_027.jpeg', 'potato_028.jpeg', 'potato_030.jpeg', 'potato_029.jpeg', 'potato_031.jpeg', 'potato_032.jpeg', 'potato_035.jpeg', 'potato_034.jpeg', 'potato_033.jpeg', 'potato_036.jpeg', 'potato_037.jpeg', 'potato_038.jpeg', 'potato_039.jpeg', 'potato_040.jpeg', 'potato_041.jpeg', 'potato_042.jpeg', 'potato_044.jpeg', 'potato_046.jpeg', 'potato_045.jpeg', 'potato_047.jpeg', 'potato_048.jpeg', 'potato_049.jpeg', 'potato_050.jpeg', 'potato_051.jpeg', 'potato_052.jpeg', 'potato_054.jpeg', 'potato_053.jpeg', 'potato_055.jpeg', 'potato_056.jpeg', 'potato_057.jpeg', 'potato_058.jpeg', 'potato_060.jpeg', 'potato_059.jpeg', 'potato_061.jpeg', 'potato_062.jpeg', 'potato_063.jpeg', 'potato_064.jpeg', 'regular_000.jpeg', 'regular_002.jpeg', 'regular_001.jpeg', 'regular_004.jpeg', 'regular_003.jpeg', 'regular_005.jpeg', 'regular_006.jpeg', 'regular_008.jpeg', 'regular_007.jpeg', 'regular_009.jpeg', 'regular_010.jpeg', 'regular_011.jpeg', 'regular_012.jpeg', 'regular_013.jpeg', 'regular_014.jpeg', 'regular_015.jpeg', 'regular_016.jpeg', 'regular_017.jpeg', 'regular_018.jpeg', 'regular_019.jpeg', 'regular_021.jpeg', 'regular_020.jpeg', 'regular_023.jpeg', 'regular_022.jpeg', 'regular_025.jpeg', 'regular_024.jpeg', 'regular_027.jpeg', 'regular_026.jpeg', 'regular_029.jpeg', 'regular_028.jpeg', 'regular_030.jpeg', 'regular_031.jpeg', 'regular_034.jpeg', 'regular_032.jpeg', 'regular_033.jpeg', 'regular_036.jpeg', 'regular_035.jpeg', 'regular_037.jpeg', 'regular_038.jpeg', 'regular_039.jpeg', 'regular_040.jpeg', 'regular_041.jpeg', 'regular_042.jpeg', 'regular_044.jpeg', 'regular_043.jpeg', 'regular_045.jpeg', 'regular_046.jpeg', 'regular_047.jpeg', 'regular_048.jpeg', 'regular_049.jpeg', 'regular_050.jpeg', 'regular_051.jpeg', 'regular_052.jpeg', 'regular_053.jpeg', 'regular_055.jpeg', 'regular_054.jpeg', 'regular_056.jpeg', 'regular_057.jpeg', 'regular_058.jpeg', 'regular_059.jpeg', 'regular_060.jpeg', 'regular_061.jpeg', 'regular_062.jpeg', 'regular_063.jpeg', 'regular_064.jpeg', 'bridge_023.jpeg', 'bridge_024.jpeg', 'bridge_025.jpeg', 'bridge_026.jpeg', 'bridge_027.jpeg', 'bridge_028.jpeg', 'bridge_029.jpeg', 'horn_038.jpeg', 'horn_037.jpeg', 'horn_040.jpeg', 'horn_039.jpeg', 'horn_041.jpeg', 'horn_042.jpeg', 'horn_043.jpeg', 'horn_044.jpeg', 'horn_045.jpeg', 'horn_046.jpeg', 'horn_048.jpeg', 'horn_047.jpeg', 'horn_049.jpeg', 'horn_050.jpeg', 'horn_052.jpeg', 'horn_051.jpeg', 'horn_053.jpeg', 'horn_055.jpeg', 'horn_054.jpeg', 'potato_065.jpeg', 'horn_056.jpeg', 'potato_066.jpeg', 'potato_067.jpeg', 'potato_068.jpeg', 'potato_070.jpeg', 'potato_071.jpeg', 'potato_069.jpeg', 'potato_072.jpeg', 'potato_073.jpeg', 'potato_074.jpeg', 'potato_075.jpeg', 'potato_076.jpeg', 'potato_078.jpeg', 'potato_077.jpeg', 'potato_080.jpeg', 'potato_079.jpeg', 'potato_082.jpeg', 'potato_081.jpeg', 'potato_083.jpeg', 'potato_084.jpeg', 'potato_087.jpeg', 'potato_085.jpeg', 'potato_086.jpeg', 'potato_088.jpeg', 'potato_090.jpeg', 'potato_089.jpeg', 'potato_091.jpeg', 'potato_092.jpeg', 'potato_093.jpeg', 'potato_094.jpeg', 'potato_095.jpeg', 'potato_096.jpeg', 'potato_097.jpeg', 'potato_098.jpeg', 'potato_099.jpeg', 'potato_100.jpeg', 'potato_101.jpeg', 'regular_065.jpeg', 'potato_102.jpeg', 'regular_066.jpeg', 'regular_067.jpeg', 'regular_069.jpeg', 'regular_068.jpeg', 'regular_071.jpeg', 'regular_070.jpeg', 'regular_073.jpeg', 'regular_072.jpeg', 'regular_074.jpeg', 'regular_075.jpeg', 'regular_077.jpeg', 'regular_076.jpeg', 'regular_078.jpeg', 'regular_079.jpeg', 'regular_081.jpeg', 'regular_080.jpeg', 'regular_083.jpeg', 'regular_082.jpeg', 'regular_084.jpeg', 'regular_085.jpeg', 'regular_086.jpeg', 'regular_087.jpeg', 'regular_088.jpeg', 'regular_089.jpeg', 'regular_090.jpeg', 'regular_091.jpeg', 'regular_092.jpeg', 'regular_093.jpeg', 'regular_094.jpeg', 'regular_096.jpeg', 'regular_095.jpeg', 'regular_098.jpeg', 'regular_097.jpeg', 'regular_099.jpeg']\n"
          ],
          "name": "stdout"
        }
      ]
    },
    {
      "cell_type": "code",
      "metadata": {
        "id": "Qe33wYaOv5WM",
        "outputId": "d9899987-3eb9-46da-cd48-a85af75ea4e8",
        "colab": {
          "base_uri": "https://localhost:8080/"
        }
      },
      "source": [
        "print(file_list_test) #ファイル確認"
      ],
      "execution_count": 6,
      "outputs": [
        {
          "output_type": "stream",
          "text": [
            "['120.jpeg', '197.jpeg', '053.jpeg', '137.jpeg', '051.jpeg', '062.jpeg', '173.jpeg', '059.jpeg', '177.jpeg', '128.jpeg', '203.jpeg', '187.jpeg', '029.jpeg', '151.jpeg', '006.jpeg', '068.jpeg', '150.jpeg', '113.jpeg', '202.jpeg', '211.jpeg', '191.jpeg', '025.jpeg', '033.jpeg', '176.jpeg', '109.jpeg', '139.jpeg', '037.jpeg', '103.jpeg', '045.jpeg', '091.jpeg', '024.jpeg', '146.jpeg', '088.jpeg', '110.jpeg', '101.jpeg', '081.jpeg', '072.jpeg', '013.jpeg', '094.jpeg', '115.jpeg', '212.jpeg', '189.jpeg', '038.jpeg', '004.jpeg', '061.jpeg', '055.jpeg', '162.jpeg', '052.jpeg', '122.jpeg', '111.jpeg', '102.jpeg', '116.jpeg', '209.jpeg', '083.jpeg', '049.jpeg', '074.jpeg', '080.jpeg', '160.jpeg', '188.jpeg', '071.jpeg', '067.jpeg', '123.jpeg', '148.jpeg', '100.jpeg', '075.jpeg', '205.jpeg', '035.jpeg', '011.jpeg', '019.jpeg', '093.jpeg', '182.jpeg', '012.jpeg', '200.jpeg', '106.jpeg', '207.jpeg', '028.jpeg', '079.jpeg', '170.jpeg', '125.jpeg', '031.jpeg', '086.jpeg', '172.jpeg', '147.jpeg', '159.jpeg', '141.jpeg', '149.jpeg', '048.jpeg', '155.jpeg', '007.jpeg', '184.jpeg', '140.jpeg', '117.jpeg', '082.jpeg', '017.jpeg', '008.jpeg', '036.jpeg', '186.jpeg', '152.jpeg', '126.jpeg', '168.jpeg', '154.jpeg', '210.jpeg', '131.jpeg', '167.jpeg', '089.jpeg', '124.jpeg', '144.jpeg', '087.jpeg', '108.jpeg', '084.jpeg', '178.jpeg', '047.jpeg', '132.jpeg', '179.jpeg', '157.jpeg', '171.jpeg', '153.jpeg', '142.jpeg', '046.jpeg', '016.jpeg', '021.jpeg', '130.jpeg', '043.jpeg', '027.jpeg', '077.jpeg', '183.jpeg', '020.jpeg', '073.jpeg', '174.jpeg', '097.jpeg', '107.jpeg', '085.jpeg', '121.jpeg', '119.jpeg', '026.jpeg', '009.jpeg', '064.jpeg', '090.jpeg', '105.jpeg', '044.jpeg', '040.jpeg', '143.jpeg', '156.jpeg', '175.jpeg', '092.jpeg', '206.jpeg', '196.jpeg', '030.jpeg', '014.jpeg', '133.jpeg', '192.jpeg', '127.jpeg', '054.jpeg', '158.jpeg', '057.jpeg', '208.jpeg', '034.jpeg', '015.jpeg', '066.jpeg', '166.jpeg', '000.jpeg', '065.jpeg', '134.jpeg', '005.jpeg', '078.jpeg', '112.jpeg', '198.jpeg', '041.jpeg', '193.jpeg', '114.jpeg', '164.jpeg', '063.jpeg', '002.jpeg', '161.jpeg', '195.jpeg', '050.jpeg', '056.jpeg', '096.jpeg', '180.jpeg', '190.jpeg', '104.jpeg', '129.jpeg', '023.jpeg', '058.jpeg', '136.jpeg', '185.jpeg', '099.jpeg', '098.jpeg', '032.jpeg', '204.jpeg', '039.jpeg', '018.jpeg', '001.jpeg', '199.jpeg', '138.jpeg', '145.jpeg', '181.jpeg', '042.jpeg', '022.jpeg', '169.jpeg', '003.jpeg', '060.jpeg', '076.jpeg', '135.jpeg', '201.jpeg', '069.jpeg', '118.jpeg', '163.jpeg', '165.jpeg', '194.jpeg', '070.jpeg', '010.jpeg', '095.jpeg']\n"
          ],
          "name": "stdout"
        }
      ]
    },
    {
      "cell_type": "code",
      "metadata": {
        "id": "ESka8CTEMte9"
      },
      "source": [
        "image_size = 256\n",
        "X = []\n",
        "Y = []\n",
        "for file in file_list:\n",
        "    try:\n",
        "        image = Image.open(folder_path + file)\n",
        "    except:\n",
        "        print('error', file)\n",
        "        continue\n",
        "    \n",
        "    image = image.convert(\"RGB\")\n",
        "    image = image.resize((image_size, image_size))\n",
        "    data = np.asarray(image)\n",
        "    X.append(data)\n",
        "    if 'bridge' in file:\n",
        "        Y.append(1) #不良品\n",
        "    elif 'horn' in file:\n",
        "        Y.append(1) #不良品\n",
        "    elif 'potato' in file:\n",
        "        Y.append(1) #不良品\n",
        "    else:\n",
        "        Y.append(0) #良品\n",
        "\n",
        "X_train = np.array(X) #画像データ\n",
        "y_train = np.array(Y) #ラベルデータ"
      ],
      "execution_count": 34,
      "outputs": []
    },
    {
      "cell_type": "code",
      "metadata": {
        "id": "nNBZe2IQOdZr",
        "outputId": "f1d50b43-eb7c-4468-efc6-6d908850aae4",
        "colab": {
          "base_uri": "https://localhost:8080/"
        }
      },
      "source": [
        "print(X_train.shape)\n",
        "print(y_train.shape)"
      ],
      "execution_count": 35,
      "outputs": [
        {
          "output_type": "stream",
          "text": [
            "(289, 256, 256, 3)\n",
            "(289,)\n"
          ],
          "name": "stdout"
        }
      ]
    },
    {
      "cell_type": "code",
      "metadata": {
        "id": "rMN_OcfkNSMp",
        "outputId": "0aed0d0d-b5e3-4527-ebed-5d3c336ce8e6",
        "colab": {
          "base_uri": "https://localhost:8080/"
        }
      },
      "source": [
        "y_train"
      ],
      "execution_count": 36,
      "outputs": [
        {
          "output_type": "execute_result",
          "data": {
            "text/plain": [
              "array([1, 1, 1, 1, 1, 1, 1, 1, 1, 1, 1, 1, 1, 1, 1, 1, 1, 1, 1, 1, 1, 1,\n",
              "       1, 1, 1, 1, 1, 1, 1, 1, 1, 1, 1, 1, 1, 1, 1, 1, 1, 1, 1, 1, 1, 1,\n",
              "       1, 1, 1, 1, 1, 1, 1, 1, 1, 1, 1, 1, 1, 1, 1, 1, 1, 1, 1, 1, 1, 1,\n",
              "       1, 1, 1, 1, 1, 1, 1, 1, 1, 1, 1, 1, 1, 1, 1, 1, 1, 1, 1, 1, 1, 1,\n",
              "       1, 1, 1, 1, 1, 1, 1, 1, 1, 1, 1, 1, 1, 1, 1, 1, 1, 1, 1, 1, 1, 1,\n",
              "       1, 1, 1, 1, 1, 1, 1, 1, 1, 1, 1, 1, 1, 1, 0, 0, 0, 0, 0, 0, 0, 0,\n",
              "       0, 0, 0, 0, 0, 0, 0, 0, 0, 0, 0, 0, 0, 0, 0, 0, 0, 0, 0, 0, 0, 0,\n",
              "       0, 0, 0, 0, 0, 0, 0, 0, 0, 0, 0, 0, 0, 0, 0, 0, 0, 0, 0, 0, 0, 0,\n",
              "       0, 0, 0, 0, 0, 0, 0, 0, 0, 0, 0, 0, 0, 1, 1, 1, 1, 1, 1, 1, 1, 1,\n",
              "       1, 1, 1, 1, 1, 1, 1, 1, 1, 1, 1, 1, 1, 1, 1, 1, 1, 1, 1, 1, 1, 1,\n",
              "       1, 1, 1, 1, 1, 1, 1, 1, 1, 1, 1, 1, 1, 1, 1, 1, 1, 1, 1, 1, 1, 1,\n",
              "       1, 1, 1, 1, 1, 1, 1, 1, 1, 1, 1, 0, 1, 0, 0, 0, 0, 0, 0, 0, 0, 0,\n",
              "       0, 0, 0, 0, 0, 0, 0, 0, 0, 0, 0, 0, 0, 0, 0, 0, 0, 0, 0, 0, 0, 0,\n",
              "       0, 0, 0])"
            ]
          },
          "metadata": {
            "tags": []
          },
          "execution_count": 36
        }
      ]
    },
    {
      "cell_type": "code",
      "metadata": {
        "id": "Fps9ukS4zJ3M"
      },
      "source": [
        "image_size = 256\n",
        "X_test = []\n",
        "Y_test = []\n",
        "for file in file_list_test:\n",
        "    try:\n",
        "        image = Image.open(folder_path_test + file)\n",
        "    except:\n",
        "        print('error', file)\n",
        "        continue\n",
        "    \n",
        "    image = image.convert(\"RGB\")\n",
        "    image = image.resize((image_size, image_size))\n",
        "    data = np.asarray(image)\n",
        "    X_test.append(data)\n",
        "    if 'bridge' in file:\n",
        "        Y_test.append(1) #不良品\n",
        "    elif 'horn' in file:\n",
        "        Y_test.append(1) #不良品\n",
        "    elif 'potato' in file:\n",
        "        Y_test.append(1) #不良品\n",
        "    else:\n",
        "         Y_test.append(file) #ファイル名\n",
        "   \n",
        "X_test = np.array(X_test) #画像データ\n",
        "y_test = np.zeros([213,2]) #結果用配列\n",
        "y_test_label = np.array(Y_test) #ラベルデータ"
      ],
      "execution_count": 37,
      "outputs": []
    },
    {
      "cell_type": "code",
      "metadata": {
        "id": "6GFnmTC-1YE-",
        "outputId": "4ec57933-92a6-4da5-d251-9c6227429ce9",
        "colab": {
          "base_uri": "https://localhost:8080/"
        }
      },
      "source": [
        "print(X_test.shape)\n",
        "print(y_test.shape)\n",
        "print(y_test_label.shape)"
      ],
      "execution_count": 38,
      "outputs": [
        {
          "output_type": "stream",
          "text": [
            "(213, 256, 256, 3)\n",
            "(213, 2)\n",
            "(213,)\n"
          ],
          "name": "stdout"
        }
      ]
    },
    {
      "cell_type": "code",
      "metadata": {
        "id": "extZN8oGMMMl",
        "outputId": "f5f3994a-390a-44e1-da7e-679289b1ba54",
        "colab": {
          "base_uri": "https://localhost:8080/"
        }
      },
      "source": [
        "y_test_label"
      ],
      "execution_count": 39,
      "outputs": [
        {
          "output_type": "execute_result",
          "data": {
            "text/plain": [
              "array(['120.jpeg', '197.jpeg', '053.jpeg', '137.jpeg', '051.jpeg',\n",
              "       '062.jpeg', '173.jpeg', '059.jpeg', '177.jpeg', '128.jpeg',\n",
              "       '203.jpeg', '187.jpeg', '029.jpeg', '151.jpeg', '006.jpeg',\n",
              "       '068.jpeg', '150.jpeg', '113.jpeg', '202.jpeg', '211.jpeg',\n",
              "       '191.jpeg', '025.jpeg', '033.jpeg', '176.jpeg', '109.jpeg',\n",
              "       '139.jpeg', '037.jpeg', '103.jpeg', '045.jpeg', '091.jpeg',\n",
              "       '024.jpeg', '146.jpeg', '088.jpeg', '110.jpeg', '101.jpeg',\n",
              "       '081.jpeg', '072.jpeg', '013.jpeg', '094.jpeg', '115.jpeg',\n",
              "       '212.jpeg', '189.jpeg', '038.jpeg', '004.jpeg', '061.jpeg',\n",
              "       '055.jpeg', '162.jpeg', '052.jpeg', '122.jpeg', '111.jpeg',\n",
              "       '102.jpeg', '116.jpeg', '209.jpeg', '083.jpeg', '049.jpeg',\n",
              "       '074.jpeg', '080.jpeg', '160.jpeg', '188.jpeg', '071.jpeg',\n",
              "       '067.jpeg', '123.jpeg', '148.jpeg', '100.jpeg', '075.jpeg',\n",
              "       '205.jpeg', '035.jpeg', '011.jpeg', '019.jpeg', '093.jpeg',\n",
              "       '182.jpeg', '012.jpeg', '200.jpeg', '106.jpeg', '207.jpeg',\n",
              "       '028.jpeg', '079.jpeg', '170.jpeg', '125.jpeg', '031.jpeg',\n",
              "       '086.jpeg', '172.jpeg', '147.jpeg', '159.jpeg', '141.jpeg',\n",
              "       '149.jpeg', '048.jpeg', '155.jpeg', '007.jpeg', '184.jpeg',\n",
              "       '140.jpeg', '117.jpeg', '082.jpeg', '017.jpeg', '008.jpeg',\n",
              "       '036.jpeg', '186.jpeg', '152.jpeg', '126.jpeg', '168.jpeg',\n",
              "       '154.jpeg', '210.jpeg', '131.jpeg', '167.jpeg', '089.jpeg',\n",
              "       '124.jpeg', '144.jpeg', '087.jpeg', '108.jpeg', '084.jpeg',\n",
              "       '178.jpeg', '047.jpeg', '132.jpeg', '179.jpeg', '157.jpeg',\n",
              "       '171.jpeg', '153.jpeg', '142.jpeg', '046.jpeg', '016.jpeg',\n",
              "       '021.jpeg', '130.jpeg', '043.jpeg', '027.jpeg', '077.jpeg',\n",
              "       '183.jpeg', '020.jpeg', '073.jpeg', '174.jpeg', '097.jpeg',\n",
              "       '107.jpeg', '085.jpeg', '121.jpeg', '119.jpeg', '026.jpeg',\n",
              "       '009.jpeg', '064.jpeg', '090.jpeg', '105.jpeg', '044.jpeg',\n",
              "       '040.jpeg', '143.jpeg', '156.jpeg', '175.jpeg', '092.jpeg',\n",
              "       '206.jpeg', '196.jpeg', '030.jpeg', '014.jpeg', '133.jpeg',\n",
              "       '192.jpeg', '127.jpeg', '054.jpeg', '158.jpeg', '057.jpeg',\n",
              "       '208.jpeg', '034.jpeg', '015.jpeg', '066.jpeg', '166.jpeg',\n",
              "       '000.jpeg', '065.jpeg', '134.jpeg', '005.jpeg', '078.jpeg',\n",
              "       '112.jpeg', '198.jpeg', '041.jpeg', '193.jpeg', '114.jpeg',\n",
              "       '164.jpeg', '063.jpeg', '002.jpeg', '161.jpeg', '195.jpeg',\n",
              "       '050.jpeg', '056.jpeg', '096.jpeg', '180.jpeg', '190.jpeg',\n",
              "       '104.jpeg', '129.jpeg', '023.jpeg', '058.jpeg', '136.jpeg',\n",
              "       '185.jpeg', '099.jpeg', '098.jpeg', '032.jpeg', '204.jpeg',\n",
              "       '039.jpeg', '018.jpeg', '001.jpeg', '199.jpeg', '138.jpeg',\n",
              "       '145.jpeg', '181.jpeg', '042.jpeg', '022.jpeg', '169.jpeg',\n",
              "       '003.jpeg', '060.jpeg', '076.jpeg', '135.jpeg', '201.jpeg',\n",
              "       '069.jpeg', '118.jpeg', '163.jpeg', '165.jpeg', '194.jpeg',\n",
              "       '070.jpeg', '010.jpeg', '095.jpeg'], dtype='<U8')"
            ]
          },
          "metadata": {
            "tags": []
          },
          "execution_count": 39
        }
      ]
    },
    {
      "cell_type": "markdown",
      "metadata": {
        "id": "yVqoadmQl8_q"
      },
      "source": [
        "データ整形"
      ]
    },
    {
      "cell_type": "code",
      "metadata": {
        "id": "OdT2ZXX5mFP2"
      },
      "source": [
        "####X_train, X_test, y_train, y_test = train_test_split(X, Y, test_size=0.25)"
      ],
      "execution_count": null,
      "outputs": []
    },
    {
      "cell_type": "code",
      "metadata": {
        "id": "0Jq6z6DCnvec"
      },
      "source": [
        "# 画像を1次元配列にreshape\n",
        "X_train = X_train.reshape(-1, image_size * image_size *3)\n",
        "X_test = X_test.reshape(-1, image_size * image_size *3)"
      ],
      "execution_count": 40,
      "outputs": []
    },
    {
      "cell_type": "code",
      "metadata": {
        "id": "kt5U7kR-n0Uw"
      },
      "source": [
        "\n",
        "# 輝度値を0 ~ 1に入るように正規化\n",
        "X_train = X_train.astype('float32')/255\n",
        "X_test = X_test.astype('float32')/255"
      ],
      "execution_count": 41,
      "outputs": []
    },
    {
      "cell_type": "code",
      "metadata": {
        "id": "1mOBMKEgn1TY"
      },
      "source": [
        "# one hot encoding\n",
        "y_train = to_categorical(y_train) #2次元に\n",
        "#y_test = to_categorical(y_test)"
      ],
      "execution_count": 42,
      "outputs": []
    },
    {
      "cell_type": "markdown",
      "metadata": {
        "id": "b9AZI8l3n9gE"
      },
      "source": [
        "モデル作成"
      ]
    },
    {
      "cell_type": "code",
      "metadata": {
        "id": "6L2EG_w9n5Lu",
        "outputId": "bed1ff23-d722-4537-972c-5316bdb582c6",
        "colab": {
          "base_uri": "https://localhost:8080/"
        }
      },
      "source": [
        "model = Sequential() #シーケンシャルモデル\n",
        "model.add(Dense(64, activation='relu', input_dim=image_size * image_size *3)) #64のユニットを持つ層\n",
        "model.add(Dense(2, activation='softmax')) #2のユニットで出力\n",
        "\n",
        "model.summary()"
      ],
      "execution_count": 43,
      "outputs": [
        {
          "output_type": "stream",
          "text": [
            "Model: \"sequential_1\"\n",
            "_________________________________________________________________\n",
            "Layer (type)                 Output Shape              Param #   \n",
            "=================================================================\n",
            "dense_2 (Dense)              (None, 64)                12582976  \n",
            "_________________________________________________________________\n",
            "dense_3 (Dense)              (None, 2)                 130       \n",
            "=================================================================\n",
            "Total params: 12,583,106\n",
            "Trainable params: 12,583,106\n",
            "Non-trainable params: 0\n",
            "_________________________________________________________________\n"
          ],
          "name": "stdout"
        }
      ]
    },
    {
      "cell_type": "code",
      "metadata": {
        "id": "Gfdj2WvvoSva",
        "outputId": "a4033d33-66a0-41e3-ff2f-4cd42979f535",
        "colab": {
          "base_uri": "https://localhost:8080/"
        }
      },
      "source": [
        "#学習プロセスの作成\n",
        "model.compile(optimizer='Adam',                 #アルゴリズム\n",
        "              loss='categorical_crossentropy',  #損失関数\n",
        "              metrics=['accuracy'])             #評価関数：正解率\n",
        "#学習\n",
        "model.fit(X_train, y_train, epochs=30, batch_size=40)"
      ],
      "execution_count": 57,
      "outputs": [
        {
          "output_type": "stream",
          "text": [
            "Epoch 1/30\n",
            "8/8 [==============================] - 0s 15ms/step - loss: 33.6804 - accuracy: 0.5813\n",
            "Epoch 2/30\n",
            "8/8 [==============================] - 0s 16ms/step - loss: 16.8074 - accuracy: 0.4983\n",
            "Epoch 3/30\n",
            "8/8 [==============================] - 0s 15ms/step - loss: 12.7883 - accuracy: 0.6955\n",
            "Epoch 4/30\n",
            "8/8 [==============================] - 0s 15ms/step - loss: 8.8163 - accuracy: 0.5917\n",
            "Epoch 5/30\n",
            "8/8 [==============================] - 0s 16ms/step - loss: 3.4638 - accuracy: 0.6574\n",
            "Epoch 6/30\n",
            "8/8 [==============================] - 0s 15ms/step - loss: 1.5608 - accuracy: 0.7785\n",
            "Epoch 7/30\n",
            "8/8 [==============================] - 0s 16ms/step - loss: 1.0013 - accuracy: 0.8131\n",
            "Epoch 8/30\n",
            "8/8 [==============================] - 0s 17ms/step - loss: 0.7505 - accuracy: 0.7855\n",
            "Epoch 9/30\n",
            "8/8 [==============================] - 0s 15ms/step - loss: 0.2379 - accuracy: 0.9031\n",
            "Epoch 10/30\n",
            "8/8 [==============================] - 0s 15ms/step - loss: 0.1741 - accuracy: 0.9204\n",
            "Epoch 11/30\n",
            "8/8 [==============================] - 0s 16ms/step - loss: 0.2236 - accuracy: 0.9100\n",
            "Epoch 12/30\n",
            "8/8 [==============================] - 0s 15ms/step - loss: 0.1663 - accuracy: 0.9412\n",
            "Epoch 13/30\n",
            "8/8 [==============================] - 0s 15ms/step - loss: 0.1615 - accuracy: 0.9273\n",
            "Epoch 14/30\n",
            "8/8 [==============================] - 0s 15ms/step - loss: 1.0441 - accuracy: 0.7197\n",
            "Epoch 15/30\n",
            "8/8 [==============================] - 0s 17ms/step - loss: 0.2188 - accuracy: 0.9100\n",
            "Epoch 16/30\n",
            "8/8 [==============================] - 0s 15ms/step - loss: 0.0935 - accuracy: 0.9619\n",
            "Epoch 17/30\n",
            "8/8 [==============================] - 0s 15ms/step - loss: 0.0307 - accuracy: 0.9862\n",
            "Epoch 18/30\n",
            "8/8 [==============================] - 0s 16ms/step - loss: 0.0296 - accuracy: 1.0000\n",
            "Epoch 19/30\n",
            "8/8 [==============================] - 0s 14ms/step - loss: 0.0210 - accuracy: 1.0000\n",
            "Epoch 20/30\n",
            "8/8 [==============================] - 0s 15ms/step - loss: 0.0239 - accuracy: 0.9965\n",
            "Epoch 21/30\n",
            "8/8 [==============================] - 0s 16ms/step - loss: 0.0263 - accuracy: 0.9965\n",
            "Epoch 22/30\n",
            "8/8 [==============================] - 0s 14ms/step - loss: 0.0222 - accuracy: 1.0000\n",
            "Epoch 23/30\n",
            "8/8 [==============================] - 0s 15ms/step - loss: 0.0166 - accuracy: 1.0000\n",
            "Epoch 24/30\n",
            "8/8 [==============================] - 0s 16ms/step - loss: 0.0187 - accuracy: 1.0000\n",
            "Epoch 25/30\n",
            "8/8 [==============================] - 0s 15ms/step - loss: 0.0200 - accuracy: 1.0000\n",
            "Epoch 26/30\n",
            "8/8 [==============================] - 0s 16ms/step - loss: 0.0190 - accuracy: 1.0000\n",
            "Epoch 27/30\n",
            "8/8 [==============================] - 0s 16ms/step - loss: 0.0218 - accuracy: 0.9965\n",
            "Epoch 28/30\n",
            "8/8 [==============================] - 0s 16ms/step - loss: 0.0135 - accuracy: 1.0000\n",
            "Epoch 29/30\n",
            "8/8 [==============================] - 0s 16ms/step - loss: 0.0134 - accuracy: 1.0000\n",
            "Epoch 30/30\n",
            "8/8 [==============================] - 0s 14ms/step - loss: 0.0142 - accuracy: 1.0000\n"
          ],
          "name": "stdout"
        },
        {
          "output_type": "execute_result",
          "data": {
            "text/plain": [
              "<tensorflow.python.keras.callbacks.History at 0x7fdff8663320>"
            ]
          },
          "metadata": {
            "tags": []
          },
          "execution_count": 57
        }
      ]
    },
    {
      "cell_type": "code",
      "metadata": {
        "id": "cF_5c_oaofYX",
        "outputId": "3cf3d943-8bd8-44b0-e3e0-90738439b2c5",
        "colab": {
          "base_uri": "https://localhost:8080/"
        }
      },
      "source": [
        "model.evaluate(X_test, y_test)"
      ],
      "execution_count": 58,
      "outputs": [
        {
          "output_type": "stream",
          "text": [
            "7/7 [==============================] - 0s 10ms/step - loss: 0.0000e+00 - accuracy: 0.5117\n"
          ],
          "name": "stdout"
        },
        {
          "output_type": "execute_result",
          "data": {
            "text/plain": [
              "[0.0, 0.5117371082305908]"
            ]
          },
          "metadata": {
            "tags": []
          },
          "execution_count": 58
        }
      ]
    },
    {
      "cell_type": "code",
      "metadata": {
        "id": "arywJDYUKksz"
      },
      "source": [
        "result=model.predict(X_test, batch_size=None, verbose=0, steps=None)"
      ],
      "execution_count": 59,
      "outputs": []
    },
    {
      "cell_type": "code",
      "metadata": {
        "id": "9IyhVxiIbR2C",
        "outputId": "2878d503-1b36-4fe5-fde6-a117f5f69dba",
        "colab": {
          "base_uri": "https://localhost:8080/"
        }
      },
      "source": [
        "result"
      ],
      "execution_count": 60,
      "outputs": [
        {
          "output_type": "execute_result",
          "data": {
            "text/plain": [
              "array([[6.82293787e-04, 9.99317765e-01],\n",
              "       [1.56829908e-01, 8.43170047e-01],\n",
              "       [1.56862494e-02, 9.84313726e-01],\n",
              "       [9.98224556e-01, 1.77540921e-03],\n",
              "       [3.11049121e-03, 9.96889532e-01],\n",
              "       [1.06074177e-02, 9.89392638e-01],\n",
              "       [9.99865770e-01, 1.34208050e-04],\n",
              "       [1.35698840e-02, 9.86430168e-01],\n",
              "       [5.95438965e-02, 9.40456092e-01],\n",
              "       [9.95933115e-01, 4.06686077e-03],\n",
              "       [1.24707446e-03, 9.98752952e-01],\n",
              "       [3.42874020e-01, 6.57125950e-01],\n",
              "       [8.22115481e-01, 1.77884489e-01],\n",
              "       [7.44007289e-01, 2.55992651e-01],\n",
              "       [1.16265327e-01, 8.83734703e-01],\n",
              "       [4.95988905e-01, 5.04011095e-01],\n",
              "       [8.40508699e-01, 1.59491315e-01],\n",
              "       [8.93908436e-05, 9.99910593e-01],\n",
              "       [1.81108132e-01, 8.18891883e-01],\n",
              "       [6.26447871e-02, 9.37355161e-01],\n",
              "       [5.41685402e-01, 4.58314598e-01],\n",
              "       [2.10046366e-01, 7.89953649e-01],\n",
              "       [9.24085617e-01, 7.59143531e-02],\n",
              "       [3.73126343e-02, 9.62687314e-01],\n",
              "       [4.46516182e-03, 9.95534897e-01],\n",
              "       [9.48866189e-01, 5.11337928e-02],\n",
              "       [1.08961140e-05, 9.99989152e-01],\n",
              "       [4.89546582e-02, 9.51045334e-01],\n",
              "       [3.48629534e-01, 6.51370466e-01],\n",
              "       [9.35964063e-02, 9.06403542e-01],\n",
              "       [3.49796726e-03, 9.96502042e-01],\n",
              "       [2.87526549e-04, 9.99712408e-01],\n",
              "       [1.10630144e-03, 9.98893678e-01],\n",
              "       [9.92964149e-01, 7.03584682e-03],\n",
              "       [2.25150734e-02, 9.77484882e-01],\n",
              "       [2.94550955e-01, 7.05449104e-01],\n",
              "       [9.99640942e-01, 3.59100522e-04],\n",
              "       [9.77852583e-01, 2.21474674e-02],\n",
              "       [3.11077572e-04, 9.99688983e-01],\n",
              "       [2.36622334e-01, 7.63377666e-01],\n",
              "       [1.20722369e-04, 9.99879241e-01],\n",
              "       [4.48596701e-02, 9.55140352e-01],\n",
              "       [8.22263537e-05, 9.99917746e-01],\n",
              "       [9.53314841e-01, 4.66852151e-02],\n",
              "       [9.57569937e-05, 9.99904275e-01],\n",
              "       [3.90552310e-03, 9.96094525e-01],\n",
              "       [2.25711591e-03, 9.97742891e-01],\n",
              "       [1.01578366e-02, 9.89842117e-01],\n",
              "       [1.95881538e-02, 9.80411887e-01],\n",
              "       [5.59655065e-03, 9.94403481e-01],\n",
              "       [1.17268907e-02, 9.88273084e-01],\n",
              "       [1.52086895e-02, 9.84791338e-01],\n",
              "       [4.94061224e-03, 9.95059371e-01],\n",
              "       [7.67789260e-02, 9.23221052e-01],\n",
              "       [4.31572974e-01, 5.68427086e-01],\n",
              "       [8.28545749e-01, 1.71454266e-01],\n",
              "       [6.16245031e-01, 3.83754939e-01],\n",
              "       [2.38537486e-03, 9.97614622e-01],\n",
              "       [3.65653098e-01, 6.34346902e-01],\n",
              "       [1.17149614e-02, 9.88285065e-01],\n",
              "       [2.38608816e-04, 9.99761403e-01],\n",
              "       [4.68125701e-01, 5.31874299e-01],\n",
              "       [9.77017879e-01, 2.29821671e-02],\n",
              "       [5.94145246e-03, 9.94058609e-01],\n",
              "       [7.90750086e-01, 2.09249943e-01],\n",
              "       [6.09796464e-01, 3.90203476e-01],\n",
              "       [4.32201952e-01, 5.67798078e-01],\n",
              "       [9.76507306e-01, 2.34926436e-02],\n",
              "       [9.44352746e-01, 5.56472763e-02],\n",
              "       [9.94228482e-01, 5.77147026e-03],\n",
              "       [7.13406682e-01, 2.86593348e-01],\n",
              "       [9.99999881e-01, 7.28113250e-08],\n",
              "       [9.99999762e-01, 2.15143729e-07],\n",
              "       [9.99997973e-01, 2.04346725e-06],\n",
              "       [9.99983191e-01, 1.68218849e-05],\n",
              "       [9.99999881e-01, 7.35673709e-08],\n",
              "       [9.99999762e-01, 2.08718646e-07],\n",
              "       [9.99999166e-01, 8.43341297e-07],\n",
              "       [9.99971747e-01, 2.82185702e-05],\n",
              "       [9.99435604e-01, 5.64363203e-04],\n",
              "       [9.88391459e-01, 1.16085615e-02],\n",
              "       [9.99826014e-01, 1.74014742e-04],\n",
              "       [9.97738719e-01, 2.26124329e-03],\n",
              "       [9.86866951e-01, 1.31330313e-02],\n",
              "       [9.96102452e-01, 3.89754679e-03],\n",
              "       [9.98232841e-01, 1.76716689e-03],\n",
              "       [9.96749878e-01, 3.25017190e-03],\n",
              "       [9.97644246e-01, 2.35574855e-03],\n",
              "       [9.99040544e-01, 9.59393044e-04],\n",
              "       [9.71752882e-01, 2.82471534e-02],\n",
              "       [9.99644637e-01, 3.55311029e-04],\n",
              "       [9.99984741e-01, 1.52494777e-05],\n",
              "       [9.95195568e-01, 4.80441237e-03],\n",
              "       [9.91473436e-01, 8.52651056e-03],\n",
              "       [9.38432395e-01, 6.15675859e-02],\n",
              "       [9.99984741e-01, 1.52435450e-05],\n",
              "       [9.31399643e-01, 6.86003491e-02],\n",
              "       [9.87747788e-01, 1.22522581e-02],\n",
              "       [9.98835266e-01, 1.16469851e-03],\n",
              "       [9.65682745e-01, 3.43171991e-02],\n",
              "       [9.93658483e-01, 6.34156540e-03],\n",
              "       [9.85554099e-01, 1.44458972e-02],\n",
              "       [9.97840762e-01, 2.15918198e-03],\n",
              "       [9.67192352e-01, 3.28076519e-02],\n",
              "       [9.84032691e-01, 1.59672927e-02],\n",
              "       [9.92363691e-01, 7.63627375e-03],\n",
              "       [7.35994577e-02, 9.26400542e-01],\n",
              "       [1.79041103e-01, 8.20958912e-01],\n",
              "       [2.12462209e-02, 9.78753805e-01],\n",
              "       [1.27216578e-01, 8.72783422e-01],\n",
              "       [2.11666047e-04, 9.99788344e-01],\n",
              "       [9.14987251e-02, 9.08501208e-01],\n",
              "       [5.38298786e-01, 4.61701185e-01],\n",
              "       [7.92692474e-04, 9.99207318e-01],\n",
              "       [1.41998440e-01, 8.58001590e-01],\n",
              "       [4.60261963e-02, 9.53973770e-01],\n",
              "       [1.32406101e-04, 9.99867558e-01],\n",
              "       [5.64070344e-01, 4.35929626e-01],\n",
              "       [6.68006178e-05, 9.99933243e-01],\n",
              "       [2.16912962e-02, 9.78308737e-01],\n",
              "       [2.96874507e-03, 9.97031212e-01],\n",
              "       [1.38198311e-05, 9.99986172e-01],\n",
              "       [9.99450982e-01, 5.49073506e-04],\n",
              "       [9.43748746e-04, 9.99056280e-01],\n",
              "       [4.41638753e-03, 9.95583594e-01],\n",
              "       [3.44553709e-01, 6.55446351e-01],\n",
              "       [5.05618472e-03, 9.94943798e-01],\n",
              "       [6.32794648e-02, 9.36720550e-01],\n",
              "       [1.51484448e-04, 9.99848485e-01],\n",
              "       [9.25556943e-02, 9.07444358e-01],\n",
              "       [7.07354173e-02, 9.29264605e-01],\n",
              "       [9.67117846e-02, 9.03288186e-01],\n",
              "       [1.05438707e-02, 9.89456117e-01],\n",
              "       [9.63730931e-01, 3.62690911e-02],\n",
              "       [6.08582934e-03, 9.93914187e-01],\n",
              "       [8.70077252e-01, 1.29922763e-01],\n",
              "       [7.76508749e-02, 9.22349095e-01],\n",
              "       [7.13490903e-01, 2.86509126e-01],\n",
              "       [5.17452776e-01, 4.82547194e-01],\n",
              "       [1.65266378e-04, 9.99834657e-01],\n",
              "       [3.66419228e-03, 9.96335745e-01],\n",
              "       [1.54659063e-01, 8.45340908e-01],\n",
              "       [2.47066602e-01, 7.52933383e-01],\n",
              "       [1.15544128e-04, 9.99884486e-01],\n",
              "       [5.13817132e-01, 4.86182868e-01],\n",
              "       [1.52770772e-05, 9.99984741e-01],\n",
              "       [1.49707079e-01, 8.50292921e-01],\n",
              "       [3.64806242e-02, 9.63519394e-01],\n",
              "       [4.50946391e-02, 9.54905391e-01],\n",
              "       [2.31648772e-03, 9.97683525e-01],\n",
              "       [5.69177652e-03, 9.94308293e-01],\n",
              "       [1.04768917e-01, 8.95231068e-01],\n",
              "       [1.52355919e-04, 9.99847651e-01],\n",
              "       [5.20675667e-02, 9.47932482e-01],\n",
              "       [2.79057102e-04, 9.99720871e-01],\n",
              "       [6.15384988e-02, 9.38461483e-01],\n",
              "       [5.37430227e-01, 4.62569773e-01],\n",
              "       [6.68164212e-05, 9.99933124e-01],\n",
              "       [3.22603923e-03, 9.96773899e-01],\n",
              "       [1.57490835e-01, 8.42509210e-01],\n",
              "       [1.58359669e-02, 9.84164059e-01],\n",
              "       [9.56633687e-03, 9.90433693e-01],\n",
              "       [5.44009544e-03, 9.94559944e-01],\n",
              "       [2.92200655e-01, 7.07799375e-01],\n",
              "       [9.77524757e-01, 2.24753171e-02],\n",
              "       [1.01408534e-01, 8.98591459e-01],\n",
              "       [4.70720371e-03, 9.95292783e-01],\n",
              "       [7.89930880e-01, 2.10069150e-01],\n",
              "       [1.44883548e-03, 9.98551190e-01],\n",
              "       [3.20269614e-01, 6.79730356e-01],\n",
              "       [1.53284543e-03, 9.98467147e-01],\n",
              "       [9.98253047e-01, 1.74688059e-03],\n",
              "       [9.99005139e-01, 9.94854607e-04],\n",
              "       [1.00000000e+00, 1.69993459e-08],\n",
              "       [9.99999523e-01, 4.61785277e-07],\n",
              "       [1.00000000e+00, 3.18280569e-10],\n",
              "       [9.99999881e-01, 9.03176698e-08],\n",
              "       [9.99996066e-01, 3.93599430e-06],\n",
              "       [9.99999881e-01, 1.48451534e-07],\n",
              "       [9.99998450e-01, 1.52741893e-06],\n",
              "       [9.99995828e-01, 4.13042835e-06],\n",
              "       [9.91357803e-01, 8.64215102e-03],\n",
              "       [9.63060200e-01, 3.69398072e-02],\n",
              "       [9.68753636e-01, 3.12464386e-02],\n",
              "       [9.09881413e-01, 9.01186392e-02],\n",
              "       [9.97475207e-01, 2.52476288e-03],\n",
              "       [9.87927496e-01, 1.20725092e-02],\n",
              "       [8.99067402e-01, 1.00932613e-01],\n",
              "       [9.99908805e-01, 9.11419265e-05],\n",
              "       [9.82621253e-01, 1.73787903e-02],\n",
              "       [9.89089191e-01, 1.09108509e-02],\n",
              "       [9.57305014e-01, 4.26950641e-02],\n",
              "       [4.97766495e-01, 5.02233505e-01],\n",
              "       [9.89249349e-01, 1.07506486e-02],\n",
              "       [9.99803007e-01, 1.96973982e-04],\n",
              "       [9.79245782e-01, 2.07541920e-02],\n",
              "       [9.83837426e-01, 1.61625370e-02],\n",
              "       [8.39448333e-01, 1.60551682e-01],\n",
              "       [9.55844700e-01, 4.41552997e-02],\n",
              "       [7.84666061e-01, 2.15333983e-01],\n",
              "       [7.91981936e-01, 2.08017990e-01],\n",
              "       [9.49043930e-01, 5.09560332e-02],\n",
              "       [9.98511493e-01, 1.48848514e-03],\n",
              "       [9.66600180e-01, 3.33998203e-02],\n",
              "       [9.99944806e-01, 5.52064957e-05],\n",
              "       [7.89776385e-01, 2.10223645e-01],\n",
              "       [9.99800146e-01, 1.99893737e-04],\n",
              "       [9.57002997e-01, 4.29969914e-02],\n",
              "       [9.98884380e-01, 1.11559755e-03],\n",
              "       [9.56012130e-01, 4.39878367e-02],\n",
              "       [6.12449110e-01, 3.87550890e-01],\n",
              "       [9.98391569e-01, 1.60839583e-03],\n",
              "       [9.89017606e-01, 1.09823840e-02]], dtype=float32)"
            ]
          },
          "metadata": {
            "tags": []
          },
          "execution_count": 60
        }
      ]
    },
    {
      "cell_type": "code",
      "metadata": {
        "id": "EtDZ57vMd17D",
        "outputId": "5b5c832f-153b-4923-dc5a-5419e64a0551",
        "colab": {
          "base_uri": "https://localhost:8080/"
        }
      },
      "source": [
        "result[3]"
      ],
      "execution_count": 61,
      "outputs": [
        {
          "output_type": "execute_result",
          "data": {
            "text/plain": [
              "array([0.99822456, 0.00177541], dtype=float32)"
            ]
          },
          "metadata": {
            "tags": []
          },
          "execution_count": 61
        }
      ]
    },
    {
      "cell_type": "code",
      "metadata": {
        "id": "5cCf4y1PiI2-"
      },
      "source": [
        "#結果を1次元に変換\n",
        "result2=np.argmax(result,axis=1)"
      ],
      "execution_count": 62,
      "outputs": []
    },
    {
      "cell_type": "code",
      "metadata": {
        "id": "4FwkzJmgiomu",
        "outputId": "f04c56f2-0168-435a-b3ea-f623237dc0d3",
        "colab": {
          "base_uri": "https://localhost:8080/"
        }
      },
      "source": [
        "result2"
      ],
      "execution_count": 63,
      "outputs": [
        {
          "output_type": "execute_result",
          "data": {
            "text/plain": [
              "array([1, 1, 1, 0, 1, 1, 0, 1, 1, 0, 1, 1, 0, 0, 1, 1, 0, 1, 1, 1, 0, 1,\n",
              "       0, 1, 1, 0, 1, 1, 1, 1, 1, 1, 1, 0, 1, 1, 0, 0, 1, 1, 1, 1, 1, 0,\n",
              "       1, 1, 1, 1, 1, 1, 1, 1, 1, 1, 1, 0, 0, 1, 1, 1, 1, 1, 0, 1, 0, 0,\n",
              "       1, 0, 0, 0, 0, 0, 0, 0, 0, 0, 0, 0, 0, 0, 0, 0, 0, 0, 0, 0, 0, 0,\n",
              "       0, 0, 0, 0, 0, 0, 0, 0, 0, 0, 0, 0, 0, 0, 0, 0, 0, 0, 1, 1, 1, 1,\n",
              "       1, 1, 0, 1, 1, 1, 1, 0, 1, 1, 1, 1, 0, 1, 1, 1, 1, 1, 1, 1, 1, 1,\n",
              "       1, 0, 1, 0, 1, 0, 0, 1, 1, 1, 1, 1, 0, 1, 1, 1, 1, 1, 1, 1, 1, 1,\n",
              "       1, 1, 0, 1, 1, 1, 1, 1, 1, 1, 0, 1, 1, 0, 1, 1, 1, 0, 0, 0, 0, 0,\n",
              "       0, 0, 0, 0, 0, 0, 0, 0, 0, 0, 0, 0, 0, 0, 0, 0, 1, 0, 0, 0, 0, 0,\n",
              "       0, 0, 0, 0, 0, 0, 0, 0, 0, 0, 0, 0, 0, 0, 0])"
            ]
          },
          "metadata": {
            "tags": []
          },
          "execution_count": 63
        }
      ]
    },
    {
      "cell_type": "code",
      "metadata": {
        "id": "b7D0V8DBmLTq"
      },
      "source": [
        "result3=np.vstack((y_test_label, result2))"
      ],
      "execution_count": 64,
      "outputs": []
    },
    {
      "cell_type": "code",
      "metadata": {
        "id": "nExW1PC7mZJu",
        "outputId": "dc6c02ac-2b81-49ac-f5fb-4b9edf5399f6",
        "colab": {
          "base_uri": "https://localhost:8080/"
        }
      },
      "source": [
        "result3"
      ],
      "execution_count": 65,
      "outputs": [
        {
          "output_type": "execute_result",
          "data": {
            "text/plain": [
              "array([['120.jpeg', '197.jpeg', '053.jpeg', '137.jpeg', '051.jpeg',\n",
              "        '062.jpeg', '173.jpeg', '059.jpeg', '177.jpeg', '128.jpeg',\n",
              "        '203.jpeg', '187.jpeg', '029.jpeg', '151.jpeg', '006.jpeg',\n",
              "        '068.jpeg', '150.jpeg', '113.jpeg', '202.jpeg', '211.jpeg',\n",
              "        '191.jpeg', '025.jpeg', '033.jpeg', '176.jpeg', '109.jpeg',\n",
              "        '139.jpeg', '037.jpeg', '103.jpeg', '045.jpeg', '091.jpeg',\n",
              "        '024.jpeg', '146.jpeg', '088.jpeg', '110.jpeg', '101.jpeg',\n",
              "        '081.jpeg', '072.jpeg', '013.jpeg', '094.jpeg', '115.jpeg',\n",
              "        '212.jpeg', '189.jpeg', '038.jpeg', '004.jpeg', '061.jpeg',\n",
              "        '055.jpeg', '162.jpeg', '052.jpeg', '122.jpeg', '111.jpeg',\n",
              "        '102.jpeg', '116.jpeg', '209.jpeg', '083.jpeg', '049.jpeg',\n",
              "        '074.jpeg', '080.jpeg', '160.jpeg', '188.jpeg', '071.jpeg',\n",
              "        '067.jpeg', '123.jpeg', '148.jpeg', '100.jpeg', '075.jpeg',\n",
              "        '205.jpeg', '035.jpeg', '011.jpeg', '019.jpeg', '093.jpeg',\n",
              "        '182.jpeg', '012.jpeg', '200.jpeg', '106.jpeg', '207.jpeg',\n",
              "        '028.jpeg', '079.jpeg', '170.jpeg', '125.jpeg', '031.jpeg',\n",
              "        '086.jpeg', '172.jpeg', '147.jpeg', '159.jpeg', '141.jpeg',\n",
              "        '149.jpeg', '048.jpeg', '155.jpeg', '007.jpeg', '184.jpeg',\n",
              "        '140.jpeg', '117.jpeg', '082.jpeg', '017.jpeg', '008.jpeg',\n",
              "        '036.jpeg', '186.jpeg', '152.jpeg', '126.jpeg', '168.jpeg',\n",
              "        '154.jpeg', '210.jpeg', '131.jpeg', '167.jpeg', '089.jpeg',\n",
              "        '124.jpeg', '144.jpeg', '087.jpeg', '108.jpeg', '084.jpeg',\n",
              "        '178.jpeg', '047.jpeg', '132.jpeg', '179.jpeg', '157.jpeg',\n",
              "        '171.jpeg', '153.jpeg', '142.jpeg', '046.jpeg', '016.jpeg',\n",
              "        '021.jpeg', '130.jpeg', '043.jpeg', '027.jpeg', '077.jpeg',\n",
              "        '183.jpeg', '020.jpeg', '073.jpeg', '174.jpeg', '097.jpeg',\n",
              "        '107.jpeg', '085.jpeg', '121.jpeg', '119.jpeg', '026.jpeg',\n",
              "        '009.jpeg', '064.jpeg', '090.jpeg', '105.jpeg', '044.jpeg',\n",
              "        '040.jpeg', '143.jpeg', '156.jpeg', '175.jpeg', '092.jpeg',\n",
              "        '206.jpeg', '196.jpeg', '030.jpeg', '014.jpeg', '133.jpeg',\n",
              "        '192.jpeg', '127.jpeg', '054.jpeg', '158.jpeg', '057.jpeg',\n",
              "        '208.jpeg', '034.jpeg', '015.jpeg', '066.jpeg', '166.jpeg',\n",
              "        '000.jpeg', '065.jpeg', '134.jpeg', '005.jpeg', '078.jpeg',\n",
              "        '112.jpeg', '198.jpeg', '041.jpeg', '193.jpeg', '114.jpeg',\n",
              "        '164.jpeg', '063.jpeg', '002.jpeg', '161.jpeg', '195.jpeg',\n",
              "        '050.jpeg', '056.jpeg', '096.jpeg', '180.jpeg', '190.jpeg',\n",
              "        '104.jpeg', '129.jpeg', '023.jpeg', '058.jpeg', '136.jpeg',\n",
              "        '185.jpeg', '099.jpeg', '098.jpeg', '032.jpeg', '204.jpeg',\n",
              "        '039.jpeg', '018.jpeg', '001.jpeg', '199.jpeg', '138.jpeg',\n",
              "        '145.jpeg', '181.jpeg', '042.jpeg', '022.jpeg', '169.jpeg',\n",
              "        '003.jpeg', '060.jpeg', '076.jpeg', '135.jpeg', '201.jpeg',\n",
              "        '069.jpeg', '118.jpeg', '163.jpeg', '165.jpeg', '194.jpeg',\n",
              "        '070.jpeg', '010.jpeg', '095.jpeg'],\n",
              "       ['1', '1', '1', '0', '1', '1', '0', '1', '1', '0', '1', '1', '0',\n",
              "        '0', '1', '1', '0', '1', '1', '1', '0', '1', '0', '1', '1', '0',\n",
              "        '1', '1', '1', '1', '1', '1', '1', '0', '1', '1', '0', '0', '1',\n",
              "        '1', '1', '1', '1', '0', '1', '1', '1', '1', '1', '1', '1', '1',\n",
              "        '1', '1', '1', '0', '0', '1', '1', '1', '1', '1', '0', '1', '0',\n",
              "        '0', '1', '0', '0', '0', '0', '0', '0', '0', '0', '0', '0', '0',\n",
              "        '0', '0', '0', '0', '0', '0', '0', '0', '0', '0', '0', '0', '0',\n",
              "        '0', '0', '0', '0', '0', '0', '0', '0', '0', '0', '0', '0', '0',\n",
              "        '0', '0', '1', '1', '1', '1', '1', '1', '0', '1', '1', '1', '1',\n",
              "        '0', '1', '1', '1', '1', '0', '1', '1', '1', '1', '1', '1', '1',\n",
              "        '1', '1', '1', '0', '1', '0', '1', '0', '0', '1', '1', '1', '1',\n",
              "        '1', '0', '1', '1', '1', '1', '1', '1', '1', '1', '1', '1', '1',\n",
              "        '0', '1', '1', '1', '1', '1', '1', '1', '0', '1', '1', '0', '1',\n",
              "        '1', '1', '0', '0', '0', '0', '0', '0', '0', '0', '0', '0', '0',\n",
              "        '0', '0', '0', '0', '0', '0', '0', '0', '0', '0', '1', '0', '0',\n",
              "        '0', '0', '0', '0', '0', '0', '0', '0', '0', '0', '0', '0', '0',\n",
              "        '0', '0', '0', '0', '0']], dtype='<U21')"
            ]
          },
          "metadata": {
            "tags": []
          },
          "execution_count": 65
        }
      ]
    },
    {
      "cell_type": "code",
      "metadata": {
        "id": "ioD__PYez1u9"
      },
      "source": [
        "#行列変換\n",
        "result3_T = result3.T"
      ],
      "execution_count": 66,
      "outputs": []
    },
    {
      "cell_type": "code",
      "metadata": {
        "id": "mISjBTvOxsFC",
        "outputId": "0557facd-1b1a-4642-f810-3606f2de5d19",
        "colab": {
          "base_uri": "https://localhost:8080/"
        }
      },
      "source": [
        "print(result3_T.shape)"
      ],
      "execution_count": 67,
      "outputs": [
        {
          "output_type": "stream",
          "text": [
            "(213, 2)\n"
          ],
          "name": "stdout"
        }
      ]
    },
    {
      "cell_type": "code",
      "metadata": {
        "id": "5Kp9jfEg0GlW",
        "outputId": "af8fc6c1-3950-4078-8d50-b7055caf1067",
        "colab": {
          "base_uri": "https://localhost:8080/"
        }
      },
      "source": [
        "result3_T"
      ],
      "execution_count": 68,
      "outputs": [
        {
          "output_type": "execute_result",
          "data": {
            "text/plain": [
              "array([['120.jpeg', '1'],\n",
              "       ['197.jpeg', '1'],\n",
              "       ['053.jpeg', '1'],\n",
              "       ['137.jpeg', '0'],\n",
              "       ['051.jpeg', '1'],\n",
              "       ['062.jpeg', '1'],\n",
              "       ['173.jpeg', '0'],\n",
              "       ['059.jpeg', '1'],\n",
              "       ['177.jpeg', '1'],\n",
              "       ['128.jpeg', '0'],\n",
              "       ['203.jpeg', '1'],\n",
              "       ['187.jpeg', '1'],\n",
              "       ['029.jpeg', '0'],\n",
              "       ['151.jpeg', '0'],\n",
              "       ['006.jpeg', '1'],\n",
              "       ['068.jpeg', '1'],\n",
              "       ['150.jpeg', '0'],\n",
              "       ['113.jpeg', '1'],\n",
              "       ['202.jpeg', '1'],\n",
              "       ['211.jpeg', '1'],\n",
              "       ['191.jpeg', '0'],\n",
              "       ['025.jpeg', '1'],\n",
              "       ['033.jpeg', '0'],\n",
              "       ['176.jpeg', '1'],\n",
              "       ['109.jpeg', '1'],\n",
              "       ['139.jpeg', '0'],\n",
              "       ['037.jpeg', '1'],\n",
              "       ['103.jpeg', '1'],\n",
              "       ['045.jpeg', '1'],\n",
              "       ['091.jpeg', '1'],\n",
              "       ['024.jpeg', '1'],\n",
              "       ['146.jpeg', '1'],\n",
              "       ['088.jpeg', '1'],\n",
              "       ['110.jpeg', '0'],\n",
              "       ['101.jpeg', '1'],\n",
              "       ['081.jpeg', '1'],\n",
              "       ['072.jpeg', '0'],\n",
              "       ['013.jpeg', '0'],\n",
              "       ['094.jpeg', '1'],\n",
              "       ['115.jpeg', '1'],\n",
              "       ['212.jpeg', '1'],\n",
              "       ['189.jpeg', '1'],\n",
              "       ['038.jpeg', '1'],\n",
              "       ['004.jpeg', '0'],\n",
              "       ['061.jpeg', '1'],\n",
              "       ['055.jpeg', '1'],\n",
              "       ['162.jpeg', '1'],\n",
              "       ['052.jpeg', '1'],\n",
              "       ['122.jpeg', '1'],\n",
              "       ['111.jpeg', '1'],\n",
              "       ['102.jpeg', '1'],\n",
              "       ['116.jpeg', '1'],\n",
              "       ['209.jpeg', '1'],\n",
              "       ['083.jpeg', '1'],\n",
              "       ['049.jpeg', '1'],\n",
              "       ['074.jpeg', '0'],\n",
              "       ['080.jpeg', '0'],\n",
              "       ['160.jpeg', '1'],\n",
              "       ['188.jpeg', '1'],\n",
              "       ['071.jpeg', '1'],\n",
              "       ['067.jpeg', '1'],\n",
              "       ['123.jpeg', '1'],\n",
              "       ['148.jpeg', '0'],\n",
              "       ['100.jpeg', '1'],\n",
              "       ['075.jpeg', '0'],\n",
              "       ['205.jpeg', '0'],\n",
              "       ['035.jpeg', '1'],\n",
              "       ['011.jpeg', '0'],\n",
              "       ['019.jpeg', '0'],\n",
              "       ['093.jpeg', '0'],\n",
              "       ['182.jpeg', '0'],\n",
              "       ['012.jpeg', '0'],\n",
              "       ['200.jpeg', '0'],\n",
              "       ['106.jpeg', '0'],\n",
              "       ['207.jpeg', '0'],\n",
              "       ['028.jpeg', '0'],\n",
              "       ['079.jpeg', '0'],\n",
              "       ['170.jpeg', '0'],\n",
              "       ['125.jpeg', '0'],\n",
              "       ['031.jpeg', '0'],\n",
              "       ['086.jpeg', '0'],\n",
              "       ['172.jpeg', '0'],\n",
              "       ['147.jpeg', '0'],\n",
              "       ['159.jpeg', '0'],\n",
              "       ['141.jpeg', '0'],\n",
              "       ['149.jpeg', '0'],\n",
              "       ['048.jpeg', '0'],\n",
              "       ['155.jpeg', '0'],\n",
              "       ['007.jpeg', '0'],\n",
              "       ['184.jpeg', '0'],\n",
              "       ['140.jpeg', '0'],\n",
              "       ['117.jpeg', '0'],\n",
              "       ['082.jpeg', '0'],\n",
              "       ['017.jpeg', '0'],\n",
              "       ['008.jpeg', '0'],\n",
              "       ['036.jpeg', '0'],\n",
              "       ['186.jpeg', '0'],\n",
              "       ['152.jpeg', '0'],\n",
              "       ['126.jpeg', '0'],\n",
              "       ['168.jpeg', '0'],\n",
              "       ['154.jpeg', '0'],\n",
              "       ['210.jpeg', '0'],\n",
              "       ['131.jpeg', '0'],\n",
              "       ['167.jpeg', '0'],\n",
              "       ['089.jpeg', '0'],\n",
              "       ['124.jpeg', '0'],\n",
              "       ['144.jpeg', '1'],\n",
              "       ['087.jpeg', '1'],\n",
              "       ['108.jpeg', '1'],\n",
              "       ['084.jpeg', '1'],\n",
              "       ['178.jpeg', '1'],\n",
              "       ['047.jpeg', '1'],\n",
              "       ['132.jpeg', '0'],\n",
              "       ['179.jpeg', '1'],\n",
              "       ['157.jpeg', '1'],\n",
              "       ['171.jpeg', '1'],\n",
              "       ['153.jpeg', '1'],\n",
              "       ['142.jpeg', '0'],\n",
              "       ['046.jpeg', '1'],\n",
              "       ['016.jpeg', '1'],\n",
              "       ['021.jpeg', '1'],\n",
              "       ['130.jpeg', '1'],\n",
              "       ['043.jpeg', '0'],\n",
              "       ['027.jpeg', '1'],\n",
              "       ['077.jpeg', '1'],\n",
              "       ['183.jpeg', '1'],\n",
              "       ['020.jpeg', '1'],\n",
              "       ['073.jpeg', '1'],\n",
              "       ['174.jpeg', '1'],\n",
              "       ['097.jpeg', '1'],\n",
              "       ['107.jpeg', '1'],\n",
              "       ['085.jpeg', '1'],\n",
              "       ['121.jpeg', '1'],\n",
              "       ['119.jpeg', '0'],\n",
              "       ['026.jpeg', '1'],\n",
              "       ['009.jpeg', '0'],\n",
              "       ['064.jpeg', '1'],\n",
              "       ['090.jpeg', '0'],\n",
              "       ['105.jpeg', '0'],\n",
              "       ['044.jpeg', '1'],\n",
              "       ['040.jpeg', '1'],\n",
              "       ['143.jpeg', '1'],\n",
              "       ['156.jpeg', '1'],\n",
              "       ['175.jpeg', '1'],\n",
              "       ['092.jpeg', '0'],\n",
              "       ['206.jpeg', '1'],\n",
              "       ['196.jpeg', '1'],\n",
              "       ['030.jpeg', '1'],\n",
              "       ['014.jpeg', '1'],\n",
              "       ['133.jpeg', '1'],\n",
              "       ['192.jpeg', '1'],\n",
              "       ['127.jpeg', '1'],\n",
              "       ['054.jpeg', '1'],\n",
              "       ['158.jpeg', '1'],\n",
              "       ['057.jpeg', '1'],\n",
              "       ['208.jpeg', '1'],\n",
              "       ['034.jpeg', '0'],\n",
              "       ['015.jpeg', '1'],\n",
              "       ['066.jpeg', '1'],\n",
              "       ['166.jpeg', '1'],\n",
              "       ['000.jpeg', '1'],\n",
              "       ['065.jpeg', '1'],\n",
              "       ['134.jpeg', '1'],\n",
              "       ['005.jpeg', '1'],\n",
              "       ['078.jpeg', '0'],\n",
              "       ['112.jpeg', '1'],\n",
              "       ['198.jpeg', '1'],\n",
              "       ['041.jpeg', '0'],\n",
              "       ['193.jpeg', '1'],\n",
              "       ['114.jpeg', '1'],\n",
              "       ['164.jpeg', '1'],\n",
              "       ['063.jpeg', '0'],\n",
              "       ['002.jpeg', '0'],\n",
              "       ['161.jpeg', '0'],\n",
              "       ['195.jpeg', '0'],\n",
              "       ['050.jpeg', '0'],\n",
              "       ['056.jpeg', '0'],\n",
              "       ['096.jpeg', '0'],\n",
              "       ['180.jpeg', '0'],\n",
              "       ['190.jpeg', '0'],\n",
              "       ['104.jpeg', '0'],\n",
              "       ['129.jpeg', '0'],\n",
              "       ['023.jpeg', '0'],\n",
              "       ['058.jpeg', '0'],\n",
              "       ['136.jpeg', '0'],\n",
              "       ['185.jpeg', '0'],\n",
              "       ['099.jpeg', '0'],\n",
              "       ['098.jpeg', '0'],\n",
              "       ['032.jpeg', '0'],\n",
              "       ['204.jpeg', '0'],\n",
              "       ['039.jpeg', '0'],\n",
              "       ['018.jpeg', '0'],\n",
              "       ['001.jpeg', '1'],\n",
              "       ['199.jpeg', '0'],\n",
              "       ['138.jpeg', '0'],\n",
              "       ['145.jpeg', '0'],\n",
              "       ['181.jpeg', '0'],\n",
              "       ['042.jpeg', '0'],\n",
              "       ['022.jpeg', '0'],\n",
              "       ['169.jpeg', '0'],\n",
              "       ['003.jpeg', '0'],\n",
              "       ['060.jpeg', '0'],\n",
              "       ['076.jpeg', '0'],\n",
              "       ['135.jpeg', '0'],\n",
              "       ['201.jpeg', '0'],\n",
              "       ['069.jpeg', '0'],\n",
              "       ['118.jpeg', '0'],\n",
              "       ['163.jpeg', '0'],\n",
              "       ['165.jpeg', '0'],\n",
              "       ['194.jpeg', '0'],\n",
              "       ['070.jpeg', '0'],\n",
              "       ['010.jpeg', '0'],\n",
              "       ['095.jpeg', '0']], dtype='<U21')"
            ]
          },
          "metadata": {
            "tags": []
          },
          "execution_count": 68
        }
      ]
    },
    {
      "cell_type": "code",
      "metadata": {
        "id": "7A6b4lPZnr0p"
      },
      "source": [
        "# 結果を張り付け、ファイル出力\n",
        "#import pandas as pd\n",
        "#sample= result3\n",
        "#sample.to_csv(\"./drive/My Drive/Colab Notebooks/AiQuest/en4/submit01.csv\",index=None,header=None,sep='\\t')\n",
        "#np.savetxt('./drive/My Drive/Colab Notebooks/AiQuest/en4/submit01.csv', result3_T,delimiter='\\t')\n",
        "#result3_T.to_csv('./drive/My Drive/Colab Notebooks/AiQuest/en4/submit01.csv',\n",
        "#index=False,header=False,sep='\\t')\n",
        "#import pandas as pd\n",
        "#prediction = pd.DataFrame(predictions, columns=['predictions']).to_csv('prediction.csv')\n",
        "import csv\n",
        "with open('./drive/My Drive/Colab Notebooks/AiQuest/en4/submit02.tsv', 'w') as f: #w:書き込み\n",
        "#    writer = csv.writer(f, lineterminator='\\n') # 改行コードを指定\n",
        "    writer = csv.writer(f, delimiter='\\t') # 改行コードを指定\n",
        "\n",
        "    writer.writerows(result3_T) # 2次元配列の書き込み"
      ],
      "execution_count": 69,
      "outputs": []
    },
    {
      "cell_type": "code",
      "metadata": {
        "id": "WMAEK1RionW6"
      },
      "source": [
        "model.save('model.h5')"
      ],
      "execution_count": 126,
      "outputs": []
    }
  ]
}