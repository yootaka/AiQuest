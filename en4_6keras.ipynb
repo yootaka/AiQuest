{
  "nbformat": 4,
  "nbformat_minor": 0,
  "metadata": {
    "colab": {
      "name": "en4#6keras.ipynb",
      "provenance": [],
      "collapsed_sections": [],
      "authorship_tag": "ABX9TyPo1gy8TY0nepyH9ea+QpeL",
      "include_colab_link": true
    },
    "kernelspec": {
      "name": "python3",
      "display_name": "Python 3"
    },
    "accelerator": "GPU"
  },
  "cells": [
    {
      "cell_type": "markdown",
      "metadata": {
        "id": "view-in-github",
        "colab_type": "text"
      },
      "source": [
        "<a href=\"https://colab.research.google.com/github/yootaka/AiQuest/blob/main/en4_6keras.ipynb\" target=\"_parent\"><img src=\"https://colab.research.google.com/assets/colab-badge.svg\" alt=\"Open In Colab\"/></a>"
      ]
    },
    {
      "cell_type": "code",
      "metadata": {
        "id": "MssjraBmKhWf"
      },
      "source": [
        "from keras.datasets import mnist\n",
        "from keras.utils import to_categorical\n",
        "\n",
        "from keras.layers import Dense\n",
        "from keras.models import Sequential\n",
        "from keras.models import load_model\n",
        "\n",
        "import matplotlib.pyplot as plt\n",
        "from PIL import Image\n",
        "import os\n",
        "import numpy as np\n",
        "from sklearn.model_selection import train_test_split"
      ],
      "execution_count": 1,
      "outputs": []
    },
    {
      "cell_type": "code",
      "metadata": {
        "id": "frIfmWrRKxXd",
        "outputId": "fd60157f-83c4-4fb8-e3c0-c988d3e40248",
        "colab": {
          "base_uri": "https://localhost:8080/"
        }
      },
      "source": [
        "# Google ドライブをマウント\n",
        "from google.colab import drive\n",
        "drive.mount('/content/drive')"
      ],
      "execution_count": 2,
      "outputs": [
        {
          "output_type": "stream",
          "text": [
            "Mounted at /content/drive\n"
          ],
          "name": "stdout"
        }
      ]
    },
    {
      "cell_type": "code",
      "metadata": {
        "id": "hcZJE6yXLYX7"
      },
      "source": [
        "X = []\n",
        "Y = []\n",
        "\n",
        "folder_path = \"/content/drive/My Drive/Colab Notebooks/AiQuest/en4/train/\"\n",
        "file_list = os.listdir(folder_path)"
      ],
      "execution_count": 14,
      "outputs": []
    },
    {
      "cell_type": "code",
      "metadata": {
        "id": "7cUS4suSvwO8"
      },
      "source": [
        "X_test = []\n",
        "Y_test = []\n",
        "\n",
        "folder_path_test = \"/content/drive/My Drive/Colab Notebooks/AiQuest/en4/test/test/\"\n",
        "file_list_test = os.listdir(folder_path_test)"
      ],
      "execution_count": 15,
      "outputs": []
    },
    {
      "cell_type": "code",
      "metadata": {
        "id": "LDPUQ49XMoUv",
        "outputId": "a9ca4467-5af6-496e-c877-edb86b2dc11c",
        "colab": {
          "base_uri": "https://localhost:8080/"
        }
      },
      "source": [
        "print(file_list) #ファイル確認"
      ],
      "execution_count": 16,
      "outputs": [
        {
          "output_type": "stream",
          "text": [
            "['bridge_000.jpeg', 'bridge_001.jpeg', 'bridge_003.jpeg', 'bridge_002.jpeg', 'bridge_005.jpeg', 'bridge_004.jpeg', 'bridge_006.jpeg', 'bridge_007.jpeg', 'bridge_009.jpeg', 'bridge_008.jpeg', 'bridge_011.jpeg', 'bridge_010.jpeg', 'bridge_013.jpeg', 'bridge_012.jpeg', 'bridge_014.jpeg', 'bridge_015.jpeg', 'bridge_016.jpeg', 'bridge_017.jpeg', 'bridge_018.jpeg', 'bridge_019.jpeg', 'bridge_020.jpeg', 'bridge_021.jpeg', 'bridge_022.jpeg', 'horn_000.jpeg', 'horn_001.jpeg', 'horn_002.jpeg', 'horn_003.jpeg', 'horn_006.jpeg', 'horn_005.jpeg', 'horn_004.jpeg', 'horn_007.jpeg', 'horn_008.jpeg', 'horn_009.jpeg', 'horn_010.jpeg', 'horn_011.jpeg', 'horn_013.jpeg', 'horn_012.jpeg', 'horn_014.jpeg', 'horn_015.jpeg', 'horn_017.jpeg', 'horn_016.jpeg', 'horn_018.jpeg', 'horn_019.jpeg', 'horn_020.jpeg', 'horn_022.jpeg', 'horn_021.jpeg', 'horn_023.jpeg', 'horn_025.jpeg', 'horn_024.jpeg', 'horn_026.jpeg', 'horn_027.jpeg', 'horn_028.jpeg', 'horn_029.jpeg', 'horn_030.jpeg', 'horn_031.jpeg', 'horn_033.jpeg', 'horn_032.jpeg', 'horn_036.jpeg', 'horn_034.jpeg', 'horn_035.jpeg', 'potato_000.jpeg', 'potato_001.jpeg', 'potato_002.jpeg', 'potato_003.jpeg', 'potato_005.jpeg', 'potato_004.jpeg', 'potato_006.jpeg', 'potato_007.jpeg', 'potato_008.jpeg', 'potato_009.jpeg', 'potato_010.jpeg', 'potato_011.jpeg', 'potato_012.jpeg', 'potato_013.jpeg', 'potato_015.jpeg', 'potato_014.jpeg', 'potato_017.jpeg', 'potato_016.jpeg', 'potato_018.jpeg', 'potato_019.jpeg', 'potato_020.jpeg', 'potato_021.jpeg', 'potato_022.jpeg', 'potato_023.jpeg', 'potato_024.jpeg', 'potato_025.jpeg', 'potato_026.jpeg', 'potato_027.jpeg', 'potato_028.jpeg', 'potato_030.jpeg', 'potato_029.jpeg', 'potato_031.jpeg', 'potato_032.jpeg', 'potato_035.jpeg', 'potato_034.jpeg', 'potato_033.jpeg', 'potato_036.jpeg', 'potato_037.jpeg', 'potato_038.jpeg', 'potato_039.jpeg', 'potato_040.jpeg', 'potato_041.jpeg', 'potato_042.jpeg', 'potato_044.jpeg', 'potato_046.jpeg', 'potato_045.jpeg', 'potato_047.jpeg', 'potato_048.jpeg', 'potato_049.jpeg', 'potato_050.jpeg', 'potato_051.jpeg', 'potato_052.jpeg', 'potato_054.jpeg', 'potato_053.jpeg', 'potato_055.jpeg', 'potato_056.jpeg', 'potato_057.jpeg', 'potato_058.jpeg', 'potato_060.jpeg', 'potato_059.jpeg', 'potato_061.jpeg', 'potato_062.jpeg', 'potato_063.jpeg', 'potato_064.jpeg', 'regular_000.jpeg', 'regular_002.jpeg', 'regular_001.jpeg', 'regular_004.jpeg', 'regular_003.jpeg', 'regular_005.jpeg', 'regular_006.jpeg', 'regular_008.jpeg', 'regular_007.jpeg', 'regular_009.jpeg', 'regular_010.jpeg', 'regular_011.jpeg', 'regular_012.jpeg', 'regular_013.jpeg', 'regular_014.jpeg', 'regular_015.jpeg', 'regular_016.jpeg', 'regular_017.jpeg', 'regular_018.jpeg', 'regular_019.jpeg', 'regular_021.jpeg', 'regular_020.jpeg', 'regular_023.jpeg', 'regular_022.jpeg', 'regular_025.jpeg', 'regular_024.jpeg', 'regular_027.jpeg', 'regular_026.jpeg', 'regular_029.jpeg', 'regular_028.jpeg', 'regular_030.jpeg', 'regular_031.jpeg', 'regular_034.jpeg', 'regular_032.jpeg', 'regular_033.jpeg', 'regular_036.jpeg', 'regular_035.jpeg', 'regular_037.jpeg', 'regular_038.jpeg', 'regular_039.jpeg', 'regular_040.jpeg', 'regular_041.jpeg', 'regular_042.jpeg', 'regular_044.jpeg', 'regular_043.jpeg', 'regular_045.jpeg', 'regular_046.jpeg', 'regular_047.jpeg', 'regular_048.jpeg', 'regular_049.jpeg', 'regular_050.jpeg', 'regular_051.jpeg', 'regular_052.jpeg', 'regular_053.jpeg', 'regular_055.jpeg', 'regular_054.jpeg', 'regular_056.jpeg', 'regular_057.jpeg', 'regular_058.jpeg', 'regular_059.jpeg', 'regular_060.jpeg', 'regular_061.jpeg', 'regular_062.jpeg', 'regular_063.jpeg', 'regular_064.jpeg', 'bridge_023.jpeg', 'bridge_024.jpeg', 'bridge_025.jpeg', 'bridge_026.jpeg', 'bridge_027.jpeg', 'bridge_028.jpeg', 'bridge_029.jpeg', 'horn_038.jpeg', 'horn_037.jpeg', 'horn_040.jpeg', 'horn_039.jpeg', 'horn_041.jpeg', 'horn_042.jpeg', 'horn_043.jpeg', 'horn_044.jpeg', 'horn_045.jpeg', 'horn_046.jpeg', 'horn_048.jpeg', 'horn_047.jpeg', 'horn_049.jpeg', 'horn_050.jpeg', 'horn_052.jpeg', 'horn_051.jpeg', 'horn_053.jpeg', 'horn_055.jpeg', 'horn_054.jpeg', 'potato_065.jpeg', 'horn_056.jpeg', 'potato_066.jpeg', 'potato_067.jpeg', 'potato_068.jpeg', 'potato_070.jpeg', 'potato_071.jpeg', 'potato_069.jpeg', 'potato_072.jpeg', 'potato_073.jpeg', 'potato_074.jpeg', 'potato_075.jpeg', 'potato_076.jpeg', 'potato_078.jpeg', 'potato_077.jpeg', 'potato_080.jpeg', 'potato_079.jpeg', 'potato_082.jpeg', 'potato_081.jpeg', 'potato_083.jpeg', 'potato_084.jpeg', 'potato_087.jpeg', 'potato_085.jpeg', 'potato_086.jpeg', 'potato_088.jpeg', 'potato_090.jpeg', 'potato_089.jpeg', 'potato_091.jpeg', 'potato_092.jpeg', 'potato_093.jpeg', 'potato_094.jpeg', 'potato_095.jpeg', 'potato_096.jpeg', 'potato_097.jpeg', 'potato_098.jpeg', 'potato_099.jpeg', 'potato_100.jpeg', 'potato_101.jpeg', 'regular_065.jpeg', 'potato_102.jpeg', 'regular_066.jpeg', 'regular_067.jpeg', 'regular_069.jpeg', 'regular_068.jpeg', 'regular_071.jpeg', 'regular_070.jpeg', 'regular_073.jpeg', 'regular_072.jpeg', 'regular_074.jpeg', 'regular_075.jpeg', 'regular_077.jpeg', 'regular_076.jpeg', 'regular_078.jpeg', 'regular_079.jpeg', 'regular_081.jpeg', 'regular_080.jpeg', 'regular_083.jpeg', 'regular_082.jpeg', 'regular_084.jpeg', 'regular_085.jpeg', 'regular_086.jpeg', 'regular_087.jpeg', 'regular_088.jpeg', 'regular_089.jpeg', 'regular_090.jpeg', 'regular_091.jpeg', 'regular_092.jpeg', 'regular_093.jpeg', 'regular_094.jpeg', 'regular_096.jpeg', 'regular_095.jpeg', 'regular_098.jpeg', 'regular_097.jpeg', 'regular_099.jpeg']\n"
          ],
          "name": "stdout"
        }
      ]
    },
    {
      "cell_type": "code",
      "metadata": {
        "id": "Qe33wYaOv5WM",
        "outputId": "6120248e-d750-42d6-c7cb-12394418db45",
        "colab": {
          "base_uri": "https://localhost:8080/"
        }
      },
      "source": [
        "print(file_list_test) #ファイル確認"
      ],
      "execution_count": 17,
      "outputs": [
        {
          "output_type": "stream",
          "text": [
            "['120.jpeg', '197.jpeg', '053.jpeg', '137.jpeg', '051.jpeg', '062.jpeg', '173.jpeg', '059.jpeg', '177.jpeg', '128.jpeg', '203.jpeg', '187.jpeg', '029.jpeg', '151.jpeg', '006.jpeg', '068.jpeg', '150.jpeg', '113.jpeg', '202.jpeg', '211.jpeg', '191.jpeg', '025.jpeg', '033.jpeg', '176.jpeg', '109.jpeg', '139.jpeg', '037.jpeg', '103.jpeg', '045.jpeg', '091.jpeg', '024.jpeg', '146.jpeg', '088.jpeg', '110.jpeg', '101.jpeg', '081.jpeg', '072.jpeg', '013.jpeg', '094.jpeg', '115.jpeg', '212.jpeg', '189.jpeg', '038.jpeg', '004.jpeg', '061.jpeg', '055.jpeg', '162.jpeg', '052.jpeg', '122.jpeg', '111.jpeg', '102.jpeg', '116.jpeg', '209.jpeg', '083.jpeg', '049.jpeg', '074.jpeg', '080.jpeg', '160.jpeg', '188.jpeg', '071.jpeg', '067.jpeg', '123.jpeg', '148.jpeg', '100.jpeg', '075.jpeg', '205.jpeg', '035.jpeg', '011.jpeg', '019.jpeg', '093.jpeg', '182.jpeg', '012.jpeg', '200.jpeg', '106.jpeg', '207.jpeg', '028.jpeg', '079.jpeg', '170.jpeg', '125.jpeg', '031.jpeg', '086.jpeg', '172.jpeg', '147.jpeg', '159.jpeg', '141.jpeg', '149.jpeg', '048.jpeg', '155.jpeg', '007.jpeg', '184.jpeg', '140.jpeg', '117.jpeg', '082.jpeg', '017.jpeg', '008.jpeg', '036.jpeg', '186.jpeg', '152.jpeg', '126.jpeg', '168.jpeg', '154.jpeg', '210.jpeg', '131.jpeg', '167.jpeg', '089.jpeg', '124.jpeg', '144.jpeg', '087.jpeg', '108.jpeg', '084.jpeg', '178.jpeg', '047.jpeg', '132.jpeg', '179.jpeg', '157.jpeg', '171.jpeg', '153.jpeg', '142.jpeg', '046.jpeg', '016.jpeg', '021.jpeg', '130.jpeg', '043.jpeg', '027.jpeg', '077.jpeg', '183.jpeg', '020.jpeg', '073.jpeg', '174.jpeg', '097.jpeg', '107.jpeg', '085.jpeg', '121.jpeg', '119.jpeg', '026.jpeg', '009.jpeg', '064.jpeg', '090.jpeg', '105.jpeg', '044.jpeg', '040.jpeg', '143.jpeg', '156.jpeg', '175.jpeg', '092.jpeg', '206.jpeg', '196.jpeg', '030.jpeg', '014.jpeg', '133.jpeg', '192.jpeg', '127.jpeg', '054.jpeg', '158.jpeg', '057.jpeg', '208.jpeg', '034.jpeg', '015.jpeg', '066.jpeg', '166.jpeg', '000.jpeg', '065.jpeg', '134.jpeg', '005.jpeg', '078.jpeg', '112.jpeg', '198.jpeg', '041.jpeg', '193.jpeg', '114.jpeg', '164.jpeg', '063.jpeg', '002.jpeg', '161.jpeg', '195.jpeg', '050.jpeg', '056.jpeg', '096.jpeg', '180.jpeg', '190.jpeg', '104.jpeg', '129.jpeg', '023.jpeg', '058.jpeg', '136.jpeg', '185.jpeg', '099.jpeg', '098.jpeg', '032.jpeg', '204.jpeg', '039.jpeg', '018.jpeg', '001.jpeg', '199.jpeg', '138.jpeg', '145.jpeg', '181.jpeg', '042.jpeg', '022.jpeg', '169.jpeg', '003.jpeg', '060.jpeg', '076.jpeg', '135.jpeg', '201.jpeg', '069.jpeg', '118.jpeg', '163.jpeg', '165.jpeg', '194.jpeg', '070.jpeg', '010.jpeg', '095.jpeg']\n"
          ],
          "name": "stdout"
        }
      ]
    },
    {
      "cell_type": "code",
      "metadata": {
        "id": "ESka8CTEMte9"
      },
      "source": [
        "image_size = 256\n",
        "\n",
        "for file in file_list:\n",
        "    try:\n",
        "        image = Image.open(folder_path + file)\n",
        "    except:\n",
        "        print('error', file)\n",
        "        continue\n",
        "    \n",
        "    image = image.convert(\"RGB\")\n",
        "    image = image.resize((image_size, image_size))\n",
        "    data = np.asarray(image)\n",
        "    X.append(data)\n",
        "    if 'bridge' or 'horn' or 'potato' in file:\n",
        "        Y.append(1) #不良品\n",
        "    else:\n",
        "         Y.append(0) #良品\n",
        "\n",
        "X_train = np.array(X) #画像データ\n",
        "y_train = np.array(Y) #ラベルデータ"
      ],
      "execution_count": 22,
      "outputs": []
    },
    {
      "cell_type": "code",
      "metadata": {
        "id": "nNBZe2IQOdZr",
        "outputId": "083c3839-473f-468e-b24f-ca496f78f09a",
        "colab": {
          "base_uri": "https://localhost:8080/"
        }
      },
      "source": [
        "print(X_train.shape)\n",
        "print(y_train.shape)"
      ],
      "execution_count": 27,
      "outputs": [
        {
          "output_type": "stream",
          "text": [
            "(833, 256, 256, 3)\n",
            "(833,)\n"
          ],
          "name": "stdout"
        }
      ]
    },
    {
      "cell_type": "code",
      "metadata": {
        "id": "Fps9ukS4zJ3M"
      },
      "source": [
        "image_size = 256\n",
        "\n",
        "for file in file_list_test:\n",
        "    try:\n",
        "        image = Image.open(folder_path_test + file)\n",
        "    except:\n",
        "        print('error', file)\n",
        "        continue\n",
        "    \n",
        "    image = image.convert(\"RGB\")\n",
        "    image = image.resize((image_size, image_size))\n",
        "    data = np.asarray(image)\n",
        "    X.append(data)\n",
        "    Y.append(0) #初期値\n",
        "\n",
        "X_test = np.array(X) #画像データ\n",
        "y_test = np.array(Y) #ラベルデータ"
      ],
      "execution_count": 34,
      "outputs": []
    },
    {
      "cell_type": "code",
      "metadata": {
        "id": "6GFnmTC-1YE-",
        "outputId": "25f4fdf6-61f5-48fa-f6b8-ce6fadfaa19f",
        "colab": {
          "base_uri": "https://localhost:8080/"
        }
      },
      "source": [
        "print(X_test.shape)\n",
        "print(y_test.shape)"
      ],
      "execution_count": 35,
      "outputs": [
        {
          "output_type": "stream",
          "text": [
            "(1260, 256, 256, 3)\n",
            "(1259,)\n"
          ],
          "name": "stdout"
        }
      ]
    },
    {
      "cell_type": "markdown",
      "metadata": {
        "id": "yVqoadmQl8_q"
      },
      "source": [
        "データ整形"
      ]
    },
    {
      "cell_type": "code",
      "metadata": {
        "id": "OdT2ZXX5mFP2"
      },
      "source": [
        "#X_train, X_test, y_train, y_test = train_test_split(X, Y, test_size=0.25)"
      ],
      "execution_count": null,
      "outputs": []
    },
    {
      "cell_type": "code",
      "metadata": {
        "id": "0Jq6z6DCnvec"
      },
      "source": [
        "# 画像を1次元配列にreshape\n",
        "X_train = X_train.reshape(-1, image_size * image_size *3)\n",
        "X_test = X_test.reshape(-1, image_size * image_size *3)"
      ],
      "execution_count": 28,
      "outputs": []
    },
    {
      "cell_type": "code",
      "metadata": {
        "id": "kt5U7kR-n0Uw"
      },
      "source": [
        "\n",
        "# 輝度値を0 ~ 1に入るように正規化\n",
        "X_train = X_train.astype('float32')/255\n",
        "X_test = X_test.astype('float32')/255"
      ],
      "execution_count": 29,
      "outputs": []
    },
    {
      "cell_type": "code",
      "metadata": {
        "id": "1mOBMKEgn1TY"
      },
      "source": [
        "# one hot encoding\n",
        "y_train = to_categorical(y_train)\n",
        "y_test = to_categorical(y_test)"
      ],
      "execution_count": 30,
      "outputs": []
    },
    {
      "cell_type": "markdown",
      "metadata": {
        "id": "b9AZI8l3n9gE"
      },
      "source": [
        "モデル作成"
      ]
    },
    {
      "cell_type": "code",
      "metadata": {
        "id": "6L2EG_w9n5Lu",
        "outputId": "808e6e30-ab33-4a22-b863-7e1d088d0ef9",
        "colab": {
          "base_uri": "https://localhost:8080/"
        }
      },
      "source": [
        "model = Sequential()\n",
        "model.add(Dense(64, activation='relu', input_dim=image_size * image_size *3))\n",
        "model.add(Dense(2, activation='softmax'))\n",
        "\n",
        "model.summary()"
      ],
      "execution_count": 31,
      "outputs": [
        {
          "output_type": "stream",
          "text": [
            "Model: \"sequential\"\n",
            "_________________________________________________________________\n",
            "Layer (type)                 Output Shape              Param #   \n",
            "=================================================================\n",
            "dense (Dense)                (None, 64)                12582976  \n",
            "_________________________________________________________________\n",
            "dense_1 (Dense)              (None, 2)                 130       \n",
            "=================================================================\n",
            "Total params: 12,583,106\n",
            "Trainable params: 12,583,106\n",
            "Non-trainable params: 0\n",
            "_________________________________________________________________\n"
          ],
          "name": "stdout"
        }
      ]
    },
    {
      "cell_type": "code",
      "metadata": {
        "id": "Gfdj2WvvoSva",
        "outputId": "8ed1bef4-640c-4a7d-f568-05d4bc4da68c",
        "colab": {
          "base_uri": "https://localhost:8080/"
        }
      },
      "source": [
        "model.compile(optimizer='Adam',\n",
        "              loss='categorical_crossentropy',\n",
        "              metrics=['accuracy'])\n",
        "\n",
        "model.fit(X_train, y_train, epochs=20, batch_size=20)"
      ],
      "execution_count": 32,
      "outputs": [
        {
          "output_type": "stream",
          "text": [
            "Epoch 1/20\n",
            "42/42 [==============================] - 0s 11ms/step - loss: 0.0169 - accuracy: 0.9868\n",
            "Epoch 2/20\n",
            "42/42 [==============================] - 0s 11ms/step - loss: 0.0000e+00 - accuracy: 1.0000\n",
            "Epoch 3/20\n",
            "42/42 [==============================] - 0s 11ms/step - loss: 0.0000e+00 - accuracy: 1.0000\n",
            "Epoch 4/20\n",
            "42/42 [==============================] - 0s 10ms/step - loss: 0.0000e+00 - accuracy: 1.0000\n",
            "Epoch 5/20\n",
            "42/42 [==============================] - 0s 11ms/step - loss: 0.0000e+00 - accuracy: 1.0000\n",
            "Epoch 6/20\n",
            "42/42 [==============================] - 0s 11ms/step - loss: 0.0000e+00 - accuracy: 1.0000\n",
            "Epoch 7/20\n",
            "42/42 [==============================] - 0s 11ms/step - loss: 0.0000e+00 - accuracy: 1.0000\n",
            "Epoch 8/20\n",
            "42/42 [==============================] - 0s 11ms/step - loss: 0.0000e+00 - accuracy: 1.0000\n",
            "Epoch 9/20\n",
            "42/42 [==============================] - 0s 10ms/step - loss: 0.0000e+00 - accuracy: 1.0000\n",
            "Epoch 10/20\n",
            "42/42 [==============================] - 0s 10ms/step - loss: 0.0000e+00 - accuracy: 1.0000\n",
            "Epoch 11/20\n",
            "42/42 [==============================] - 0s 11ms/step - loss: 0.0000e+00 - accuracy: 1.0000\n",
            "Epoch 12/20\n",
            "42/42 [==============================] - 0s 10ms/step - loss: 0.0000e+00 - accuracy: 1.0000\n",
            "Epoch 13/20\n",
            "42/42 [==============================] - 0s 10ms/step - loss: 0.0000e+00 - accuracy: 1.0000\n",
            "Epoch 14/20\n",
            "42/42 [==============================] - 0s 10ms/step - loss: 0.0000e+00 - accuracy: 1.0000\n",
            "Epoch 15/20\n",
            "42/42 [==============================] - 0s 11ms/step - loss: 0.0000e+00 - accuracy: 1.0000\n",
            "Epoch 16/20\n",
            "42/42 [==============================] - 0s 10ms/step - loss: 0.0000e+00 - accuracy: 1.0000\n",
            "Epoch 17/20\n",
            "42/42 [==============================] - 0s 10ms/step - loss: 0.0000e+00 - accuracy: 1.0000\n",
            "Epoch 18/20\n",
            "42/42 [==============================] - 0s 10ms/step - loss: 0.0000e+00 - accuracy: 1.0000\n",
            "Epoch 19/20\n",
            "42/42 [==============================] - 0s 10ms/step - loss: 0.0000e+00 - accuracy: 1.0000\n",
            "Epoch 20/20\n",
            "42/42 [==============================] - 0s 10ms/step - loss: 0.0000e+00 - accuracy: 1.0000\n"
          ],
          "name": "stdout"
        },
        {
          "output_type": "execute_result",
          "data": {
            "text/plain": [
              "<tensorflow.python.keras.callbacks.History at 0x7f6aa2560208>"
            ]
          },
          "metadata": {
            "tags": []
          },
          "execution_count": 32
        }
      ]
    },
    {
      "cell_type": "code",
      "metadata": {
        "id": "cF_5c_oaofYX",
        "outputId": "0343e237-87d2-4468-f2f6-40f8fb15afd9",
        "colab": {
          "base_uri": "https://localhost:8080/",
          "height": 371
        }
      },
      "source": [
        "model.evaluate(X_test, y_test)"
      ],
      "execution_count": 33,
      "outputs": [
        {
          "output_type": "error",
          "ename": "ValueError",
          "evalue": "ignored",
          "traceback": [
            "\u001b[0;31m---------------------------------------------------------------------------\u001b[0m",
            "\u001b[0;31mValueError\u001b[0m                                Traceback (most recent call last)",
            "\u001b[0;32m<ipython-input-33-acc519fcce62>\u001b[0m in \u001b[0;36m<module>\u001b[0;34m()\u001b[0m\n\u001b[0;32m----> 1\u001b[0;31m \u001b[0mmodel\u001b[0m\u001b[0;34m.\u001b[0m\u001b[0mevaluate\u001b[0m\u001b[0;34m(\u001b[0m\u001b[0mX_test\u001b[0m\u001b[0;34m,\u001b[0m \u001b[0my_test\u001b[0m\u001b[0;34m)\u001b[0m\u001b[0;34m\u001b[0m\u001b[0;34m\u001b[0m\u001b[0m\n\u001b[0m",
            "\u001b[0;32m/usr/local/lib/python3.6/dist-packages/tensorflow/python/keras/engine/training.py\u001b[0m in \u001b[0;36m_method_wrapper\u001b[0;34m(self, *args, **kwargs)\u001b[0m\n\u001b[1;32m    106\u001b[0m   \u001b[0;32mdef\u001b[0m \u001b[0m_method_wrapper\u001b[0m\u001b[0;34m(\u001b[0m\u001b[0mself\u001b[0m\u001b[0;34m,\u001b[0m \u001b[0;34m*\u001b[0m\u001b[0margs\u001b[0m\u001b[0;34m,\u001b[0m \u001b[0;34m**\u001b[0m\u001b[0mkwargs\u001b[0m\u001b[0;34m)\u001b[0m\u001b[0;34m:\u001b[0m\u001b[0;34m\u001b[0m\u001b[0;34m\u001b[0m\u001b[0m\n\u001b[1;32m    107\u001b[0m     \u001b[0;32mif\u001b[0m \u001b[0;32mnot\u001b[0m \u001b[0mself\u001b[0m\u001b[0;34m.\u001b[0m\u001b[0m_in_multi_worker_mode\u001b[0m\u001b[0;34m(\u001b[0m\u001b[0;34m)\u001b[0m\u001b[0;34m:\u001b[0m  \u001b[0;31m# pylint: disable=protected-access\u001b[0m\u001b[0;34m\u001b[0m\u001b[0;34m\u001b[0m\u001b[0m\n\u001b[0;32m--> 108\u001b[0;31m       \u001b[0;32mreturn\u001b[0m \u001b[0mmethod\u001b[0m\u001b[0;34m(\u001b[0m\u001b[0mself\u001b[0m\u001b[0;34m,\u001b[0m \u001b[0;34m*\u001b[0m\u001b[0margs\u001b[0m\u001b[0;34m,\u001b[0m \u001b[0;34m**\u001b[0m\u001b[0mkwargs\u001b[0m\u001b[0;34m)\u001b[0m\u001b[0;34m\u001b[0m\u001b[0;34m\u001b[0m\u001b[0m\n\u001b[0m\u001b[1;32m    109\u001b[0m \u001b[0;34m\u001b[0m\u001b[0m\n\u001b[1;32m    110\u001b[0m     \u001b[0;31m# Running inside `run_distribute_coordinator` already.\u001b[0m\u001b[0;34m\u001b[0m\u001b[0;34m\u001b[0m\u001b[0;34m\u001b[0m\u001b[0m\n",
            "\u001b[0;32m/usr/local/lib/python3.6/dist-packages/tensorflow/python/keras/engine/training.py\u001b[0m in \u001b[0;36mevaluate\u001b[0;34m(self, x, y, batch_size, verbose, sample_weight, steps, callbacks, max_queue_size, workers, use_multiprocessing, return_dict)\u001b[0m\n\u001b[1;32m   1354\u001b[0m             \u001b[0muse_multiprocessing\u001b[0m\u001b[0;34m=\u001b[0m\u001b[0muse_multiprocessing\u001b[0m\u001b[0;34m,\u001b[0m\u001b[0;34m\u001b[0m\u001b[0;34m\u001b[0m\u001b[0m\n\u001b[1;32m   1355\u001b[0m             \u001b[0mmodel\u001b[0m\u001b[0;34m=\u001b[0m\u001b[0mself\u001b[0m\u001b[0;34m,\u001b[0m\u001b[0;34m\u001b[0m\u001b[0;34m\u001b[0m\u001b[0m\n\u001b[0;32m-> 1356\u001b[0;31m             steps_per_execution=self._steps_per_execution)\n\u001b[0m\u001b[1;32m   1357\u001b[0m \u001b[0;34m\u001b[0m\u001b[0m\n\u001b[1;32m   1358\u001b[0m       \u001b[0;31m# Container that configures and calls `tf.keras.Callback`s.\u001b[0m\u001b[0;34m\u001b[0m\u001b[0;34m\u001b[0m\u001b[0;34m\u001b[0m\u001b[0m\n",
            "\u001b[0;32m/usr/local/lib/python3.6/dist-packages/tensorflow/python/keras/engine/data_adapter.py\u001b[0m in \u001b[0;36m__init__\u001b[0;34m(self, x, y, sample_weight, batch_size, steps_per_epoch, initial_epoch, epochs, shuffle, class_weight, max_queue_size, workers, use_multiprocessing, model, steps_per_execution)\u001b[0m\n\u001b[1;32m   1115\u001b[0m         \u001b[0muse_multiprocessing\u001b[0m\u001b[0;34m=\u001b[0m\u001b[0muse_multiprocessing\u001b[0m\u001b[0;34m,\u001b[0m\u001b[0;34m\u001b[0m\u001b[0;34m\u001b[0m\u001b[0m\n\u001b[1;32m   1116\u001b[0m         \u001b[0mdistribution_strategy\u001b[0m\u001b[0;34m=\u001b[0m\u001b[0mds_context\u001b[0m\u001b[0;34m.\u001b[0m\u001b[0mget_strategy\u001b[0m\u001b[0;34m(\u001b[0m\u001b[0;34m)\u001b[0m\u001b[0;34m,\u001b[0m\u001b[0;34m\u001b[0m\u001b[0;34m\u001b[0m\u001b[0m\n\u001b[0;32m-> 1117\u001b[0;31m         model=model)\n\u001b[0m\u001b[1;32m   1118\u001b[0m \u001b[0;34m\u001b[0m\u001b[0m\n\u001b[1;32m   1119\u001b[0m     \u001b[0mstrategy\u001b[0m \u001b[0;34m=\u001b[0m \u001b[0mds_context\u001b[0m\u001b[0;34m.\u001b[0m\u001b[0mget_strategy\u001b[0m\u001b[0;34m(\u001b[0m\u001b[0;34m)\u001b[0m\u001b[0;34m\u001b[0m\u001b[0;34m\u001b[0m\u001b[0m\n",
            "\u001b[0;32m/usr/local/lib/python3.6/dist-packages/tensorflow/python/keras/engine/data_adapter.py\u001b[0m in \u001b[0;36m__init__\u001b[0;34m(self, x, y, sample_weights, sample_weight_modes, batch_size, epochs, steps, shuffle, **kwargs)\u001b[0m\n\u001b[1;32m    280\u001b[0m             label, \", \".join(str(i.shape[0]) for i in nest.flatten(data)))\n\u001b[1;32m    281\u001b[0m       \u001b[0mmsg\u001b[0m \u001b[0;34m+=\u001b[0m \u001b[0;34m\"Please provide data which shares the same first dimension.\"\u001b[0m\u001b[0;34m\u001b[0m\u001b[0;34m\u001b[0m\u001b[0m\n\u001b[0;32m--> 282\u001b[0;31m       \u001b[0;32mraise\u001b[0m \u001b[0mValueError\u001b[0m\u001b[0;34m(\u001b[0m\u001b[0mmsg\u001b[0m\u001b[0;34m)\u001b[0m\u001b[0;34m\u001b[0m\u001b[0;34m\u001b[0m\u001b[0m\n\u001b[0m\u001b[1;32m    283\u001b[0m     \u001b[0mnum_samples\u001b[0m \u001b[0;34m=\u001b[0m \u001b[0mnum_samples\u001b[0m\u001b[0;34m.\u001b[0m\u001b[0mpop\u001b[0m\u001b[0;34m(\u001b[0m\u001b[0;34m)\u001b[0m\u001b[0;34m\u001b[0m\u001b[0;34m\u001b[0m\u001b[0m\n\u001b[1;32m    284\u001b[0m \u001b[0;34m\u001b[0m\u001b[0m\n",
            "\u001b[0;31mValueError\u001b[0m: Data cardinality is ambiguous:\n  x sizes: 1047\n  y sizes: 1046\nPlease provide data which shares the same first dimension."
          ]
        }
      ]
    },
    {
      "cell_type": "code",
      "metadata": {
        "id": "WMAEK1RionW6"
      },
      "source": [
        "model.save('model.h5')"
      ],
      "execution_count": null,
      "outputs": []
    },
    {
      "cell_type": "code",
      "metadata": {
        "id": "j1a48KcCouPd"
      },
      "source": [
        "y_test"
      ],
      "execution_count": null,
      "outputs": []
    }
  ]
}