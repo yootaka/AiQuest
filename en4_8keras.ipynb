{
  "nbformat": 4,
  "nbformat_minor": 0,
  "metadata": {
    "colab": {
      "name": "en4#8keras.ipynb",
      "provenance": [],
      "collapsed_sections": [],
      "authorship_tag": "ABX9TyOBS+bHFbEuUZYQGQ+ge36v",
      "include_colab_link": true
    },
    "kernelspec": {
      "name": "python3",
      "display_name": "Python 3"
    },
    "accelerator": "GPU"
  },
  "cells": [
    {
      "cell_type": "markdown",
      "metadata": {
        "id": "view-in-github",
        "colab_type": "text"
      },
      "source": [
        "<a href=\"https://colab.research.google.com/github/yootaka/AiQuest/blob/main/en4_8keras.ipynb\" target=\"_parent\"><img src=\"https://colab.research.google.com/assets/colab-badge.svg\" alt=\"Open In Colab\"/></a>"
      ]
    },
    {
      "cell_type": "code",
      "metadata": {
        "id": "MssjraBmKhWf"
      },
      "source": [
        "from keras.datasets import mnist\n",
        "from keras.utils import to_categorical\n",
        "\n",
        "from keras.layers import Conv2D, MaxPool2D, Flatten, Dense\n",
        "from keras.models import Sequential\n",
        "from keras.models import load_model\n",
        "\n",
        "import matplotlib.pyplot as plt\n",
        "from PIL import Image\n",
        "import os\n",
        "import numpy as np\n",
        "from sklearn.model_selection import train_test_split"
      ],
      "execution_count": 1,
      "outputs": []
    },
    {
      "cell_type": "code",
      "metadata": {
        "id": "frIfmWrRKxXd",
        "outputId": "5134a358-eefb-4fe2-df52-59fa91f5f71a",
        "colab": {
          "base_uri": "https://localhost:8080/"
        }
      },
      "source": [
        "# Google ドライブをマウント\n",
        "from google.colab import drive\n",
        "drive.mount('/content/drive')"
      ],
      "execution_count": 2,
      "outputs": [
        {
          "output_type": "stream",
          "text": [
            "Mounted at /content/drive\n"
          ],
          "name": "stdout"
        }
      ]
    },
    {
      "cell_type": "code",
      "metadata": {
        "id": "hcZJE6yXLYX7"
      },
      "source": [
        "X = []\n",
        "Y = []\n",
        "\n",
        "folder_path = \"/content/drive/My Drive/Colab Notebooks/AiQuest/en4/train/\"\n",
        "file_list = os.listdir(folder_path)"
      ],
      "execution_count": 3,
      "outputs": []
    },
    {
      "cell_type": "code",
      "metadata": {
        "id": "7cUS4suSvwO8"
      },
      "source": [
        "X_test = []\n",
        "Y_test = []\n",
        "\n",
        "folder_path_test = \"/content/drive/My Drive/Colab Notebooks/AiQuest/en4/test/test/\"\n",
        "file_list_test = os.listdir(folder_path_test)"
      ],
      "execution_count": 4,
      "outputs": []
    },
    {
      "cell_type": "code",
      "metadata": {
        "id": "LDPUQ49XMoUv",
        "outputId": "d60e3b26-33cd-44c9-8781-ac729d976362",
        "colab": {
          "base_uri": "https://localhost:8080/"
        }
      },
      "source": [
        "print(file_list) #ファイル確認"
      ],
      "execution_count": 5,
      "outputs": [
        {
          "output_type": "stream",
          "text": [
            "['bridge_000.jpeg', 'bridge_001.jpeg', 'bridge_003.jpeg', 'bridge_002.jpeg', 'bridge_005.jpeg', 'bridge_004.jpeg', 'bridge_006.jpeg', 'bridge_007.jpeg', 'bridge_009.jpeg', 'bridge_008.jpeg', 'bridge_011.jpeg', 'bridge_010.jpeg', 'bridge_013.jpeg', 'bridge_012.jpeg', 'bridge_014.jpeg', 'bridge_015.jpeg', 'bridge_016.jpeg', 'bridge_017.jpeg', 'bridge_018.jpeg', 'bridge_019.jpeg', 'bridge_020.jpeg', 'bridge_021.jpeg', 'bridge_022.jpeg', 'horn_000.jpeg', 'horn_001.jpeg', 'horn_002.jpeg', 'horn_003.jpeg', 'horn_006.jpeg', 'horn_005.jpeg', 'horn_004.jpeg', 'horn_007.jpeg', 'horn_008.jpeg', 'horn_009.jpeg', 'horn_010.jpeg', 'horn_011.jpeg', 'horn_013.jpeg', 'horn_012.jpeg', 'horn_014.jpeg', 'horn_015.jpeg', 'horn_017.jpeg', 'horn_016.jpeg', 'horn_018.jpeg', 'horn_019.jpeg', 'horn_020.jpeg', 'horn_022.jpeg', 'horn_021.jpeg', 'horn_023.jpeg', 'horn_025.jpeg', 'horn_024.jpeg', 'horn_026.jpeg', 'horn_027.jpeg', 'horn_028.jpeg', 'horn_029.jpeg', 'horn_030.jpeg', 'horn_031.jpeg', 'horn_033.jpeg', 'horn_032.jpeg', 'horn_036.jpeg', 'horn_034.jpeg', 'horn_035.jpeg', 'potato_000.jpeg', 'potato_001.jpeg', 'potato_002.jpeg', 'potato_003.jpeg', 'potato_005.jpeg', 'potato_004.jpeg', 'potato_006.jpeg', 'potato_007.jpeg', 'potato_008.jpeg', 'potato_009.jpeg', 'potato_010.jpeg', 'potato_011.jpeg', 'potato_012.jpeg', 'potato_013.jpeg', 'potato_015.jpeg', 'potato_014.jpeg', 'potato_017.jpeg', 'potato_016.jpeg', 'potato_018.jpeg', 'potato_019.jpeg', 'potato_020.jpeg', 'potato_021.jpeg', 'potato_022.jpeg', 'potato_023.jpeg', 'potato_024.jpeg', 'potato_025.jpeg', 'potato_026.jpeg', 'potato_027.jpeg', 'potato_028.jpeg', 'potato_030.jpeg', 'potato_029.jpeg', 'potato_031.jpeg', 'potato_032.jpeg', 'potato_035.jpeg', 'potato_034.jpeg', 'potato_033.jpeg', 'potato_036.jpeg', 'potato_037.jpeg', 'potato_038.jpeg', 'potato_039.jpeg', 'potato_040.jpeg', 'potato_041.jpeg', 'potato_042.jpeg', 'potato_044.jpeg', 'potato_046.jpeg', 'potato_045.jpeg', 'potato_047.jpeg', 'potato_048.jpeg', 'potato_049.jpeg', 'potato_050.jpeg', 'potato_051.jpeg', 'potato_052.jpeg', 'potato_054.jpeg', 'potato_053.jpeg', 'potato_055.jpeg', 'potato_056.jpeg', 'potato_057.jpeg', 'potato_058.jpeg', 'potato_060.jpeg', 'potato_059.jpeg', 'potato_061.jpeg', 'potato_062.jpeg', 'potato_063.jpeg', 'potato_064.jpeg', 'regular_000.jpeg', 'regular_002.jpeg', 'regular_001.jpeg', 'regular_004.jpeg', 'regular_003.jpeg', 'regular_005.jpeg', 'regular_006.jpeg', 'regular_008.jpeg', 'regular_007.jpeg', 'regular_009.jpeg', 'regular_010.jpeg', 'regular_011.jpeg', 'regular_012.jpeg', 'regular_013.jpeg', 'regular_014.jpeg', 'regular_015.jpeg', 'regular_016.jpeg', 'regular_017.jpeg', 'regular_018.jpeg', 'regular_019.jpeg', 'regular_021.jpeg', 'regular_020.jpeg', 'regular_023.jpeg', 'regular_022.jpeg', 'regular_025.jpeg', 'regular_024.jpeg', 'regular_027.jpeg', 'regular_026.jpeg', 'regular_029.jpeg', 'regular_028.jpeg', 'regular_030.jpeg', 'regular_031.jpeg', 'regular_034.jpeg', 'regular_032.jpeg', 'regular_033.jpeg', 'regular_036.jpeg', 'regular_035.jpeg', 'regular_037.jpeg', 'regular_038.jpeg', 'regular_039.jpeg', 'regular_040.jpeg', 'regular_041.jpeg', 'regular_042.jpeg', 'regular_044.jpeg', 'regular_043.jpeg', 'regular_045.jpeg', 'regular_046.jpeg', 'regular_047.jpeg', 'regular_048.jpeg', 'regular_049.jpeg', 'regular_050.jpeg', 'regular_051.jpeg', 'regular_052.jpeg', 'regular_053.jpeg', 'regular_055.jpeg', 'regular_054.jpeg', 'regular_056.jpeg', 'regular_057.jpeg', 'regular_058.jpeg', 'regular_059.jpeg', 'regular_060.jpeg', 'regular_061.jpeg', 'regular_062.jpeg', 'regular_063.jpeg', 'regular_064.jpeg', 'bridge_023.jpeg', 'bridge_024.jpeg', 'bridge_025.jpeg', 'bridge_026.jpeg', 'bridge_027.jpeg', 'bridge_028.jpeg', 'bridge_029.jpeg', 'horn_038.jpeg', 'horn_037.jpeg', 'horn_040.jpeg', 'horn_039.jpeg', 'horn_041.jpeg', 'horn_042.jpeg', 'horn_043.jpeg', 'horn_044.jpeg', 'horn_045.jpeg', 'horn_046.jpeg', 'horn_048.jpeg', 'horn_047.jpeg', 'horn_049.jpeg', 'horn_050.jpeg', 'horn_052.jpeg', 'horn_051.jpeg', 'horn_053.jpeg', 'horn_055.jpeg', 'horn_054.jpeg', 'potato_065.jpeg', 'horn_056.jpeg', 'potato_066.jpeg', 'potato_067.jpeg', 'potato_068.jpeg', 'potato_070.jpeg', 'potato_071.jpeg', 'potato_069.jpeg', 'potato_072.jpeg', 'potato_073.jpeg', 'potato_074.jpeg', 'potato_075.jpeg', 'potato_076.jpeg', 'potato_078.jpeg', 'potato_077.jpeg', 'potato_080.jpeg', 'potato_079.jpeg', 'potato_082.jpeg', 'potato_081.jpeg', 'potato_083.jpeg', 'potato_084.jpeg', 'potato_087.jpeg', 'potato_085.jpeg', 'potato_086.jpeg', 'potato_088.jpeg', 'potato_090.jpeg', 'potato_089.jpeg', 'potato_091.jpeg', 'potato_092.jpeg', 'potato_093.jpeg', 'potato_094.jpeg', 'potato_095.jpeg', 'potato_096.jpeg', 'potato_097.jpeg', 'potato_098.jpeg', 'potato_099.jpeg', 'potato_100.jpeg', 'potato_101.jpeg', 'regular_065.jpeg', 'potato_102.jpeg', 'regular_066.jpeg', 'regular_067.jpeg', 'regular_069.jpeg', 'regular_068.jpeg', 'regular_071.jpeg', 'regular_070.jpeg', 'regular_073.jpeg', 'regular_072.jpeg', 'regular_074.jpeg', 'regular_075.jpeg', 'regular_077.jpeg', 'regular_076.jpeg', 'regular_078.jpeg', 'regular_079.jpeg', 'regular_081.jpeg', 'regular_080.jpeg', 'regular_083.jpeg', 'regular_082.jpeg', 'regular_084.jpeg', 'regular_085.jpeg', 'regular_086.jpeg', 'regular_087.jpeg', 'regular_088.jpeg', 'regular_089.jpeg', 'regular_090.jpeg', 'regular_091.jpeg', 'regular_092.jpeg', 'regular_093.jpeg', 'regular_094.jpeg', 'regular_096.jpeg', 'regular_095.jpeg', 'regular_098.jpeg', 'regular_097.jpeg', 'regular_099.jpeg']\n"
          ],
          "name": "stdout"
        }
      ]
    },
    {
      "cell_type": "code",
      "metadata": {
        "id": "Qe33wYaOv5WM",
        "outputId": "7787c9b4-e465-4bb1-860e-36a120a9f90c",
        "colab": {
          "base_uri": "https://localhost:8080/"
        }
      },
      "source": [
        "print(file_list_test) #ファイル確認"
      ],
      "execution_count": 6,
      "outputs": [
        {
          "output_type": "stream",
          "text": [
            "['120.jpeg', '197.jpeg', '053.jpeg', '137.jpeg', '051.jpeg', '062.jpeg', '173.jpeg', '059.jpeg', '177.jpeg', '128.jpeg', '203.jpeg', '187.jpeg', '029.jpeg', '151.jpeg', '006.jpeg', '068.jpeg', '150.jpeg', '113.jpeg', '202.jpeg', '211.jpeg', '191.jpeg', '025.jpeg', '033.jpeg', '176.jpeg', '109.jpeg', '139.jpeg', '037.jpeg', '103.jpeg', '045.jpeg', '091.jpeg', '024.jpeg', '146.jpeg', '088.jpeg', '110.jpeg', '101.jpeg', '081.jpeg', '072.jpeg', '013.jpeg', '094.jpeg', '115.jpeg', '212.jpeg', '189.jpeg', '038.jpeg', '004.jpeg', '061.jpeg', '055.jpeg', '162.jpeg', '052.jpeg', '122.jpeg', '111.jpeg', '102.jpeg', '116.jpeg', '209.jpeg', '083.jpeg', '049.jpeg', '074.jpeg', '080.jpeg', '160.jpeg', '188.jpeg', '071.jpeg', '067.jpeg', '123.jpeg', '148.jpeg', '100.jpeg', '075.jpeg', '205.jpeg', '035.jpeg', '011.jpeg', '019.jpeg', '093.jpeg', '182.jpeg', '012.jpeg', '200.jpeg', '106.jpeg', '207.jpeg', '028.jpeg', '079.jpeg', '170.jpeg', '125.jpeg', '031.jpeg', '086.jpeg', '172.jpeg', '147.jpeg', '159.jpeg', '141.jpeg', '149.jpeg', '048.jpeg', '155.jpeg', '007.jpeg', '184.jpeg', '140.jpeg', '117.jpeg', '082.jpeg', '017.jpeg', '008.jpeg', '036.jpeg', '186.jpeg', '152.jpeg', '126.jpeg', '168.jpeg', '154.jpeg', '210.jpeg', '131.jpeg', '167.jpeg', '089.jpeg', '124.jpeg', '144.jpeg', '087.jpeg', '108.jpeg', '084.jpeg', '178.jpeg', '047.jpeg', '132.jpeg', '179.jpeg', '157.jpeg', '171.jpeg', '153.jpeg', '142.jpeg', '046.jpeg', '016.jpeg', '021.jpeg', '130.jpeg', '043.jpeg', '027.jpeg', '077.jpeg', '183.jpeg', '020.jpeg', '073.jpeg', '174.jpeg', '097.jpeg', '107.jpeg', '085.jpeg', '121.jpeg', '119.jpeg', '026.jpeg', '009.jpeg', '064.jpeg', '090.jpeg', '105.jpeg', '044.jpeg', '040.jpeg', '143.jpeg', '156.jpeg', '175.jpeg', '092.jpeg', '206.jpeg', '196.jpeg', '030.jpeg', '014.jpeg', '133.jpeg', '192.jpeg', '127.jpeg', '054.jpeg', '158.jpeg', '057.jpeg', '208.jpeg', '034.jpeg', '015.jpeg', '066.jpeg', '166.jpeg', '000.jpeg', '065.jpeg', '134.jpeg', '005.jpeg', '078.jpeg', '112.jpeg', '198.jpeg', '041.jpeg', '193.jpeg', '114.jpeg', '164.jpeg', '063.jpeg', '002.jpeg', '161.jpeg', '195.jpeg', '050.jpeg', '056.jpeg', '096.jpeg', '180.jpeg', '190.jpeg', '104.jpeg', '129.jpeg', '023.jpeg', '058.jpeg', '136.jpeg', '185.jpeg', '099.jpeg', '098.jpeg', '032.jpeg', '204.jpeg', '039.jpeg', '018.jpeg', '001.jpeg', '199.jpeg', '138.jpeg', '145.jpeg', '181.jpeg', '042.jpeg', '022.jpeg', '169.jpeg', '003.jpeg', '060.jpeg', '076.jpeg', '135.jpeg', '201.jpeg', '069.jpeg', '118.jpeg', '163.jpeg', '165.jpeg', '194.jpeg', '070.jpeg', '010.jpeg', '095.jpeg']\n"
          ],
          "name": "stdout"
        }
      ]
    },
    {
      "cell_type": "code",
      "metadata": {
        "id": "ESka8CTEMte9"
      },
      "source": [
        "image_size = 256\n",
        "X = []\n",
        "Y = []\n",
        "for file in file_list:\n",
        "    try:\n",
        "        image = Image.open(folder_path + file)\n",
        "    except:\n",
        "        print('error', file)\n",
        "        continue\n",
        "    \n",
        "    image = image.convert(\"RGB\")\n",
        "    image = image.resize((image_size, image_size))\n",
        "    data = np.asarray(image)\n",
        "    X.append(data)\n",
        "    if 'bridge' in file:\n",
        "        Y.append(1) #不良品\n",
        "    elif 'horn' in file:\n",
        "        Y.append(1) #不良品\n",
        "    elif 'potato' in file:\n",
        "        Y.append(1) #不良品\n",
        "    else:\n",
        "        Y.append(0) #良品\n",
        "\n",
        "X_train = np.array(X) #画像データ\n",
        "y_train = np.array(Y) #ラベルデータ"
      ],
      "execution_count": 7,
      "outputs": []
    },
    {
      "cell_type": "code",
      "metadata": {
        "id": "nNBZe2IQOdZr",
        "outputId": "2ebd14c6-c3fd-4b97-f73b-4fd03f81c6a3",
        "colab": {
          "base_uri": "https://localhost:8080/"
        }
      },
      "source": [
        "print(X_train.shape)\n",
        "print(y_train.shape)"
      ],
      "execution_count": 8,
      "outputs": [
        {
          "output_type": "stream",
          "text": [
            "(289, 256, 256, 3)\n",
            "(289,)\n"
          ],
          "name": "stdout"
        }
      ]
    },
    {
      "cell_type": "code",
      "metadata": {
        "id": "rMN_OcfkNSMp",
        "outputId": "be2f32ae-3976-4857-f9a4-cd1e4ce2ae68",
        "colab": {
          "base_uri": "https://localhost:8080/"
        }
      },
      "source": [
        "y_train"
      ],
      "execution_count": 9,
      "outputs": [
        {
          "output_type": "execute_result",
          "data": {
            "text/plain": [
              "array([1, 1, 1, 1, 1, 1, 1, 1, 1, 1, 1, 1, 1, 1, 1, 1, 1, 1, 1, 1, 1, 1,\n",
              "       1, 1, 1, 1, 1, 1, 1, 1, 1, 1, 1, 1, 1, 1, 1, 1, 1, 1, 1, 1, 1, 1,\n",
              "       1, 1, 1, 1, 1, 1, 1, 1, 1, 1, 1, 1, 1, 1, 1, 1, 1, 1, 1, 1, 1, 1,\n",
              "       1, 1, 1, 1, 1, 1, 1, 1, 1, 1, 1, 1, 1, 1, 1, 1, 1, 1, 1, 1, 1, 1,\n",
              "       1, 1, 1, 1, 1, 1, 1, 1, 1, 1, 1, 1, 1, 1, 1, 1, 1, 1, 1, 1, 1, 1,\n",
              "       1, 1, 1, 1, 1, 1, 1, 1, 1, 1, 1, 1, 1, 1, 0, 0, 0, 0, 0, 0, 0, 0,\n",
              "       0, 0, 0, 0, 0, 0, 0, 0, 0, 0, 0, 0, 0, 0, 0, 0, 0, 0, 0, 0, 0, 0,\n",
              "       0, 0, 0, 0, 0, 0, 0, 0, 0, 0, 0, 0, 0, 0, 0, 0, 0, 0, 0, 0, 0, 0,\n",
              "       0, 0, 0, 0, 0, 0, 0, 0, 0, 0, 0, 0, 0, 1, 1, 1, 1, 1, 1, 1, 1, 1,\n",
              "       1, 1, 1, 1, 1, 1, 1, 1, 1, 1, 1, 1, 1, 1, 1, 1, 1, 1, 1, 1, 1, 1,\n",
              "       1, 1, 1, 1, 1, 1, 1, 1, 1, 1, 1, 1, 1, 1, 1, 1, 1, 1, 1, 1, 1, 1,\n",
              "       1, 1, 1, 1, 1, 1, 1, 1, 1, 1, 1, 0, 1, 0, 0, 0, 0, 0, 0, 0, 0, 0,\n",
              "       0, 0, 0, 0, 0, 0, 0, 0, 0, 0, 0, 0, 0, 0, 0, 0, 0, 0, 0, 0, 0, 0,\n",
              "       0, 0, 0])"
            ]
          },
          "metadata": {
            "tags": []
          },
          "execution_count": 9
        }
      ]
    },
    {
      "cell_type": "code",
      "metadata": {
        "id": "Fps9ukS4zJ3M"
      },
      "source": [
        "image_size = 256\n",
        "X_test = []\n",
        "Y_test = []\n",
        "for file in file_list_test:\n",
        "    try:\n",
        "        image = Image.open(folder_path_test + file)\n",
        "    except:\n",
        "        print('error', file)\n",
        "        continue\n",
        "    \n",
        "    image = image.convert(\"RGB\")\n",
        "    image = image.resize((image_size, image_size))\n",
        "    data = np.asarray(image)\n",
        "    X_test.append(data)\n",
        "    if 'bridge' in file:\n",
        "        Y_test.append(1) #不良品\n",
        "    elif 'horn' in file:\n",
        "        Y_test.append(1) #不良品\n",
        "    elif 'potato' in file:\n",
        "        Y_test.append(1) #不良品\n",
        "    else:\n",
        "         Y_test.append(file) #ファイル名\n",
        "   \n",
        "X_test = np.array(X_test) #画像データ\n",
        "y_test = np.zeros([213,2]) #結果用配列\n",
        "y_test_label = np.array(Y_test) #ラベルデータ"
      ],
      "execution_count": 11,
      "outputs": []
    },
    {
      "cell_type": "code",
      "metadata": {
        "id": "6GFnmTC-1YE-",
        "outputId": "16dfc986-f3a4-4765-e875-73c69ed8d34d",
        "colab": {
          "base_uri": "https://localhost:8080/"
        }
      },
      "source": [
        "print(X_test.shape)\n",
        "print(y_test.shape)\n",
        "print(y_test_label.shape)"
      ],
      "execution_count": 12,
      "outputs": [
        {
          "output_type": "stream",
          "text": [
            "(213, 256, 256, 3)\n",
            "(213, 2)\n",
            "(213,)\n"
          ],
          "name": "stdout"
        }
      ]
    },
    {
      "cell_type": "code",
      "metadata": {
        "id": "extZN8oGMMMl",
        "outputId": "4675b3ec-a8b2-4137-db93-0890573679d8",
        "colab": {
          "base_uri": "https://localhost:8080/"
        }
      },
      "source": [
        "y_test_label"
      ],
      "execution_count": 13,
      "outputs": [
        {
          "output_type": "execute_result",
          "data": {
            "text/plain": [
              "array(['120.jpeg', '197.jpeg', '053.jpeg', '137.jpeg', '051.jpeg',\n",
              "       '062.jpeg', '173.jpeg', '059.jpeg', '177.jpeg', '128.jpeg',\n",
              "       '203.jpeg', '187.jpeg', '029.jpeg', '151.jpeg', '006.jpeg',\n",
              "       '068.jpeg', '150.jpeg', '113.jpeg', '202.jpeg', '211.jpeg',\n",
              "       '191.jpeg', '025.jpeg', '033.jpeg', '176.jpeg', '109.jpeg',\n",
              "       '139.jpeg', '037.jpeg', '103.jpeg', '045.jpeg', '091.jpeg',\n",
              "       '024.jpeg', '146.jpeg', '088.jpeg', '110.jpeg', '101.jpeg',\n",
              "       '081.jpeg', '072.jpeg', '013.jpeg', '094.jpeg', '115.jpeg',\n",
              "       '212.jpeg', '189.jpeg', '038.jpeg', '004.jpeg', '061.jpeg',\n",
              "       '055.jpeg', '162.jpeg', '052.jpeg', '122.jpeg', '111.jpeg',\n",
              "       '102.jpeg', '116.jpeg', '209.jpeg', '083.jpeg', '049.jpeg',\n",
              "       '074.jpeg', '080.jpeg', '160.jpeg', '188.jpeg', '071.jpeg',\n",
              "       '067.jpeg', '123.jpeg', '148.jpeg', '100.jpeg', '075.jpeg',\n",
              "       '205.jpeg', '035.jpeg', '011.jpeg', '019.jpeg', '093.jpeg',\n",
              "       '182.jpeg', '012.jpeg', '200.jpeg', '106.jpeg', '207.jpeg',\n",
              "       '028.jpeg', '079.jpeg', '170.jpeg', '125.jpeg', '031.jpeg',\n",
              "       '086.jpeg', '172.jpeg', '147.jpeg', '159.jpeg', '141.jpeg',\n",
              "       '149.jpeg', '048.jpeg', '155.jpeg', '007.jpeg', '184.jpeg',\n",
              "       '140.jpeg', '117.jpeg', '082.jpeg', '017.jpeg', '008.jpeg',\n",
              "       '036.jpeg', '186.jpeg', '152.jpeg', '126.jpeg', '168.jpeg',\n",
              "       '154.jpeg', '210.jpeg', '131.jpeg', '167.jpeg', '089.jpeg',\n",
              "       '124.jpeg', '144.jpeg', '087.jpeg', '108.jpeg', '084.jpeg',\n",
              "       '178.jpeg', '047.jpeg', '132.jpeg', '179.jpeg', '157.jpeg',\n",
              "       '171.jpeg', '153.jpeg', '142.jpeg', '046.jpeg', '016.jpeg',\n",
              "       '021.jpeg', '130.jpeg', '043.jpeg', '027.jpeg', '077.jpeg',\n",
              "       '183.jpeg', '020.jpeg', '073.jpeg', '174.jpeg', '097.jpeg',\n",
              "       '107.jpeg', '085.jpeg', '121.jpeg', '119.jpeg', '026.jpeg',\n",
              "       '009.jpeg', '064.jpeg', '090.jpeg', '105.jpeg', '044.jpeg',\n",
              "       '040.jpeg', '143.jpeg', '156.jpeg', '175.jpeg', '092.jpeg',\n",
              "       '206.jpeg', '196.jpeg', '030.jpeg', '014.jpeg', '133.jpeg',\n",
              "       '192.jpeg', '127.jpeg', '054.jpeg', '158.jpeg', '057.jpeg',\n",
              "       '208.jpeg', '034.jpeg', '015.jpeg', '066.jpeg', '166.jpeg',\n",
              "       '000.jpeg', '065.jpeg', '134.jpeg', '005.jpeg', '078.jpeg',\n",
              "       '112.jpeg', '198.jpeg', '041.jpeg', '193.jpeg', '114.jpeg',\n",
              "       '164.jpeg', '063.jpeg', '002.jpeg', '161.jpeg', '195.jpeg',\n",
              "       '050.jpeg', '056.jpeg', '096.jpeg', '180.jpeg', '190.jpeg',\n",
              "       '104.jpeg', '129.jpeg', '023.jpeg', '058.jpeg', '136.jpeg',\n",
              "       '185.jpeg', '099.jpeg', '098.jpeg', '032.jpeg', '204.jpeg',\n",
              "       '039.jpeg', '018.jpeg', '001.jpeg', '199.jpeg', '138.jpeg',\n",
              "       '145.jpeg', '181.jpeg', '042.jpeg', '022.jpeg', '169.jpeg',\n",
              "       '003.jpeg', '060.jpeg', '076.jpeg', '135.jpeg', '201.jpeg',\n",
              "       '069.jpeg', '118.jpeg', '163.jpeg', '165.jpeg', '194.jpeg',\n",
              "       '070.jpeg', '010.jpeg', '095.jpeg'], dtype='<U8')"
            ]
          },
          "metadata": {
            "tags": []
          },
          "execution_count": 13
        }
      ]
    },
    {
      "cell_type": "markdown",
      "metadata": {
        "id": "yVqoadmQl8_q"
      },
      "source": [
        "データ整形"
      ]
    },
    {
      "cell_type": "code",
      "metadata": {
        "id": "OdT2ZXX5mFP2"
      },
      "source": [
        "####X_train, X_test, y_train, y_test = train_test_split(X, Y, test_size=0.25)"
      ],
      "execution_count": null,
      "outputs": []
    },
    {
      "cell_type": "code",
      "metadata": {
        "id": "0Jq6z6DCnvec"
      },
      "source": [
        "# 画像をreshape\n",
        "X_train = X_train.reshape(-1, image_size, image_size, 3)\n",
        "X_test = X_test.reshape(-1, image_size, image_size, 3)"
      ],
      "execution_count": 29,
      "outputs": []
    },
    {
      "cell_type": "code",
      "metadata": {
        "id": "kt5U7kR-n0Uw"
      },
      "source": [
        "\n",
        "# 輝度値を0 ~ 1に入るように正規化\n",
        "X_train = X_train.astype('float32')/255\n",
        "X_test = X_test.astype('float32')/255"
      ],
      "execution_count": 30,
      "outputs": []
    },
    {
      "cell_type": "code",
      "metadata": {
        "id": "1mOBMKEgn1TY"
      },
      "source": [
        "# one hot encoding\n",
        "y_train = to_categorical(y_train) #2次元に\n",
        "#y_test = to_categorical(y_test)"
      ],
      "execution_count": 31,
      "outputs": []
    },
    {
      "cell_type": "markdown",
      "metadata": {
        "id": "b9AZI8l3n9gE"
      },
      "source": [
        "モデル作成"
      ]
    },
    {
      "cell_type": "code",
      "metadata": {
        "id": "6L2EG_w9n5Lu",
        "outputId": "b87bf274-9cfb-4be8-f9cd-f75e1468cf12",
        "colab": {
          "base_uri": "https://localhost:8080/"
        }
      },
      "source": [
        "model_cnn = Sequential()\n",
        "model_cnn.add(Conv2D(32, (3,3), activation='relu', input_shape=(image_size, image_size, 3)))\n",
        "model_cnn.add(MaxPool2D(2,2))\n",
        "model_cnn.add(Conv2D(64, (3,3), activation='relu'))\n",
        "model_cnn.add(MaxPool2D(2,2))\n",
        "model_cnn.add(Conv2D(128, (3,3), activation='relu'))\n",
        "model_cnn.add(MaxPool2D(2,2))\n",
        "model_cnn.add(Flatten())\n",
        "model_cnn.add(Dense(512, activation='relu'))       \n",
        "model_cnn.add(Dense(2, activation='softmax'))\n",
        "\n",
        "model_cnn.summary()"
      ],
      "execution_count": 32,
      "outputs": [
        {
          "output_type": "stream",
          "text": [
            "Model: \"sequential_2\"\n",
            "_________________________________________________________________\n",
            "Layer (type)                 Output Shape              Param #   \n",
            "=================================================================\n",
            "conv2d_6 (Conv2D)            (None, 254, 254, 32)      896       \n",
            "_________________________________________________________________\n",
            "max_pooling2d_6 (MaxPooling2 (None, 127, 127, 32)      0         \n",
            "_________________________________________________________________\n",
            "conv2d_7 (Conv2D)            (None, 125, 125, 64)      18496     \n",
            "_________________________________________________________________\n",
            "max_pooling2d_7 (MaxPooling2 (None, 62, 62, 64)        0         \n",
            "_________________________________________________________________\n",
            "conv2d_8 (Conv2D)            (None, 60, 60, 128)       73856     \n",
            "_________________________________________________________________\n",
            "max_pooling2d_8 (MaxPooling2 (None, 30, 30, 128)       0         \n",
            "_________________________________________________________________\n",
            "flatten_2 (Flatten)          (None, 115200)            0         \n",
            "_________________________________________________________________\n",
            "dense_4 (Dense)              (None, 512)               58982912  \n",
            "_________________________________________________________________\n",
            "dense_5 (Dense)              (None, 2)                 1026      \n",
            "=================================================================\n",
            "Total params: 59,077,186\n",
            "Trainable params: 59,077,186\n",
            "Non-trainable params: 0\n",
            "_________________________________________________________________\n"
          ],
          "name": "stdout"
        }
      ]
    },
    {
      "cell_type": "code",
      "metadata": {
        "id": "Gfdj2WvvoSva",
        "outputId": "d3f7d4de-074f-4410-8f06-077473954036",
        "colab": {
          "base_uri": "https://localhost:8080/",
          "height": 987
        }
      },
      "source": [
        "#学習プロセスの作成\n",
        "model_cnn.compile(optimizer='Adam', loss='categorical_crossentropy', metrics=['accuracy'])\n",
        "#学習\n",
        "model_cnn.fit(X_train, y_train, epochs=10, batch_size=20)\n",
        "\n",
        "#import tensorflow as tf\n",
        "\n",
        "#train_data = tf.data.Dataset.from_tensor_slices((X_train, y_train))\n",
        "#valid_data = tf.data.Dataset.from_tensor_slices((X_test, y_test))\n",
        "\n",
        "#model_cnn.fit(train_data, epochs=10, validation_data=valid_data)\n",
        "\n",
        "model_cnn.evaluate(X_test, y_test)"
      ],
      "execution_count": 34,
      "outputs": [
        {
          "output_type": "stream",
          "text": [
            "Epoch 1/10\n"
          ],
          "name": "stdout"
        },
        {
          "output_type": "error",
          "ename": "ValueError",
          "evalue": "ignored",
          "traceback": [
            "\u001b[0;31m---------------------------------------------------------------------------\u001b[0m",
            "\u001b[0;31mValueError\u001b[0m                                Traceback (most recent call last)",
            "\u001b[0;32m<ipython-input-34-ebe3c24e03eb>\u001b[0m in \u001b[0;36m<module>\u001b[0;34m()\u001b[0m\n\u001b[1;32m      2\u001b[0m \u001b[0mmodel_cnn\u001b[0m\u001b[0;34m.\u001b[0m\u001b[0mcompile\u001b[0m\u001b[0;34m(\u001b[0m\u001b[0moptimizer\u001b[0m\u001b[0;34m=\u001b[0m\u001b[0;34m'Adam'\u001b[0m\u001b[0;34m,\u001b[0m \u001b[0mloss\u001b[0m\u001b[0;34m=\u001b[0m\u001b[0;34m'categorical_crossentropy'\u001b[0m\u001b[0;34m,\u001b[0m \u001b[0mmetrics\u001b[0m\u001b[0;34m=\u001b[0m\u001b[0;34m[\u001b[0m\u001b[0;34m'accuracy'\u001b[0m\u001b[0;34m]\u001b[0m\u001b[0;34m)\u001b[0m\u001b[0;34m\u001b[0m\u001b[0;34m\u001b[0m\u001b[0m\n\u001b[1;32m      3\u001b[0m \u001b[0;31m#学習\u001b[0m\u001b[0;34m\u001b[0m\u001b[0;34m\u001b[0m\u001b[0;34m\u001b[0m\u001b[0m\n\u001b[0;32m----> 4\u001b[0;31m \u001b[0mmodel_cnn\u001b[0m\u001b[0;34m.\u001b[0m\u001b[0mfit\u001b[0m\u001b[0;34m(\u001b[0m\u001b[0mX_train\u001b[0m\u001b[0;34m,\u001b[0m \u001b[0my_train\u001b[0m\u001b[0;34m,\u001b[0m \u001b[0mepochs\u001b[0m\u001b[0;34m=\u001b[0m\u001b[0;36m10\u001b[0m\u001b[0;34m,\u001b[0m \u001b[0mbatch_size\u001b[0m\u001b[0;34m=\u001b[0m\u001b[0;36m20\u001b[0m\u001b[0;34m)\u001b[0m\u001b[0;34m\u001b[0m\u001b[0;34m\u001b[0m\u001b[0m\n\u001b[0m\u001b[1;32m      5\u001b[0m \u001b[0;34m\u001b[0m\u001b[0m\n\u001b[1;32m      6\u001b[0m \u001b[0;31m#import tensorflow as tf\u001b[0m\u001b[0;34m\u001b[0m\u001b[0;34m\u001b[0m\u001b[0;34m\u001b[0m\u001b[0m\n",
            "\u001b[0;32m/usr/local/lib/python3.6/dist-packages/tensorflow/python/keras/engine/training.py\u001b[0m in \u001b[0;36m_method_wrapper\u001b[0;34m(self, *args, **kwargs)\u001b[0m\n\u001b[1;32m    106\u001b[0m   \u001b[0;32mdef\u001b[0m \u001b[0m_method_wrapper\u001b[0m\u001b[0;34m(\u001b[0m\u001b[0mself\u001b[0m\u001b[0;34m,\u001b[0m \u001b[0;34m*\u001b[0m\u001b[0margs\u001b[0m\u001b[0;34m,\u001b[0m \u001b[0;34m**\u001b[0m\u001b[0mkwargs\u001b[0m\u001b[0;34m)\u001b[0m\u001b[0;34m:\u001b[0m\u001b[0;34m\u001b[0m\u001b[0;34m\u001b[0m\u001b[0m\n\u001b[1;32m    107\u001b[0m     \u001b[0;32mif\u001b[0m \u001b[0;32mnot\u001b[0m \u001b[0mself\u001b[0m\u001b[0;34m.\u001b[0m\u001b[0m_in_multi_worker_mode\u001b[0m\u001b[0;34m(\u001b[0m\u001b[0;34m)\u001b[0m\u001b[0;34m:\u001b[0m  \u001b[0;31m# pylint: disable=protected-access\u001b[0m\u001b[0;34m\u001b[0m\u001b[0;34m\u001b[0m\u001b[0m\n\u001b[0;32m--> 108\u001b[0;31m       \u001b[0;32mreturn\u001b[0m \u001b[0mmethod\u001b[0m\u001b[0;34m(\u001b[0m\u001b[0mself\u001b[0m\u001b[0;34m,\u001b[0m \u001b[0;34m*\u001b[0m\u001b[0margs\u001b[0m\u001b[0;34m,\u001b[0m \u001b[0;34m**\u001b[0m\u001b[0mkwargs\u001b[0m\u001b[0;34m)\u001b[0m\u001b[0;34m\u001b[0m\u001b[0;34m\u001b[0m\u001b[0m\n\u001b[0m\u001b[1;32m    109\u001b[0m \u001b[0;34m\u001b[0m\u001b[0m\n\u001b[1;32m    110\u001b[0m     \u001b[0;31m# Running inside `run_distribute_coordinator` already.\u001b[0m\u001b[0;34m\u001b[0m\u001b[0;34m\u001b[0m\u001b[0;34m\u001b[0m\u001b[0m\n",
            "\u001b[0;32m/usr/local/lib/python3.6/dist-packages/tensorflow/python/keras/engine/training.py\u001b[0m in \u001b[0;36mfit\u001b[0;34m(self, x, y, batch_size, epochs, verbose, callbacks, validation_split, validation_data, shuffle, class_weight, sample_weight, initial_epoch, steps_per_epoch, validation_steps, validation_batch_size, validation_freq, max_queue_size, workers, use_multiprocessing)\u001b[0m\n\u001b[1;32m   1096\u001b[0m                 batch_size=batch_size):\n\u001b[1;32m   1097\u001b[0m               \u001b[0mcallbacks\u001b[0m\u001b[0;34m.\u001b[0m\u001b[0mon_train_batch_begin\u001b[0m\u001b[0;34m(\u001b[0m\u001b[0mstep\u001b[0m\u001b[0;34m)\u001b[0m\u001b[0;34m\u001b[0m\u001b[0;34m\u001b[0m\u001b[0m\n\u001b[0;32m-> 1098\u001b[0;31m               \u001b[0mtmp_logs\u001b[0m \u001b[0;34m=\u001b[0m \u001b[0mtrain_function\u001b[0m\u001b[0;34m(\u001b[0m\u001b[0miterator\u001b[0m\u001b[0;34m)\u001b[0m\u001b[0;34m\u001b[0m\u001b[0;34m\u001b[0m\u001b[0m\n\u001b[0m\u001b[1;32m   1099\u001b[0m               \u001b[0;32mif\u001b[0m \u001b[0mdata_handler\u001b[0m\u001b[0;34m.\u001b[0m\u001b[0mshould_sync\u001b[0m\u001b[0;34m:\u001b[0m\u001b[0;34m\u001b[0m\u001b[0;34m\u001b[0m\u001b[0m\n\u001b[1;32m   1100\u001b[0m                 \u001b[0mcontext\u001b[0m\u001b[0;34m.\u001b[0m\u001b[0masync_wait\u001b[0m\u001b[0;34m(\u001b[0m\u001b[0;34m)\u001b[0m\u001b[0;34m\u001b[0m\u001b[0;34m\u001b[0m\u001b[0m\n",
            "\u001b[0;32m/usr/local/lib/python3.6/dist-packages/tensorflow/python/eager/def_function.py\u001b[0m in \u001b[0;36m__call__\u001b[0;34m(self, *args, **kwds)\u001b[0m\n\u001b[1;32m    778\u001b[0m       \u001b[0;32melse\u001b[0m\u001b[0;34m:\u001b[0m\u001b[0;34m\u001b[0m\u001b[0;34m\u001b[0m\u001b[0m\n\u001b[1;32m    779\u001b[0m         \u001b[0mcompiler\u001b[0m \u001b[0;34m=\u001b[0m \u001b[0;34m\"nonXla\"\u001b[0m\u001b[0;34m\u001b[0m\u001b[0;34m\u001b[0m\u001b[0m\n\u001b[0;32m--> 780\u001b[0;31m         \u001b[0mresult\u001b[0m \u001b[0;34m=\u001b[0m \u001b[0mself\u001b[0m\u001b[0;34m.\u001b[0m\u001b[0m_call\u001b[0m\u001b[0;34m(\u001b[0m\u001b[0;34m*\u001b[0m\u001b[0margs\u001b[0m\u001b[0;34m,\u001b[0m \u001b[0;34m**\u001b[0m\u001b[0mkwds\u001b[0m\u001b[0;34m)\u001b[0m\u001b[0;34m\u001b[0m\u001b[0;34m\u001b[0m\u001b[0m\n\u001b[0m\u001b[1;32m    781\u001b[0m \u001b[0;34m\u001b[0m\u001b[0m\n\u001b[1;32m    782\u001b[0m       \u001b[0mnew_tracing_count\u001b[0m \u001b[0;34m=\u001b[0m \u001b[0mself\u001b[0m\u001b[0;34m.\u001b[0m\u001b[0m_get_tracing_count\u001b[0m\u001b[0;34m(\u001b[0m\u001b[0;34m)\u001b[0m\u001b[0;34m\u001b[0m\u001b[0;34m\u001b[0m\u001b[0m\n",
            "\u001b[0;32m/usr/local/lib/python3.6/dist-packages/tensorflow/python/eager/def_function.py\u001b[0m in \u001b[0;36m_call\u001b[0;34m(self, *args, **kwds)\u001b[0m\n\u001b[1;32m    821\u001b[0m       \u001b[0;31m# This is the first call of __call__, so we have to initialize.\u001b[0m\u001b[0;34m\u001b[0m\u001b[0;34m\u001b[0m\u001b[0;34m\u001b[0m\u001b[0m\n\u001b[1;32m    822\u001b[0m       \u001b[0minitializers\u001b[0m \u001b[0;34m=\u001b[0m \u001b[0;34m[\u001b[0m\u001b[0;34m]\u001b[0m\u001b[0;34m\u001b[0m\u001b[0;34m\u001b[0m\u001b[0m\n\u001b[0;32m--> 823\u001b[0;31m       \u001b[0mself\u001b[0m\u001b[0;34m.\u001b[0m\u001b[0m_initialize\u001b[0m\u001b[0;34m(\u001b[0m\u001b[0margs\u001b[0m\u001b[0;34m,\u001b[0m \u001b[0mkwds\u001b[0m\u001b[0;34m,\u001b[0m \u001b[0madd_initializers_to\u001b[0m\u001b[0;34m=\u001b[0m\u001b[0minitializers\u001b[0m\u001b[0;34m)\u001b[0m\u001b[0;34m\u001b[0m\u001b[0;34m\u001b[0m\u001b[0m\n\u001b[0m\u001b[1;32m    824\u001b[0m     \u001b[0;32mfinally\u001b[0m\u001b[0;34m:\u001b[0m\u001b[0;34m\u001b[0m\u001b[0;34m\u001b[0m\u001b[0m\n\u001b[1;32m    825\u001b[0m       \u001b[0;31m# At this point we know that the initialization is complete (or less\u001b[0m\u001b[0;34m\u001b[0m\u001b[0;34m\u001b[0m\u001b[0;34m\u001b[0m\u001b[0m\n",
            "\u001b[0;32m/usr/local/lib/python3.6/dist-packages/tensorflow/python/eager/def_function.py\u001b[0m in \u001b[0;36m_initialize\u001b[0;34m(self, args, kwds, add_initializers_to)\u001b[0m\n\u001b[1;32m    695\u001b[0m     self._concrete_stateful_fn = (\n\u001b[1;32m    696\u001b[0m         self._stateful_fn._get_concrete_function_internal_garbage_collected(  # pylint: disable=protected-access\n\u001b[0;32m--> 697\u001b[0;31m             *args, **kwds))\n\u001b[0m\u001b[1;32m    698\u001b[0m \u001b[0;34m\u001b[0m\u001b[0m\n\u001b[1;32m    699\u001b[0m     \u001b[0;32mdef\u001b[0m \u001b[0minvalid_creator_scope\u001b[0m\u001b[0;34m(\u001b[0m\u001b[0;34m*\u001b[0m\u001b[0munused_args\u001b[0m\u001b[0;34m,\u001b[0m \u001b[0;34m**\u001b[0m\u001b[0munused_kwds\u001b[0m\u001b[0;34m)\u001b[0m\u001b[0;34m:\u001b[0m\u001b[0;34m\u001b[0m\u001b[0;34m\u001b[0m\u001b[0m\n",
            "\u001b[0;32m/usr/local/lib/python3.6/dist-packages/tensorflow/python/eager/function.py\u001b[0m in \u001b[0;36m_get_concrete_function_internal_garbage_collected\u001b[0;34m(self, *args, **kwargs)\u001b[0m\n\u001b[1;32m   2853\u001b[0m       \u001b[0margs\u001b[0m\u001b[0;34m,\u001b[0m \u001b[0mkwargs\u001b[0m \u001b[0;34m=\u001b[0m \u001b[0;32mNone\u001b[0m\u001b[0;34m,\u001b[0m \u001b[0;32mNone\u001b[0m\u001b[0;34m\u001b[0m\u001b[0;34m\u001b[0m\u001b[0m\n\u001b[1;32m   2854\u001b[0m     \u001b[0;32mwith\u001b[0m \u001b[0mself\u001b[0m\u001b[0;34m.\u001b[0m\u001b[0m_lock\u001b[0m\u001b[0;34m:\u001b[0m\u001b[0;34m\u001b[0m\u001b[0;34m\u001b[0m\u001b[0m\n\u001b[0;32m-> 2855\u001b[0;31m       \u001b[0mgraph_function\u001b[0m\u001b[0;34m,\u001b[0m \u001b[0m_\u001b[0m\u001b[0;34m,\u001b[0m \u001b[0m_\u001b[0m \u001b[0;34m=\u001b[0m \u001b[0mself\u001b[0m\u001b[0;34m.\u001b[0m\u001b[0m_maybe_define_function\u001b[0m\u001b[0;34m(\u001b[0m\u001b[0margs\u001b[0m\u001b[0;34m,\u001b[0m \u001b[0mkwargs\u001b[0m\u001b[0;34m)\u001b[0m\u001b[0;34m\u001b[0m\u001b[0;34m\u001b[0m\u001b[0m\n\u001b[0m\u001b[1;32m   2856\u001b[0m     \u001b[0;32mreturn\u001b[0m \u001b[0mgraph_function\u001b[0m\u001b[0;34m\u001b[0m\u001b[0;34m\u001b[0m\u001b[0m\n\u001b[1;32m   2857\u001b[0m \u001b[0;34m\u001b[0m\u001b[0m\n",
            "\u001b[0;32m/usr/local/lib/python3.6/dist-packages/tensorflow/python/eager/function.py\u001b[0m in \u001b[0;36m_maybe_define_function\u001b[0;34m(self, args, kwargs)\u001b[0m\n\u001b[1;32m   3211\u001b[0m \u001b[0;34m\u001b[0m\u001b[0m\n\u001b[1;32m   3212\u001b[0m       \u001b[0mself\u001b[0m\u001b[0;34m.\u001b[0m\u001b[0m_function_cache\u001b[0m\u001b[0;34m.\u001b[0m\u001b[0mmissed\u001b[0m\u001b[0;34m.\u001b[0m\u001b[0madd\u001b[0m\u001b[0;34m(\u001b[0m\u001b[0mcall_context_key\u001b[0m\u001b[0;34m)\u001b[0m\u001b[0;34m\u001b[0m\u001b[0;34m\u001b[0m\u001b[0m\n\u001b[0;32m-> 3213\u001b[0;31m       \u001b[0mgraph_function\u001b[0m \u001b[0;34m=\u001b[0m \u001b[0mself\u001b[0m\u001b[0;34m.\u001b[0m\u001b[0m_create_graph_function\u001b[0m\u001b[0;34m(\u001b[0m\u001b[0margs\u001b[0m\u001b[0;34m,\u001b[0m \u001b[0mkwargs\u001b[0m\u001b[0;34m)\u001b[0m\u001b[0;34m\u001b[0m\u001b[0;34m\u001b[0m\u001b[0m\n\u001b[0m\u001b[1;32m   3214\u001b[0m       \u001b[0mself\u001b[0m\u001b[0;34m.\u001b[0m\u001b[0m_function_cache\u001b[0m\u001b[0;34m.\u001b[0m\u001b[0mprimary\u001b[0m\u001b[0;34m[\u001b[0m\u001b[0mcache_key\u001b[0m\u001b[0;34m]\u001b[0m \u001b[0;34m=\u001b[0m \u001b[0mgraph_function\u001b[0m\u001b[0;34m\u001b[0m\u001b[0;34m\u001b[0m\u001b[0m\n\u001b[1;32m   3215\u001b[0m       \u001b[0;32mreturn\u001b[0m \u001b[0mgraph_function\u001b[0m\u001b[0;34m,\u001b[0m \u001b[0margs\u001b[0m\u001b[0;34m,\u001b[0m \u001b[0mkwargs\u001b[0m\u001b[0;34m\u001b[0m\u001b[0;34m\u001b[0m\u001b[0m\n",
            "\u001b[0;32m/usr/local/lib/python3.6/dist-packages/tensorflow/python/eager/function.py\u001b[0m in \u001b[0;36m_create_graph_function\u001b[0;34m(self, args, kwargs, override_flat_arg_shapes)\u001b[0m\n\u001b[1;32m   3073\u001b[0m             \u001b[0marg_names\u001b[0m\u001b[0;34m=\u001b[0m\u001b[0marg_names\u001b[0m\u001b[0;34m,\u001b[0m\u001b[0;34m\u001b[0m\u001b[0;34m\u001b[0m\u001b[0m\n\u001b[1;32m   3074\u001b[0m             \u001b[0moverride_flat_arg_shapes\u001b[0m\u001b[0;34m=\u001b[0m\u001b[0moverride_flat_arg_shapes\u001b[0m\u001b[0;34m,\u001b[0m\u001b[0;34m\u001b[0m\u001b[0;34m\u001b[0m\u001b[0m\n\u001b[0;32m-> 3075\u001b[0;31m             capture_by_value=self._capture_by_value),\n\u001b[0m\u001b[1;32m   3076\u001b[0m         \u001b[0mself\u001b[0m\u001b[0;34m.\u001b[0m\u001b[0m_function_attributes\u001b[0m\u001b[0;34m,\u001b[0m\u001b[0;34m\u001b[0m\u001b[0;34m\u001b[0m\u001b[0m\n\u001b[1;32m   3077\u001b[0m         \u001b[0mfunction_spec\u001b[0m\u001b[0;34m=\u001b[0m\u001b[0mself\u001b[0m\u001b[0;34m.\u001b[0m\u001b[0mfunction_spec\u001b[0m\u001b[0;34m,\u001b[0m\u001b[0;34m\u001b[0m\u001b[0;34m\u001b[0m\u001b[0m\n",
            "\u001b[0;32m/usr/local/lib/python3.6/dist-packages/tensorflow/python/framework/func_graph.py\u001b[0m in \u001b[0;36mfunc_graph_from_py_func\u001b[0;34m(name, python_func, args, kwargs, signature, func_graph, autograph, autograph_options, add_control_dependencies, arg_names, op_return_value, collections, capture_by_value, override_flat_arg_shapes)\u001b[0m\n\u001b[1;32m    984\u001b[0m         \u001b[0m_\u001b[0m\u001b[0;34m,\u001b[0m \u001b[0moriginal_func\u001b[0m \u001b[0;34m=\u001b[0m \u001b[0mtf_decorator\u001b[0m\u001b[0;34m.\u001b[0m\u001b[0munwrap\u001b[0m\u001b[0;34m(\u001b[0m\u001b[0mpython_func\u001b[0m\u001b[0;34m)\u001b[0m\u001b[0;34m\u001b[0m\u001b[0;34m\u001b[0m\u001b[0m\n\u001b[1;32m    985\u001b[0m \u001b[0;34m\u001b[0m\u001b[0m\n\u001b[0;32m--> 986\u001b[0;31m       \u001b[0mfunc_outputs\u001b[0m \u001b[0;34m=\u001b[0m \u001b[0mpython_func\u001b[0m\u001b[0;34m(\u001b[0m\u001b[0;34m*\u001b[0m\u001b[0mfunc_args\u001b[0m\u001b[0;34m,\u001b[0m \u001b[0;34m**\u001b[0m\u001b[0mfunc_kwargs\u001b[0m\u001b[0;34m)\u001b[0m\u001b[0;34m\u001b[0m\u001b[0;34m\u001b[0m\u001b[0m\n\u001b[0m\u001b[1;32m    987\u001b[0m \u001b[0;34m\u001b[0m\u001b[0m\n\u001b[1;32m    988\u001b[0m       \u001b[0;31m# invariant: `func_outputs` contains only Tensors, CompositeTensors,\u001b[0m\u001b[0;34m\u001b[0m\u001b[0;34m\u001b[0m\u001b[0;34m\u001b[0m\u001b[0m\n",
            "\u001b[0;32m/usr/local/lib/python3.6/dist-packages/tensorflow/python/eager/def_function.py\u001b[0m in \u001b[0;36mwrapped_fn\u001b[0;34m(*args, **kwds)\u001b[0m\n\u001b[1;32m    598\u001b[0m         \u001b[0;31m# __wrapped__ allows AutoGraph to swap in a converted function. We give\u001b[0m\u001b[0;34m\u001b[0m\u001b[0;34m\u001b[0m\u001b[0;34m\u001b[0m\u001b[0m\n\u001b[1;32m    599\u001b[0m         \u001b[0;31m# the function a weak reference to itself to avoid a reference cycle.\u001b[0m\u001b[0;34m\u001b[0m\u001b[0;34m\u001b[0m\u001b[0;34m\u001b[0m\u001b[0m\n\u001b[0;32m--> 600\u001b[0;31m         \u001b[0;32mreturn\u001b[0m \u001b[0mweak_wrapped_fn\u001b[0m\u001b[0;34m(\u001b[0m\u001b[0;34m)\u001b[0m\u001b[0;34m.\u001b[0m\u001b[0m__wrapped__\u001b[0m\u001b[0;34m(\u001b[0m\u001b[0;34m*\u001b[0m\u001b[0margs\u001b[0m\u001b[0;34m,\u001b[0m \u001b[0;34m**\u001b[0m\u001b[0mkwds\u001b[0m\u001b[0;34m)\u001b[0m\u001b[0;34m\u001b[0m\u001b[0;34m\u001b[0m\u001b[0m\n\u001b[0m\u001b[1;32m    601\u001b[0m     \u001b[0mweak_wrapped_fn\u001b[0m \u001b[0;34m=\u001b[0m \u001b[0mweakref\u001b[0m\u001b[0;34m.\u001b[0m\u001b[0mref\u001b[0m\u001b[0;34m(\u001b[0m\u001b[0mwrapped_fn\u001b[0m\u001b[0;34m)\u001b[0m\u001b[0;34m\u001b[0m\u001b[0;34m\u001b[0m\u001b[0m\n\u001b[1;32m    602\u001b[0m \u001b[0;34m\u001b[0m\u001b[0m\n",
            "\u001b[0;32m/usr/local/lib/python3.6/dist-packages/tensorflow/python/framework/func_graph.py\u001b[0m in \u001b[0;36mwrapper\u001b[0;34m(*args, **kwargs)\u001b[0m\n\u001b[1;32m    971\u001b[0m           \u001b[0;32mexcept\u001b[0m \u001b[0mException\u001b[0m \u001b[0;32mas\u001b[0m \u001b[0me\u001b[0m\u001b[0;34m:\u001b[0m  \u001b[0;31m# pylint:disable=broad-except\u001b[0m\u001b[0;34m\u001b[0m\u001b[0;34m\u001b[0m\u001b[0m\n\u001b[1;32m    972\u001b[0m             \u001b[0;32mif\u001b[0m \u001b[0mhasattr\u001b[0m\u001b[0;34m(\u001b[0m\u001b[0me\u001b[0m\u001b[0;34m,\u001b[0m \u001b[0;34m\"ag_error_metadata\"\u001b[0m\u001b[0;34m)\u001b[0m\u001b[0;34m:\u001b[0m\u001b[0;34m\u001b[0m\u001b[0;34m\u001b[0m\u001b[0m\n\u001b[0;32m--> 973\u001b[0;31m               \u001b[0;32mraise\u001b[0m \u001b[0me\u001b[0m\u001b[0;34m.\u001b[0m\u001b[0mag_error_metadata\u001b[0m\u001b[0;34m.\u001b[0m\u001b[0mto_exception\u001b[0m\u001b[0;34m(\u001b[0m\u001b[0me\u001b[0m\u001b[0;34m)\u001b[0m\u001b[0;34m\u001b[0m\u001b[0;34m\u001b[0m\u001b[0m\n\u001b[0m\u001b[1;32m    974\u001b[0m             \u001b[0;32melse\u001b[0m\u001b[0;34m:\u001b[0m\u001b[0;34m\u001b[0m\u001b[0;34m\u001b[0m\u001b[0m\n\u001b[1;32m    975\u001b[0m               \u001b[0;32mraise\u001b[0m\u001b[0;34m\u001b[0m\u001b[0;34m\u001b[0m\u001b[0m\n",
            "\u001b[0;31mValueError\u001b[0m: in user code:\n\n    /usr/local/lib/python3.6/dist-packages/tensorflow/python/keras/engine/training.py:806 train_function  *\n        return step_function(self, iterator)\n    /usr/local/lib/python3.6/dist-packages/tensorflow/python/keras/engine/training.py:796 step_function  **\n        outputs = model.distribute_strategy.run(run_step, args=(data,))\n    /usr/local/lib/python3.6/dist-packages/tensorflow/python/distribute/distribute_lib.py:1211 run\n        return self._extended.call_for_each_replica(fn, args=args, kwargs=kwargs)\n    /usr/local/lib/python3.6/dist-packages/tensorflow/python/distribute/distribute_lib.py:2585 call_for_each_replica\n        return self._call_for_each_replica(fn, args, kwargs)\n    /usr/local/lib/python3.6/dist-packages/tensorflow/python/distribute/distribute_lib.py:2945 _call_for_each_replica\n        return fn(*args, **kwargs)\n    /usr/local/lib/python3.6/dist-packages/tensorflow/python/keras/engine/training.py:789 run_step  **\n        outputs = model.train_step(data)\n    /usr/local/lib/python3.6/dist-packages/tensorflow/python/keras/engine/training.py:749 train_step\n        y, y_pred, sample_weight, regularization_losses=self.losses)\n    /usr/local/lib/python3.6/dist-packages/tensorflow/python/keras/engine/compile_utils.py:204 __call__\n        loss_value = loss_obj(y_t, y_p, sample_weight=sw)\n    /usr/local/lib/python3.6/dist-packages/tensorflow/python/keras/losses.py:149 __call__\n        losses = ag_call(y_true, y_pred)\n    /usr/local/lib/python3.6/dist-packages/tensorflow/python/keras/losses.py:253 call  **\n        return ag_fn(y_true, y_pred, **self._fn_kwargs)\n    /usr/local/lib/python3.6/dist-packages/tensorflow/python/util/dispatch.py:201 wrapper\n        return target(*args, **kwargs)\n    /usr/local/lib/python3.6/dist-packages/tensorflow/python/keras/losses.py:1535 categorical_crossentropy\n        return K.categorical_crossentropy(y_true, y_pred, from_logits=from_logits)\n    /usr/local/lib/python3.6/dist-packages/tensorflow/python/util/dispatch.py:201 wrapper\n        return target(*args, **kwargs)\n    /usr/local/lib/python3.6/dist-packages/tensorflow/python/keras/backend.py:4687 categorical_crossentropy\n        target.shape.assert_is_compatible_with(output.shape)\n    /usr/local/lib/python3.6/dist-packages/tensorflow/python/framework/tensor_shape.py:1134 assert_is_compatible_with\n        raise ValueError(\"Shapes %s and %s are incompatible\" % (self, other))\n\n    ValueError: Shapes (None, 2, 2, 2) and (None, 2) are incompatible\n"
          ]
        }
      ]
    },
    {
      "cell_type": "code",
      "metadata": {
        "id": "arywJDYUKksz"
      },
      "source": [
        "result=model.predict(X_test, batch_size=None, verbose=0, steps=None)"
      ],
      "execution_count": null,
      "outputs": []
    },
    {
      "cell_type": "code",
      "metadata": {
        "id": "9IyhVxiIbR2C",
        "outputId": "37d5e274-6d68-4f24-b208-ba500fc25d0d",
        "colab": {
          "base_uri": "https://localhost:8080/"
        }
      },
      "source": [
        "result"
      ],
      "execution_count": null,
      "outputs": [
        {
          "output_type": "execute_result",
          "data": {
            "text/plain": [
              "array([[0.0000000e+00, 1.0000000e+00],\n",
              "       [0.0000000e+00, 1.0000000e+00],\n",
              "       [0.0000000e+00, 1.0000000e+00],\n",
              "       [1.0000000e+00, 6.5287519e-17],\n",
              "       [0.0000000e+00, 1.0000000e+00],\n",
              "       [0.0000000e+00, 1.0000000e+00],\n",
              "       [1.0000000e+00, 3.6013436e-08],\n",
              "       [1.0000000e+00, 0.0000000e+00],\n",
              "       [0.0000000e+00, 1.0000000e+00],\n",
              "       [6.8248606e-12, 1.0000000e+00],\n",
              "       [0.0000000e+00, 1.0000000e+00],\n",
              "       [0.0000000e+00, 1.0000000e+00],\n",
              "       [1.0000000e+00, 8.6457547e-26],\n",
              "       [0.0000000e+00, 1.0000000e+00],\n",
              "       [0.0000000e+00, 1.0000000e+00],\n",
              "       [3.4500782e-35, 1.0000000e+00],\n",
              "       [0.0000000e+00, 1.0000000e+00],\n",
              "       [0.0000000e+00, 1.0000000e+00],\n",
              "       [0.0000000e+00, 1.0000000e+00],\n",
              "       [0.0000000e+00, 1.0000000e+00],\n",
              "       [0.0000000e+00, 1.0000000e+00],\n",
              "       [0.0000000e+00, 1.0000000e+00],\n",
              "       [0.0000000e+00, 1.0000000e+00],\n",
              "       [0.0000000e+00, 1.0000000e+00],\n",
              "       [0.0000000e+00, 1.0000000e+00],\n",
              "       [2.9659121e-08, 1.0000000e+00],\n",
              "       [0.0000000e+00, 1.0000000e+00],\n",
              "       [0.0000000e+00, 1.0000000e+00],\n",
              "       [0.0000000e+00, 1.0000000e+00],\n",
              "       [0.0000000e+00, 1.0000000e+00],\n",
              "       [0.0000000e+00, 1.0000000e+00],\n",
              "       [0.0000000e+00, 1.0000000e+00],\n",
              "       [0.0000000e+00, 1.0000000e+00],\n",
              "       [5.6183179e-15, 1.0000000e+00],\n",
              "       [0.0000000e+00, 1.0000000e+00],\n",
              "       [0.0000000e+00, 1.0000000e+00],\n",
              "       [1.0000000e+00, 9.0720903e-10],\n",
              "       [0.0000000e+00, 1.0000000e+00],\n",
              "       [0.0000000e+00, 1.0000000e+00],\n",
              "       [5.9997190e-17, 1.0000000e+00],\n",
              "       [0.0000000e+00, 1.0000000e+00],\n",
              "       [1.3676891e-36, 1.0000000e+00],\n",
              "       [0.0000000e+00, 1.0000000e+00],\n",
              "       [1.0000000e+00, 0.0000000e+00],\n",
              "       [0.0000000e+00, 1.0000000e+00],\n",
              "       [0.0000000e+00, 1.0000000e+00],\n",
              "       [0.0000000e+00, 1.0000000e+00],\n",
              "       [0.0000000e+00, 1.0000000e+00],\n",
              "       [0.0000000e+00, 1.0000000e+00],\n",
              "       [2.6351818e-15, 1.0000000e+00],\n",
              "       [0.0000000e+00, 1.0000000e+00],\n",
              "       [0.0000000e+00, 1.0000000e+00],\n",
              "       [0.0000000e+00, 1.0000000e+00],\n",
              "       [0.0000000e+00, 1.0000000e+00],\n",
              "       [0.0000000e+00, 1.0000000e+00],\n",
              "       [0.0000000e+00, 1.0000000e+00],\n",
              "       [0.0000000e+00, 1.0000000e+00],\n",
              "       [0.0000000e+00, 1.0000000e+00],\n",
              "       [0.0000000e+00, 1.0000000e+00],\n",
              "       [0.0000000e+00, 1.0000000e+00],\n",
              "       [0.0000000e+00, 1.0000000e+00],\n",
              "       [0.0000000e+00, 1.0000000e+00],\n",
              "       [1.0000000e+00, 2.2029356e-08],\n",
              "       [0.0000000e+00, 1.0000000e+00],\n",
              "       [0.0000000e+00, 1.0000000e+00],\n",
              "       [0.0000000e+00, 1.0000000e+00],\n",
              "       [0.0000000e+00, 1.0000000e+00],\n",
              "       [1.0000000e+00, 2.5993885e-23],\n",
              "       [6.9874518e-35, 1.0000000e+00],\n",
              "       [1.0000000e+00, 6.4208416e-25],\n",
              "       [0.0000000e+00, 1.0000000e+00],\n",
              "       [1.0000000e+00, 0.0000000e+00],\n",
              "       [1.0000000e+00, 0.0000000e+00],\n",
              "       [1.0000000e+00, 0.0000000e+00],\n",
              "       [1.0000000e+00, 0.0000000e+00],\n",
              "       [1.0000000e+00, 0.0000000e+00],\n",
              "       [1.0000000e+00, 0.0000000e+00],\n",
              "       [1.0000000e+00, 0.0000000e+00],\n",
              "       [1.0000000e+00, 0.0000000e+00],\n",
              "       [1.0000000e+00, 0.0000000e+00],\n",
              "       [1.0000000e+00, 0.0000000e+00],\n",
              "       [1.0000000e+00, 0.0000000e+00],\n",
              "       [1.0000000e+00, 0.0000000e+00],\n",
              "       [1.0000000e+00, 0.0000000e+00],\n",
              "       [1.0000000e+00, 0.0000000e+00],\n",
              "       [1.0000000e+00, 0.0000000e+00],\n",
              "       [1.0000000e+00, 0.0000000e+00],\n",
              "       [1.0000000e+00, 0.0000000e+00],\n",
              "       [1.0000000e+00, 0.0000000e+00],\n",
              "       [1.0000000e+00, 0.0000000e+00],\n",
              "       [1.0000000e+00, 0.0000000e+00],\n",
              "       [1.0000000e+00, 0.0000000e+00],\n",
              "       [1.0000000e+00, 0.0000000e+00],\n",
              "       [1.0000000e+00, 0.0000000e+00],\n",
              "       [1.0000000e+00, 0.0000000e+00],\n",
              "       [1.0000000e+00, 0.0000000e+00],\n",
              "       [1.0000000e+00, 0.0000000e+00],\n",
              "       [1.0000000e+00, 0.0000000e+00],\n",
              "       [1.0000000e+00, 0.0000000e+00],\n",
              "       [1.0000000e+00, 0.0000000e+00],\n",
              "       [1.0000000e+00, 0.0000000e+00],\n",
              "       [1.0000000e+00, 0.0000000e+00],\n",
              "       [1.0000000e+00, 0.0000000e+00],\n",
              "       [1.0000000e+00, 0.0000000e+00],\n",
              "       [1.0000000e+00, 0.0000000e+00],\n",
              "       [1.0000000e+00, 0.0000000e+00],\n",
              "       [0.0000000e+00, 1.0000000e+00],\n",
              "       [0.0000000e+00, 1.0000000e+00],\n",
              "       [0.0000000e+00, 1.0000000e+00],\n",
              "       [0.0000000e+00, 1.0000000e+00],\n",
              "       [0.0000000e+00, 1.0000000e+00],\n",
              "       [0.0000000e+00, 1.0000000e+00],\n",
              "       [0.0000000e+00, 1.0000000e+00],\n",
              "       [0.0000000e+00, 1.0000000e+00],\n",
              "       [0.0000000e+00, 1.0000000e+00],\n",
              "       [0.0000000e+00, 1.0000000e+00],\n",
              "       [0.0000000e+00, 1.0000000e+00],\n",
              "       [0.0000000e+00, 1.0000000e+00],\n",
              "       [0.0000000e+00, 1.0000000e+00],\n",
              "       [0.0000000e+00, 1.0000000e+00],\n",
              "       [0.0000000e+00, 1.0000000e+00],\n",
              "       [0.0000000e+00, 1.0000000e+00],\n",
              "       [1.0000000e+00, 7.6211846e-33],\n",
              "       [0.0000000e+00, 1.0000000e+00],\n",
              "       [0.0000000e+00, 1.0000000e+00],\n",
              "       [0.0000000e+00, 1.0000000e+00],\n",
              "       [0.0000000e+00, 1.0000000e+00],\n",
              "       [0.0000000e+00, 1.0000000e+00],\n",
              "       [0.0000000e+00, 1.0000000e+00],\n",
              "       [0.0000000e+00, 1.0000000e+00],\n",
              "       [0.0000000e+00, 1.0000000e+00],\n",
              "       [0.0000000e+00, 1.0000000e+00],\n",
              "       [0.0000000e+00, 1.0000000e+00],\n",
              "       [0.0000000e+00, 1.0000000e+00],\n",
              "       [0.0000000e+00, 1.0000000e+00],\n",
              "       [0.0000000e+00, 1.0000000e+00],\n",
              "       [5.4537645e-04, 9.9945468e-01],\n",
              "       [4.8641643e-28, 1.0000000e+00],\n",
              "       [0.0000000e+00, 1.0000000e+00],\n",
              "       [0.0000000e+00, 1.0000000e+00],\n",
              "       [0.0000000e+00, 1.0000000e+00],\n",
              "       [0.0000000e+00, 1.0000000e+00],\n",
              "       [0.0000000e+00, 1.0000000e+00],\n",
              "       [0.0000000e+00, 1.0000000e+00],\n",
              "       [1.0000000e+00, 0.0000000e+00],\n",
              "       [0.0000000e+00, 1.0000000e+00],\n",
              "       [0.0000000e+00, 1.0000000e+00],\n",
              "       [0.0000000e+00, 1.0000000e+00],\n",
              "       [2.5185066e-11, 1.0000000e+00],\n",
              "       [0.0000000e+00, 1.0000000e+00],\n",
              "       [0.0000000e+00, 1.0000000e+00],\n",
              "       [0.0000000e+00, 1.0000000e+00],\n",
              "       [0.0000000e+00, 1.0000000e+00],\n",
              "       [0.0000000e+00, 1.0000000e+00],\n",
              "       [0.0000000e+00, 1.0000000e+00],\n",
              "       [0.0000000e+00, 1.0000000e+00],\n",
              "       [0.0000000e+00, 1.0000000e+00],\n",
              "       [0.0000000e+00, 1.0000000e+00],\n",
              "       [0.0000000e+00, 1.0000000e+00],\n",
              "       [3.2956001e-16, 1.0000000e+00],\n",
              "       [0.0000000e+00, 1.0000000e+00],\n",
              "       [0.0000000e+00, 1.0000000e+00],\n",
              "       [0.0000000e+00, 1.0000000e+00],\n",
              "       [0.0000000e+00, 1.0000000e+00],\n",
              "       [1.0000000e+00, 2.4989436e-20],\n",
              "       [0.0000000e+00, 1.0000000e+00],\n",
              "       [0.0000000e+00, 1.0000000e+00],\n",
              "       [0.0000000e+00, 1.0000000e+00],\n",
              "       [0.0000000e+00, 1.0000000e+00],\n",
              "       [0.0000000e+00, 1.0000000e+00],\n",
              "       [0.0000000e+00, 1.0000000e+00],\n",
              "       [1.0000000e+00, 0.0000000e+00],\n",
              "       [1.0000000e+00, 8.9249316e-11],\n",
              "       [1.0000000e+00, 0.0000000e+00],\n",
              "       [1.0000000e+00, 0.0000000e+00],\n",
              "       [1.0000000e+00, 0.0000000e+00],\n",
              "       [1.0000000e+00, 0.0000000e+00],\n",
              "       [1.0000000e+00, 0.0000000e+00],\n",
              "       [1.0000000e+00, 0.0000000e+00],\n",
              "       [1.0000000e+00, 0.0000000e+00],\n",
              "       [1.0000000e+00, 0.0000000e+00],\n",
              "       [1.0000000e+00, 0.0000000e+00],\n",
              "       [1.0000000e+00, 0.0000000e+00],\n",
              "       [1.0000000e+00, 0.0000000e+00],\n",
              "       [1.0000000e+00, 0.0000000e+00],\n",
              "       [1.0000000e+00, 0.0000000e+00],\n",
              "       [1.0000000e+00, 0.0000000e+00],\n",
              "       [1.0000000e+00, 0.0000000e+00],\n",
              "       [1.0000000e+00, 0.0000000e+00],\n",
              "       [1.0000000e+00, 0.0000000e+00],\n",
              "       [1.0000000e+00, 0.0000000e+00],\n",
              "       [1.0000000e+00, 0.0000000e+00],\n",
              "       [1.0000000e+00, 0.0000000e+00],\n",
              "       [1.0000000e+00, 0.0000000e+00],\n",
              "       [1.0000000e+00, 0.0000000e+00],\n",
              "       [1.0000000e+00, 0.0000000e+00],\n",
              "       [1.0000000e+00, 0.0000000e+00],\n",
              "       [1.0000000e+00, 0.0000000e+00],\n",
              "       [1.0000000e+00, 0.0000000e+00],\n",
              "       [1.0000000e+00, 0.0000000e+00],\n",
              "       [1.0000000e+00, 0.0000000e+00],\n",
              "       [1.0000000e+00, 0.0000000e+00],\n",
              "       [1.0000000e+00, 0.0000000e+00],\n",
              "       [1.0000000e+00, 0.0000000e+00],\n",
              "       [1.0000000e+00, 0.0000000e+00],\n",
              "       [1.0000000e+00, 0.0000000e+00],\n",
              "       [1.0000000e+00, 0.0000000e+00],\n",
              "       [1.0000000e+00, 0.0000000e+00],\n",
              "       [1.0000000e+00, 0.0000000e+00],\n",
              "       [1.0000000e+00, 0.0000000e+00],\n",
              "       [1.0000000e+00, 0.0000000e+00],\n",
              "       [1.0000000e+00, 0.0000000e+00],\n",
              "       [1.0000000e+00, 0.0000000e+00]], dtype=float32)"
            ]
          },
          "metadata": {
            "tags": []
          },
          "execution_count": 90
        }
      ]
    },
    {
      "cell_type": "code",
      "metadata": {
        "id": "EtDZ57vMd17D",
        "outputId": "e3d81c69-e631-4749-8062-8000a2fd362a",
        "colab": {
          "base_uri": "https://localhost:8080/"
        }
      },
      "source": [
        "result[3]"
      ],
      "execution_count": null,
      "outputs": [
        {
          "output_type": "execute_result",
          "data": {
            "text/plain": [
              "array([1.000000e+00, 6.528752e-17], dtype=float32)"
            ]
          },
          "metadata": {
            "tags": []
          },
          "execution_count": 97
        }
      ]
    },
    {
      "cell_type": "code",
      "metadata": {
        "id": "5cCf4y1PiI2-"
      },
      "source": [
        "#結果を1次元に変換\n",
        "result2=np.argmax(result,axis=1)"
      ],
      "execution_count": null,
      "outputs": []
    },
    {
      "cell_type": "code",
      "metadata": {
        "id": "4FwkzJmgiomu",
        "outputId": "860be9dc-e5e4-4380-fa80-15a3de350abe",
        "colab": {
          "base_uri": "https://localhost:8080/"
        }
      },
      "source": [
        "result2"
      ],
      "execution_count": null,
      "outputs": [
        {
          "output_type": "execute_result",
          "data": {
            "text/plain": [
              "array([1, 1, 1, 0, 1, 1, 0, 0, 1, 1, 1, 1, 0, 1, 1, 1, 1, 1, 1, 1, 1, 1,\n",
              "       1, 1, 1, 1, 1, 1, 1, 1, 1, 1, 1, 1, 1, 1, 0, 1, 1, 1, 1, 1, 1, 0,\n",
              "       1, 1, 1, 1, 1, 1, 1, 1, 1, 1, 1, 1, 1, 1, 1, 1, 1, 1, 0, 1, 1, 1,\n",
              "       1, 0, 1, 0, 1, 0, 0, 0, 0, 0, 0, 0, 0, 0, 0, 0, 0, 0, 0, 0, 0, 0,\n",
              "       0, 0, 0, 0, 0, 0, 0, 0, 0, 0, 0, 0, 0, 0, 0, 0, 0, 0, 1, 1, 1, 1,\n",
              "       1, 1, 1, 1, 1, 1, 1, 1, 1, 1, 1, 1, 0, 1, 1, 1, 1, 1, 1, 1, 1, 1,\n",
              "       1, 1, 1, 1, 1, 1, 1, 1, 1, 1, 1, 1, 0, 1, 1, 1, 1, 1, 1, 1, 1, 1,\n",
              "       1, 1, 1, 1, 1, 1, 1, 1, 1, 1, 0, 1, 1, 1, 1, 1, 1, 0, 0, 0, 0, 0,\n",
              "       0, 0, 0, 0, 0, 0, 0, 0, 0, 0, 0, 0, 0, 0, 0, 0, 0, 0, 0, 0, 0, 0,\n",
              "       0, 0, 0, 0, 0, 0, 0, 0, 0, 0, 0, 0, 0, 0, 0])"
            ]
          },
          "metadata": {
            "tags": []
          },
          "execution_count": 104
        }
      ]
    },
    {
      "cell_type": "code",
      "metadata": {
        "id": "b7D0V8DBmLTq"
      },
      "source": [
        "result3=np.vstack((y_test_label, result2))"
      ],
      "execution_count": null,
      "outputs": []
    },
    {
      "cell_type": "code",
      "metadata": {
        "id": "nExW1PC7mZJu",
        "outputId": "aedd78d7-8057-4a5d-dbbe-4fc024251093",
        "colab": {
          "base_uri": "https://localhost:8080/"
        }
      },
      "source": [
        "result3"
      ],
      "execution_count": null,
      "outputs": [
        {
          "output_type": "execute_result",
          "data": {
            "text/plain": [
              "array([['120.jpeg', '197.jpeg', '053.jpeg', '137.jpeg', '051.jpeg',\n",
              "        '062.jpeg', '173.jpeg', '059.jpeg', '177.jpeg', '128.jpeg',\n",
              "        '203.jpeg', '187.jpeg', '029.jpeg', '151.jpeg', '006.jpeg',\n",
              "        '068.jpeg', '150.jpeg', '113.jpeg', '202.jpeg', '211.jpeg',\n",
              "        '191.jpeg', '025.jpeg', '033.jpeg', '176.jpeg', '109.jpeg',\n",
              "        '139.jpeg', '037.jpeg', '103.jpeg', '045.jpeg', '091.jpeg',\n",
              "        '024.jpeg', '146.jpeg', '088.jpeg', '110.jpeg', '101.jpeg',\n",
              "        '081.jpeg', '072.jpeg', '013.jpeg', '094.jpeg', '115.jpeg',\n",
              "        '212.jpeg', '189.jpeg', '038.jpeg', '004.jpeg', '061.jpeg',\n",
              "        '055.jpeg', '162.jpeg', '052.jpeg', '122.jpeg', '111.jpeg',\n",
              "        '102.jpeg', '116.jpeg', '209.jpeg', '083.jpeg', '049.jpeg',\n",
              "        '074.jpeg', '080.jpeg', '160.jpeg', '188.jpeg', '071.jpeg',\n",
              "        '067.jpeg', '123.jpeg', '148.jpeg', '100.jpeg', '075.jpeg',\n",
              "        '205.jpeg', '035.jpeg', '011.jpeg', '019.jpeg', '093.jpeg',\n",
              "        '182.jpeg', '012.jpeg', '200.jpeg', '106.jpeg', '207.jpeg',\n",
              "        '028.jpeg', '079.jpeg', '170.jpeg', '125.jpeg', '031.jpeg',\n",
              "        '086.jpeg', '172.jpeg', '147.jpeg', '159.jpeg', '141.jpeg',\n",
              "        '149.jpeg', '048.jpeg', '155.jpeg', '007.jpeg', '184.jpeg',\n",
              "        '140.jpeg', '117.jpeg', '082.jpeg', '017.jpeg', '008.jpeg',\n",
              "        '036.jpeg', '186.jpeg', '152.jpeg', '126.jpeg', '168.jpeg',\n",
              "        '154.jpeg', '210.jpeg', '131.jpeg', '167.jpeg', '089.jpeg',\n",
              "        '124.jpeg', '144.jpeg', '087.jpeg', '108.jpeg', '084.jpeg',\n",
              "        '178.jpeg', '047.jpeg', '132.jpeg', '179.jpeg', '157.jpeg',\n",
              "        '171.jpeg', '153.jpeg', '142.jpeg', '046.jpeg', '016.jpeg',\n",
              "        '021.jpeg', '130.jpeg', '043.jpeg', '027.jpeg', '077.jpeg',\n",
              "        '183.jpeg', '020.jpeg', '073.jpeg', '174.jpeg', '097.jpeg',\n",
              "        '107.jpeg', '085.jpeg', '121.jpeg', '119.jpeg', '026.jpeg',\n",
              "        '009.jpeg', '064.jpeg', '090.jpeg', '105.jpeg', '044.jpeg',\n",
              "        '040.jpeg', '143.jpeg', '156.jpeg', '175.jpeg', '092.jpeg',\n",
              "        '206.jpeg', '196.jpeg', '030.jpeg', '014.jpeg', '133.jpeg',\n",
              "        '192.jpeg', '127.jpeg', '054.jpeg', '158.jpeg', '057.jpeg',\n",
              "        '208.jpeg', '034.jpeg', '015.jpeg', '066.jpeg', '166.jpeg',\n",
              "        '000.jpeg', '065.jpeg', '134.jpeg', '005.jpeg', '078.jpeg',\n",
              "        '112.jpeg', '198.jpeg', '041.jpeg', '193.jpeg', '114.jpeg',\n",
              "        '164.jpeg', '063.jpeg', '002.jpeg', '161.jpeg', '195.jpeg',\n",
              "        '050.jpeg', '056.jpeg', '096.jpeg', '180.jpeg', '190.jpeg',\n",
              "        '104.jpeg', '129.jpeg', '023.jpeg', '058.jpeg', '136.jpeg',\n",
              "        '185.jpeg', '099.jpeg', '098.jpeg', '032.jpeg', '204.jpeg',\n",
              "        '039.jpeg', '018.jpeg', '001.jpeg', '199.jpeg', '138.jpeg',\n",
              "        '145.jpeg', '181.jpeg', '042.jpeg', '022.jpeg', '169.jpeg',\n",
              "        '003.jpeg', '060.jpeg', '076.jpeg', '135.jpeg', '201.jpeg',\n",
              "        '069.jpeg', '118.jpeg', '163.jpeg', '165.jpeg', '194.jpeg',\n",
              "        '070.jpeg', '010.jpeg', '095.jpeg'],\n",
              "       ['1', '1', '1', '0', '1', '1', '0', '0', '1', '1', '1', '1', '0',\n",
              "        '1', '1', '1', '1', '1', '1', '1', '1', '1', '1', '1', '1', '1',\n",
              "        '1', '1', '1', '1', '1', '1', '1', '1', '1', '1', '0', '1', '1',\n",
              "        '1', '1', '1', '1', '0', '1', '1', '1', '1', '1', '1', '1', '1',\n",
              "        '1', '1', '1', '1', '1', '1', '1', '1', '1', '1', '0', '1', '1',\n",
              "        '1', '1', '0', '1', '0', '1', '0', '0', '0', '0', '0', '0', '0',\n",
              "        '0', '0', '0', '0', '0', '0', '0', '0', '0', '0', '0', '0', '0',\n",
              "        '0', '0', '0', '0', '0', '0', '0', '0', '0', '0', '0', '0', '0',\n",
              "        '0', '0', '1', '1', '1', '1', '1', '1', '1', '1', '1', '1', '1',\n",
              "        '1', '1', '1', '1', '1', '0', '1', '1', '1', '1', '1', '1', '1',\n",
              "        '1', '1', '1', '1', '1', '1', '1', '1', '1', '1', '1', '1', '1',\n",
              "        '1', '0', '1', '1', '1', '1', '1', '1', '1', '1', '1', '1', '1',\n",
              "        '1', '1', '1', '1', '1', '1', '1', '1', '0', '1', '1', '1', '1',\n",
              "        '1', '1', '0', '0', '0', '0', '0', '0', '0', '0', '0', '0', '0',\n",
              "        '0', '0', '0', '0', '0', '0', '0', '0', '0', '0', '0', '0', '0',\n",
              "        '0', '0', '0', '0', '0', '0', '0', '0', '0', '0', '0', '0', '0',\n",
              "        '0', '0', '0', '0', '0']], dtype='<U21')"
            ]
          },
          "metadata": {
            "tags": []
          },
          "execution_count": 109
        }
      ]
    },
    {
      "cell_type": "code",
      "metadata": {
        "id": "ioD__PYez1u9"
      },
      "source": [
        "#行列変換\n",
        "result3_T = result3.T"
      ],
      "execution_count": null,
      "outputs": []
    },
    {
      "cell_type": "code",
      "metadata": {
        "id": "mISjBTvOxsFC",
        "outputId": "603cfb93-a0cf-4d03-99cf-512165c19e84",
        "colab": {
          "base_uri": "https://localhost:8080/"
        }
      },
      "source": [
        "print(result3_T.shape)"
      ],
      "execution_count": null,
      "outputs": [
        {
          "output_type": "stream",
          "text": [
            "(213, 2)\n"
          ],
          "name": "stdout"
        }
      ]
    },
    {
      "cell_type": "code",
      "metadata": {
        "id": "5Kp9jfEg0GlW",
        "outputId": "a25c45f2-b16f-4612-ff6b-e1542c64974f",
        "colab": {
          "base_uri": "https://localhost:8080/"
        }
      },
      "source": [
        "result3_T"
      ],
      "execution_count": null,
      "outputs": [
        {
          "output_type": "execute_result",
          "data": {
            "text/plain": [
              "array([['120.jpeg', '1'],\n",
              "       ['197.jpeg', '1'],\n",
              "       ['053.jpeg', '1'],\n",
              "       ['137.jpeg', '0'],\n",
              "       ['051.jpeg', '1'],\n",
              "       ['062.jpeg', '1'],\n",
              "       ['173.jpeg', '0'],\n",
              "       ['059.jpeg', '0'],\n",
              "       ['177.jpeg', '1'],\n",
              "       ['128.jpeg', '1'],\n",
              "       ['203.jpeg', '1'],\n",
              "       ['187.jpeg', '1'],\n",
              "       ['029.jpeg', '0'],\n",
              "       ['151.jpeg', '1'],\n",
              "       ['006.jpeg', '1'],\n",
              "       ['068.jpeg', '1'],\n",
              "       ['150.jpeg', '1'],\n",
              "       ['113.jpeg', '1'],\n",
              "       ['202.jpeg', '1'],\n",
              "       ['211.jpeg', '1'],\n",
              "       ['191.jpeg', '1'],\n",
              "       ['025.jpeg', '1'],\n",
              "       ['033.jpeg', '1'],\n",
              "       ['176.jpeg', '1'],\n",
              "       ['109.jpeg', '1'],\n",
              "       ['139.jpeg', '1'],\n",
              "       ['037.jpeg', '1'],\n",
              "       ['103.jpeg', '1'],\n",
              "       ['045.jpeg', '1'],\n",
              "       ['091.jpeg', '1'],\n",
              "       ['024.jpeg', '1'],\n",
              "       ['146.jpeg', '1'],\n",
              "       ['088.jpeg', '1'],\n",
              "       ['110.jpeg', '1'],\n",
              "       ['101.jpeg', '1'],\n",
              "       ['081.jpeg', '1'],\n",
              "       ['072.jpeg', '0'],\n",
              "       ['013.jpeg', '1'],\n",
              "       ['094.jpeg', '1'],\n",
              "       ['115.jpeg', '1'],\n",
              "       ['212.jpeg', '1'],\n",
              "       ['189.jpeg', '1'],\n",
              "       ['038.jpeg', '1'],\n",
              "       ['004.jpeg', '0'],\n",
              "       ['061.jpeg', '1'],\n",
              "       ['055.jpeg', '1'],\n",
              "       ['162.jpeg', '1'],\n",
              "       ['052.jpeg', '1'],\n",
              "       ['122.jpeg', '1'],\n",
              "       ['111.jpeg', '1'],\n",
              "       ['102.jpeg', '1'],\n",
              "       ['116.jpeg', '1'],\n",
              "       ['209.jpeg', '1'],\n",
              "       ['083.jpeg', '1'],\n",
              "       ['049.jpeg', '1'],\n",
              "       ['074.jpeg', '1'],\n",
              "       ['080.jpeg', '1'],\n",
              "       ['160.jpeg', '1'],\n",
              "       ['188.jpeg', '1'],\n",
              "       ['071.jpeg', '1'],\n",
              "       ['067.jpeg', '1'],\n",
              "       ['123.jpeg', '1'],\n",
              "       ['148.jpeg', '0'],\n",
              "       ['100.jpeg', '1'],\n",
              "       ['075.jpeg', '1'],\n",
              "       ['205.jpeg', '1'],\n",
              "       ['035.jpeg', '1'],\n",
              "       ['011.jpeg', '0'],\n",
              "       ['019.jpeg', '1'],\n",
              "       ['093.jpeg', '0'],\n",
              "       ['182.jpeg', '1'],\n",
              "       ['012.jpeg', '0'],\n",
              "       ['200.jpeg', '0'],\n",
              "       ['106.jpeg', '0'],\n",
              "       ['207.jpeg', '0'],\n",
              "       ['028.jpeg', '0'],\n",
              "       ['079.jpeg', '0'],\n",
              "       ['170.jpeg', '0'],\n",
              "       ['125.jpeg', '0'],\n",
              "       ['031.jpeg', '0'],\n",
              "       ['086.jpeg', '0'],\n",
              "       ['172.jpeg', '0'],\n",
              "       ['147.jpeg', '0'],\n",
              "       ['159.jpeg', '0'],\n",
              "       ['141.jpeg', '0'],\n",
              "       ['149.jpeg', '0'],\n",
              "       ['048.jpeg', '0'],\n",
              "       ['155.jpeg', '0'],\n",
              "       ['007.jpeg', '0'],\n",
              "       ['184.jpeg', '0'],\n",
              "       ['140.jpeg', '0'],\n",
              "       ['117.jpeg', '0'],\n",
              "       ['082.jpeg', '0'],\n",
              "       ['017.jpeg', '0'],\n",
              "       ['008.jpeg', '0'],\n",
              "       ['036.jpeg', '0'],\n",
              "       ['186.jpeg', '0'],\n",
              "       ['152.jpeg', '0'],\n",
              "       ['126.jpeg', '0'],\n",
              "       ['168.jpeg', '0'],\n",
              "       ['154.jpeg', '0'],\n",
              "       ['210.jpeg', '0'],\n",
              "       ['131.jpeg', '0'],\n",
              "       ['167.jpeg', '0'],\n",
              "       ['089.jpeg', '0'],\n",
              "       ['124.jpeg', '0'],\n",
              "       ['144.jpeg', '1'],\n",
              "       ['087.jpeg', '1'],\n",
              "       ['108.jpeg', '1'],\n",
              "       ['084.jpeg', '1'],\n",
              "       ['178.jpeg', '1'],\n",
              "       ['047.jpeg', '1'],\n",
              "       ['132.jpeg', '1'],\n",
              "       ['179.jpeg', '1'],\n",
              "       ['157.jpeg', '1'],\n",
              "       ['171.jpeg', '1'],\n",
              "       ['153.jpeg', '1'],\n",
              "       ['142.jpeg', '1'],\n",
              "       ['046.jpeg', '1'],\n",
              "       ['016.jpeg', '1'],\n",
              "       ['021.jpeg', '1'],\n",
              "       ['130.jpeg', '1'],\n",
              "       ['043.jpeg', '0'],\n",
              "       ['027.jpeg', '1'],\n",
              "       ['077.jpeg', '1'],\n",
              "       ['183.jpeg', '1'],\n",
              "       ['020.jpeg', '1'],\n",
              "       ['073.jpeg', '1'],\n",
              "       ['174.jpeg', '1'],\n",
              "       ['097.jpeg', '1'],\n",
              "       ['107.jpeg', '1'],\n",
              "       ['085.jpeg', '1'],\n",
              "       ['121.jpeg', '1'],\n",
              "       ['119.jpeg', '1'],\n",
              "       ['026.jpeg', '1'],\n",
              "       ['009.jpeg', '1'],\n",
              "       ['064.jpeg', '1'],\n",
              "       ['090.jpeg', '1'],\n",
              "       ['105.jpeg', '1'],\n",
              "       ['044.jpeg', '1'],\n",
              "       ['040.jpeg', '1'],\n",
              "       ['143.jpeg', '1'],\n",
              "       ['156.jpeg', '1'],\n",
              "       ['175.jpeg', '1'],\n",
              "       ['092.jpeg', '0'],\n",
              "       ['206.jpeg', '1'],\n",
              "       ['196.jpeg', '1'],\n",
              "       ['030.jpeg', '1'],\n",
              "       ['014.jpeg', '1'],\n",
              "       ['133.jpeg', '1'],\n",
              "       ['192.jpeg', '1'],\n",
              "       ['127.jpeg', '1'],\n",
              "       ['054.jpeg', '1'],\n",
              "       ['158.jpeg', '1'],\n",
              "       ['057.jpeg', '1'],\n",
              "       ['208.jpeg', '1'],\n",
              "       ['034.jpeg', '1'],\n",
              "       ['015.jpeg', '1'],\n",
              "       ['066.jpeg', '1'],\n",
              "       ['166.jpeg', '1'],\n",
              "       ['000.jpeg', '1'],\n",
              "       ['065.jpeg', '1'],\n",
              "       ['134.jpeg', '1'],\n",
              "       ['005.jpeg', '1'],\n",
              "       ['078.jpeg', '0'],\n",
              "       ['112.jpeg', '1'],\n",
              "       ['198.jpeg', '1'],\n",
              "       ['041.jpeg', '1'],\n",
              "       ['193.jpeg', '1'],\n",
              "       ['114.jpeg', '1'],\n",
              "       ['164.jpeg', '1'],\n",
              "       ['063.jpeg', '0'],\n",
              "       ['002.jpeg', '0'],\n",
              "       ['161.jpeg', '0'],\n",
              "       ['195.jpeg', '0'],\n",
              "       ['050.jpeg', '0'],\n",
              "       ['056.jpeg', '0'],\n",
              "       ['096.jpeg', '0'],\n",
              "       ['180.jpeg', '0'],\n",
              "       ['190.jpeg', '0'],\n",
              "       ['104.jpeg', '0'],\n",
              "       ['129.jpeg', '0'],\n",
              "       ['023.jpeg', '0'],\n",
              "       ['058.jpeg', '0'],\n",
              "       ['136.jpeg', '0'],\n",
              "       ['185.jpeg', '0'],\n",
              "       ['099.jpeg', '0'],\n",
              "       ['098.jpeg', '0'],\n",
              "       ['032.jpeg', '0'],\n",
              "       ['204.jpeg', '0'],\n",
              "       ['039.jpeg', '0'],\n",
              "       ['018.jpeg', '0'],\n",
              "       ['001.jpeg', '0'],\n",
              "       ['199.jpeg', '0'],\n",
              "       ['138.jpeg', '0'],\n",
              "       ['145.jpeg', '0'],\n",
              "       ['181.jpeg', '0'],\n",
              "       ['042.jpeg', '0'],\n",
              "       ['022.jpeg', '0'],\n",
              "       ['169.jpeg', '0'],\n",
              "       ['003.jpeg', '0'],\n",
              "       ['060.jpeg', '0'],\n",
              "       ['076.jpeg', '0'],\n",
              "       ['135.jpeg', '0'],\n",
              "       ['201.jpeg', '0'],\n",
              "       ['069.jpeg', '0'],\n",
              "       ['118.jpeg', '0'],\n",
              "       ['163.jpeg', '0'],\n",
              "       ['165.jpeg', '0'],\n",
              "       ['194.jpeg', '0'],\n",
              "       ['070.jpeg', '0'],\n",
              "       ['010.jpeg', '0'],\n",
              "       ['095.jpeg', '0']], dtype='<U21')"
            ]
          },
          "metadata": {
            "tags": []
          },
          "execution_count": 116
        }
      ]
    },
    {
      "cell_type": "code",
      "metadata": {
        "id": "7A6b4lPZnr0p"
      },
      "source": [
        "# 結果を張り付け、ファイル出力\n",
        "#import pandas as pd\n",
        "#sample= result3\n",
        "#sample.to_csv(\"./drive/My Drive/Colab Notebooks/AiQuest/en4/submit01.csv\",index=None,header=None,sep='\\t')\n",
        "#np.savetxt('./drive/My Drive/Colab Notebooks/AiQuest/en4/submit01.csv', result3_T,delimiter='\\t')\n",
        "#result3_T.to_csv('./drive/My Drive/Colab Notebooks/AiQuest/en4/submit01.csv',\n",
        "#index=False,header=False,sep='\\t')\n",
        "#import pandas as pd\n",
        "#prediction = pd.DataFrame(predictions, columns=['predictions']).to_csv('prediction.csv')\n",
        "import csv\n",
        "with open('./drive/My Drive/Colab Notebooks/AiQuest/en4/submit01.tsv', 'w') as f: #w:書き込み\n",
        "#    writer = csv.writer(f, lineterminator='\\n') # 改行コードを指定\n",
        "    writer = csv.writer(f, delimiter='\\t') # 改行コードを指定\n",
        "\n",
        "    writer.writerows(result3_T) # 2次元配列の書き込み"
      ],
      "execution_count": null,
      "outputs": []
    },
    {
      "cell_type": "code",
      "metadata": {
        "id": "WMAEK1RionW6"
      },
      "source": [
        "model.save('model.h5')"
      ],
      "execution_count": null,
      "outputs": []
    }
  ]
}